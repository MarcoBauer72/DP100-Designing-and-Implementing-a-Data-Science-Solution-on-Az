{
  "cells": [
    {
      "metadata": {
        "trusted": true
      },
      "cell_type": "code",
      "source": "import urllib.request\nimport json\n\ndata = {\n        \"Inputs\": {\n                \"input1\":\n                [\n                    {\n                            'Recency': \"0\",   \n                            'Frequency': \"0\",   \n                            'Monetary': \"122211\",   \n                            'Time': \"17\",   \n                    }\n                ],\n        },\n    \"GlobalParameters\":  {\n    }\n}\n\nbody = str.encode(json.dumps(data))\n\nurl = 'https://ussouthcentral.services.azureml.net/workspaces/db06eab4ce394712a57eb9f2b6afcbc8/services/46ade4823e72417d90078220b47eff52/execute?api-version=2.0&format=swagger'\napi_key = 'cjrMgCHbKUyxPHe/b0MLJmpZbcHFCpYd5sQHdiuLR3ryN++tbQWZ0nRG/CmqIgaGviiZNqfBvUYcn3S2tFuVVQ==' # Replace this with the API key for the web service\nheaders = {'Content-Type':'application/json', 'Authorization':('Bearer '+ api_key)}\n\nreq = urllib.request.Request(url, body, headers)\n\ntry:\n    response = urllib.request.urlopen(req)\n\n    result = response.read()\n    print(result)\nexcept urllib.error.HTTPError as error:\n    print(\"The request failed with status code: \" + str(error.code))\n\n    # Print the headers - they include the requert ID and the timestamp, which are useful for debugging the failure\n    print(error.info())\n    print(json.loads(error.read().decode(\"utf8\", 'ignore')))",
      "execution_count": 25,
      "outputs": [
        {
          "output_type": "stream",
          "text": "b'{\"Results\":{\"output1\":[{\"Classificacao\":\"0\",\"Probabilidade\":\"0.000998639967292547\"}]}}'\n",
          "name": "stdout"
        }
      ]
    },
    {
      "metadata": {
        "trusted": true
      },
      "cell_type": "code",
      "source": "",
      "execution_count": null,
      "outputs": []
    }
  ],
  "metadata": {
    "kernelspec": {
      "name": "python36",
      "display_name": "Python 3.6",
      "language": "python"
    },
    "language_info": {
      "mimetype": "text/x-python",
      "nbconvert_exporter": "python",
      "name": "python",
      "pygments_lexer": "ipython3",
      "version": "3.6.6",
      "file_extension": ".py",
      "codemirror_mode": {
        "version": 3,
        "name": "ipython"
      }
    }
  },
  "nbformat": 4,
  "nbformat_minor": 2
}