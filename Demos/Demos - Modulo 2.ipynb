{
  "cells": [
    {
      "metadata": {
        "collapsed": true
      },
      "cell_type": "markdown",
      "source": "# Demo 2A"
    },
    {
      "metadata": {
        "trusted": true
      },
      "cell_type": "code",
      "source": "from azureml.core import Workspace, Experiment, Run\nws = Workspace.get(name='BAUERML',\nsubscription_id='52b56929-ee84-495c-91c3-a84dfacbc9d2',\nresource_group='DP'\n)",
      "execution_count": 2,
      "outputs": [
        {
          "output_type": "stream",
          "text": "Performing interactive authentication. Please follow the instructions on the terminal.\nTo sign in, use a web browser to open the page https://microsoft.com/devicelogin and enter the code FANAKH3ST to authenticate.\nInteractive authentication successfully completed.\n",
          "name": "stdout"
        }
      ]
    },
    {
      "metadata": {
        "trusted": true
      },
      "cell_type": "code",
      "source": "ws.get_details()",
      "execution_count": 4,
      "outputs": [
        {
          "output_type": "execute_result",
          "execution_count": 4,
          "data": {
            "text/plain": "{'id': '/subscriptions/52b56929-ee84-495c-91c3-a84dfacbc9d2/resourceGroups/DP/providers/Microsoft.MachineLearningServices/workspaces/BAUERML',\n 'name': 'BAUERML',\n 'location': 'eastus',\n 'type': 'Microsoft.MachineLearningServices/workspaces',\n 'tags': {},\n 'sku': 'Enterprise',\n 'workspaceid': 'd399337a-7a49-478d-a1be-d69a1fbe3add',\n 'description': '',\n 'friendlyName': '',\n 'creationTime': '2020-01-16T03:50:28.5061626+00:00',\n 'keyVault': '/subscriptions/52b56929-ee84-495c-91c3-a84dfacbc9d2/resourcegroups/dp/providers/microsoft.keyvault/vaults/bauerml9283082904',\n 'applicationInsights': '/subscriptions/52b56929-ee84-495c-91c3-a84dfacbc9d2/resourcegroups/dp/providers/microsoft.insights/components/bauerml9162298548',\n 'identityPrincipalId': '73868625-8fe1-450a-a664-2d45177710f1',\n 'identityTenantId': '60623c36-25e7-4dec-a900-05b500441e54',\n 'identityType': 'SystemAssigned',\n 'storageAccount': '/subscriptions/52b56929-ee84-495c-91c3-a84dfacbc9d2/resourcegroups/dp/providers/microsoft.storage/storageaccounts/bauerml3423667442'}"
          },
          "metadata": {}
        }
      ]
    },
    {
      "metadata": {},
      "cell_type": "markdown",
      "source": "Create the configuration file"
    },
    {
      "metadata": {
        "trusted": true
      },
      "cell_type": "code",
      "source": "ws.write_config()",
      "execution_count": 5,
      "outputs": []
    },
    {
      "metadata": {
        "trusted": true
      },
      "cell_type": "markdown",
      "source": "Log something to the workspace"
    },
    {
      "metadata": {
        "trusted": true
      },
      "cell_type": "code",
      "source": "from azureml.core import Experiment\n# create an experiment\nexp = Experiment(workspace=ws, name='dummy_experiment')\n# start a run\nrun = exp.start_logging()\n# log a number\nrun.log('trial', 30)\n# log a list (Fibonacci numbers)\nrun.log_list('minha lista', [1, 1, 2, 3, 5, 8, 13, 21, 34, 55])\n# finish the run\nrun.complete()\nprint('Execution complete')",
      "execution_count": 6,
      "outputs": [
        {
          "output_type": "stream",
          "text": "Execution complete\n",
          "name": "stdout"
        }
      ]
    },
    {
      "metadata": {},
      "cell_type": "markdown",
      "source": "View logged results"
    },
    {
      "metadata": {
        "trusted": true
      },
      "cell_type": "code",
      "source": "print(run.get_portal_url())",
      "execution_count": 7,
      "outputs": [
        {
          "output_type": "stream",
          "text": "https://ml.azure.com/experiments/dummy_experiment/runs/7e86ed2b-484e-4ff4-8cc9-5c9f7f9e7338?wsid=/subscriptions/52b56929-ee84-495c-91c3-a84dfacbc9d2/resourcegroups/DP/workspaces/BAUERML\n",
          "name": "stdout"
        }
      ]
    },
    {
      "metadata": {
        "trusted": true
      },
      "cell_type": "markdown",
      "source": "# Demo 2B"
    },
    {
      "metadata": {},
      "cell_type": "markdown",
      "source": "Train a local model with the Azure Machine Learning service"
    },
    {
      "metadata": {
        "trusted": true
      },
      "cell_type": "code",
      "source": "# import packages\nimport os\nimport urllib.request\n#create a fold for the dataset\nos.makedirs('./data', exist_ok = True)\n# load dataset to the directory, as you can see, you need to load train sets and test sets seperately\nurllib.request.urlretrieve('http://yann.lecun.com/exdb/mnist/train-images-idx3-ubyte.gz', filename='./data/train-images.gz')\nurllib.request.urlretrieve('http://yann.lecun.com/exdb/mnist/train-labels-idx1-ubyte.gz', filename='./data/train-labels.gz')\nurllib.request.urlretrieve('http://yann.lecun.com/exdb/mnist/t10k-images-idx3-ubyte.gz', filename='./data/test-images.gz')\nurllib.request.urlretrieve('http://yann.lecun.com/exdb/mnist/t10k-labels-idx1-ubyte.gz', filename='./data/test-labels.gz')\nprint('Code executed')",
      "execution_count": 8,
      "outputs": [
        {
          "output_type": "stream",
          "text": "Code executed\n",
          "name": "stdout"
        }
      ]
    },
    {
      "metadata": {},
      "cell_type": "markdown",
      "source": "Split the data into training and test sets"
    },
    {
      "metadata": {
        "trusted": true
      },
      "cell_type": "code",
      "source": "import gzip\nimport numpy as np\nimport struct\n# load compressed MNIST gz files and return numpy arrays\ndef load_data(filename, label=False):\n    with gzip.open(filename) as gz:\n        struct.unpack('I', gz.read(4))\n        n_items = struct.unpack('>I', gz.read(4))\n        if not label:\n            n_rows = struct.unpack('>I', gz.read(4))[0]\n            n_cols = struct.unpack('>I', gz.read(4))[0]\n            res = np.frombuffer(gz.read(n_items[0] * n_rows * n_cols),\ndtype=np.uint8)\n            res = res.reshape(n_items[0], n_rows * n_cols)\n        else:\n            res = np.frombuffer(gz.read(n_items[0]), dtype=np.uint8)\n            res = res.reshape(n_items[0], 1)\n        return res\n# one-hot encode a 1-D array\ndef one_hot_encode(array, num_of_classes):\n    return np.eye(num_of_classes)[array.reshape(-1)]\n# load the data...\n# To help the model to converge faster , you shrink the intensity values (X) from 0-255 to 0-1\nX_train = load_data('./data/train-images.gz', False) / 255.0\ny_train = load_data('./data/train-labels.gz', True).reshape(-1)\nX_test = load_data('./data/test-images.gz', False) / 255.0\ny_test = load_data('./data/test-labels.gz', True).reshape(-1)\nprint('Code executed')",
      "execution_count": 9,
      "outputs": [
        {
          "output_type": "stream",
          "text": "Code executed\n",
          "name": "stdout"
        }
      ]
    },
    {
      "metadata": {},
      "cell_type": "markdown",
      "source": "Let's display some images from the dataset"
    },
    {
      "metadata": {
        "trusted": true,
        "scrolled": true
      },
      "cell_type": "code",
      "source": "%matplotlib inline\nimport matplotlib.pyplot as plt\n\n# now let's show some randomly chosen images from the traininng set.\ncount = 0\nsample_size = 30\nplt.figure(figsize = (16, 6))\nfor i in np.random.permutation(X_train.shape[0])[:sample_size]:\n    count = count + 1\n    plt.subplot(1, sample_size, count)\n    plt.axhline('')\n    plt.axvline('')\n    plt.text(x=10, y=-10, s=y_train[i], fontsize=18)\n    plt.imshow(X_train[i].reshape(28, 28), cmap=plt.cm.Greys)\n    plt.show()",
      "execution_count": 10,
      "outputs": [
        {
          "output_type": "display_data",
          "data": {
            "image/png": "[encoded data removed]",
            "text/plain": "<Figure size 1152x432 with 1 Axes>"
          },
          "metadata": {
            "needs_background": "light"
          }
        },
        {
          "output_type": "display_data",
          "data": {
            "image/png": "[encoded data removed]",
            "text/plain": "<Figure size 432x288 with 1 Axes>"
          },
          "metadata": {
            "needs_background": "light"
          }
        },
        {
          "output_type": "display_data",
          "data": {
            "image/png": "[encoded data removed]",
            "text/plain": "<Figure size 432x288 with 1 Axes>"
          },
          "metadata": {
            "needs_background": "light"
          }
        },
        {
          "output_type": "display_data",
          "data": {
            "image/png": "[encoded data removed]",
            "text/plain": "<Figure size 432x288 with 1 Axes>"
          },
          "metadata": {
            "needs_background": "light"
          }
        },
        {
          "output_type": "display_data",
          "data": {
            "image/png": "[encoded data removed]",
            "text/plain": "<Figure size 432x288 with 1 Axes>"
          },
          "metadata": {
            "needs_background": "light"
          }
        },
        {
          "output_type": "display_data",
          "data": {
            "image/png": "[encoded data removed]",
            "text/plain": "<Figure size 432x288 with 1 Axes>"
          },
          "metadata": {
            "needs_background": "light"
          }
        },
        {
          "output_type": "display_data",
          "data": {
            "image/png": "[encoded data removed]",
            "text/plain": "<Figure size 432x288 with 1 Axes>"
          },
          "metadata": {
            "needs_background": "light"
          }
        },
        {
          "output_type": "display_data",
          "data": {
            "image/png": "[encoded data removed]",
            "text/plain": "<Figure size 432x288 with 1 Axes>"
          },
          "metadata": {
            "needs_background": "light"
          }
        },
        {
          "output_type": "display_data",
          "data": {
            "image/png": "[encoded data removed]",
            "text/plain": "<Figure size 432x288 with 1 Axes>"
          },
          "metadata": {
            "needs_background": "light"
          }
        },
        {
          "output_type": "display_data",
          "data": {
            "image/png": "[encoded data removed]",
            "text/plain": "<Figure size 432x288 with 1 Axes>"
          },
          "metadata": {
            "needs_background": "light"
          }
        },
        {
          "output_type": "display_data",
          "data": {
            "image/png": "[encoded data removed]",
            "text/plain": "<Figure size 432x288 with 1 Axes>"
          },
          "metadata": {
            "needs_background": "light"
          }
        },
        {
          "output_type": "display_data",
          "data": {
            "image/png": "[encoded data removed]",
            "text/plain": "<Figure size 432x288 with 1 Axes>"
          },
          "metadata": {
            "needs_background": "light"
          }
        },
        {
          "output_type": "display_data",
          "data": {
            "image/png": "[encoded data removed]",
            "text/plain": "<Figure size 432x288 with 1 Axes>"
          },
          "metadata": {
            "needs_background": "light"
          }
        },
        {
          "output_type": "display_data",
          "data": {
            "image/png": "[encoded data removed]",
            "text/plain": "<Figure size 432x288 with 1 Axes>"
          },
          "metadata": {
            "needs_background": "light"
          }
        },
        {
          "output_type": "display_data",
          "data": {
            "image/png": "[encoded data removed]",
            "text/plain": "<Figure size 432x288 with 1 Axes>"
          },
          "metadata": {
            "needs_background": "light"
          }
        },
        {
          "output_type": "display_data",
          "data": {
            "image/png": "[encoded data removed]",
            "text/plain": "<Figure size 432x288 with 1 Axes>"
          },
          "metadata": {
            "needs_background": "light"
          }
        },
        {
          "output_type": "display_data",
          "data": {
            "image/png": "[encoded data removed]",
            "text/plain": "<Figure size 432x288 with 1 Axes>"
          },
          "metadata": {
            "needs_background": "light"
          }
        },
        {
          "output_type": "display_data",
          "data": {
            "image/png": "[encoded data removed]",
            "text/plain": "<Figure size 432x288 with 1 Axes>"
          },
          "metadata": {
            "needs_background": "light"
          }
        },
        {
          "output_type": "display_data",
          "data": {
            "image/png": "[encoded data removed]",
            "text/plain": "<Figure size 432x288 with 1 Axes>"
          },
          "metadata": {
            "needs_background": "light"
          }
        },
        {
          "output_type": "display_data",
          "data": {
            "image/png": "[encoded data removed]",
            "text/plain": "<Figure size 432x288 with 1 Axes>"
          },
          "metadata": {
            "needs_background": "light"
          }
        },
        {
          "output_type": "display_data",
          "data": {
            "image/png": "[encoded data removed]",
            "text/plain": "<Figure size 432x288 with 1 Axes>"
          },
          "metadata": {
            "needs_background": "light"
          }
        },
        {
          "output_type": "display_data",
          "data": {
            "image/png": "[encoded data removed]",
            "text/plain": "<Figure size 432x288 with 1 Axes>"
          },
          "metadata": {
            "needs_background": "light"
          }
        },
        {
          "output_type": "display_data",
          "data": {
            "image/png": "[encoded data removed]",
            "text/plain": "<Figure size 432x288 with 1 Axes>"
          },
          "metadata": {
            "needs_background": "light"
          }
        },
        {
          "output_type": "display_data",
          "data": {
            "image/png": "[encoded data removed]",
            "text/plain": "<Figure size 432x288 with 1 Axes>"
          },
          "metadata": {
            "needs_background": "light"
          }
        },
        {
          "output_type": "display_data",
          "data": {
            "image/png": "[encoded data removed]",
            "text/plain": "<Figure size 432x288 with 1 Axes>"
          },
          "metadata": {
            "needs_background": "light"
          }
        },
        {
          "output_type": "display_data",
          "data": {
            "image/png": "[encoded data removed]",
            "text/plain": "<Figure size 432x288 with 1 Axes>"
          },
          "metadata": {
            "needs_background": "light"
          }
        },
        {
          "output_type": "display_data",
          "data": {
            "image/png": "[encoded data removed]",
            "text/plain": "<Figure size 432x288 with 1 Axes>"
          },
          "metadata": {
            "needs_background": "light"
          }
        },
        {
          "output_type": "display_data",
          "data": {
            "image/png": "[encoded data removed]",
            "text/plain": "<Figure size 432x288 with 1 Axes>"
          },
          "metadata": {
            "needs_background": "light"
          }
        },
        {
          "output_type": "display_data",
          "data": {
            "image/png": "[encoded data removed]",
            "text/plain": "<Figure size 432x288 with 1 Axes>"
          },
          "metadata": {
            "needs_background": "light"
          }
        },
        {
          "output_type": "display_data",
          "data": {
            "image/png": "[encoded data removed]",
            "text/plain": "<Figure size 432x288 with 1 Axes>"
          },
          "metadata": {
            "needs_background": "light"
          }
        }
      ]
    },
    {
      "metadata": {},
      "cell_type": "markdown",
      "source": "Training a Logistic Regression Model"
    },
    {
      "metadata": {
        "trusted": true
      },
      "cell_type": "code",
      "source": "from sklearn.linear_model import LogisticRegression\n#load model\nclf = LogisticRegression()\n#fit model\nclf.fit(X_train, y_train)\n#evaluate model using test set\ny_hat = clf.predict(X_test)\n#print the accuracy\nprint(np.average(y_hat == y_test))\nprint('Code executed')",
      "execution_count": null,
      "outputs": [
        {
          "output_type": "stream",
          "text": "/home/nbuser/anaconda3_501/lib/python3.6/site-packages/sklearn/linear_model/logistic.py:433: FutureWarning: Default solver will be changed to 'lbfgs' in 0.22. Specify a solver to silence this warning.\n  FutureWarning)\n/home/nbuser/anaconda3_501/lib/python3.6/site-packages/sklearn/linear_model/logistic.py:460: FutureWarning: Default multi_class will be changed to 'auto' in 0.22. Specify the multi_class option to silence this warning.\n  \"this warning.\", FutureWarning)\n",
          "name": "stderr"
        }
      ]
    },
    {
      "metadata": {},
      "cell_type": "markdown",
      "source": "Creating an Azure Machine Learning Experiment"
    },
    {
      "metadata": {
        "trusted": true
      },
      "cell_type": "code",
      "source": "# Add this to top of code...\n%matplotlib inline\nimport numpy as np\nimport matplotlib\nimport matplotlib.pyplot as plt\nimport azureml\nfrom azureml.core import Workspace, Run\n# check core SDK version number\nprint(\"Azure ML SDK Version: \", azureml.core.VERSION)",
      "execution_count": null,
      "outputs": []
    },
    {
      "metadata": {},
      "cell_type": "markdown",
      "source": "If you have created an Azure Machine Learning service Workspace previously, run the code below to get a reference to it"
    },
    {
      "metadata": {
        "trusted": true
      },
      "cell_type": "code",
      "source": "ws = Workspace.get(name='BAUERML',\nsubscription_id='52b56929-ee84-495c-91c3-a84dfacbc9d2',\nresource_group='DP'\n)",
      "execution_count": 15,
      "outputs": []
    },
    {
      "metadata": {},
      "cell_type": "markdown",
      "source": "If you do not have an Azure Machine Learning service Workspace already, you can create one with the code below"
    },
    {
      "metadata": {
        "trusted": true
      },
      "cell_type": "code",
      "source": "from azureml.core import Workspace\nws = Workspace.create(name='BAUERML',\nsubscription_id='52b56929-ee84-495c-91c3-a84dfacbc9d2',\nresource_group='DP',\ncreate_resource_group=True,\nlocation='eastus'\n)",
      "execution_count": 12,
      "outputs": [
        {
          "output_type": "error",
          "ename": "WorkspaceException",
          "evalue": "WorkspaceException:\n\tMessage: Workspace with name 'BAUERML' already exists under resource group with name 'DP'.\n\tInnerException None\n\tErrorResponse \n{\n    \"error\": {\n        \"message\": \"Workspace with name 'BAUERML' already exists under resource group with name 'DP'.\"\n    }\n}",
          "traceback": [
            "\u001b[0;31m---------------------------------------------------------------------------\u001b[0m",
            "\u001b[0;31mWorkspaceException\u001b[0m                        Traceback (most recent call last)",
            "\u001b[0;32m<ipython-input-12-98958c73a17a>\u001b[0m in \u001b[0;36m<module>\u001b[0;34m\u001b[0m\n\u001b[1;32m      4\u001b[0m \u001b[0mresource_group\u001b[0m\u001b[0;34m=\u001b[0m\u001b[0;34m'DP'\u001b[0m\u001b[0;34m,\u001b[0m\u001b[0;34m\u001b[0m\u001b[0m\n\u001b[1;32m      5\u001b[0m \u001b[0mcreate_resource_group\u001b[0m\u001b[0;34m=\u001b[0m\u001b[0;32mTrue\u001b[0m\u001b[0;34m,\u001b[0m\u001b[0;34m\u001b[0m\u001b[0m\n\u001b[0;32m----> 6\u001b[0;31m \u001b[0mlocation\u001b[0m\u001b[0;34m=\u001b[0m\u001b[0;34m'eastus'\u001b[0m\u001b[0;34m\u001b[0m\u001b[0m\n\u001b[0m\u001b[1;32m      7\u001b[0m )\n",
            "\u001b[0;32m~/anaconda3_501/lib/python3.6/site-packages/azureml/core/workspace.py\u001b[0m in \u001b[0;36mcreate\u001b[0;34m(name, auth, subscription_id, resource_group, location, create_resource_group, sku, friendly_name, storage_account, key_vault, app_insights, container_registry, default_cpu_compute_target, default_gpu_compute_target, exist_ok, show_output)\u001b[0m\n\u001b[1;32m    414\u001b[0m                                         \u001b[0mdefault_cpu_compute_target\u001b[0m\u001b[0;34m=\u001b[0m\u001b[0mdefault_cpu_compute_target\u001b[0m\u001b[0;34m,\u001b[0m\u001b[0;34m\u001b[0m\u001b[0m\n\u001b[1;32m    415\u001b[0m                                         \u001b[0mdefault_gpu_compute_target\u001b[0m\u001b[0;34m=\u001b[0m\u001b[0mdefault_gpu_compute_target\u001b[0m\u001b[0;34m,\u001b[0m\u001b[0;34m\u001b[0m\u001b[0m\n\u001b[0;32m--> 416\u001b[0;31m                                         exist_ok=exist_ok, show_output=show_output)\n\u001b[0m\u001b[1;32m    417\u001b[0m \u001b[0;34m\u001b[0m\u001b[0m\n\u001b[1;32m    418\u001b[0m     \u001b[0;34m@\u001b[0m\u001b[0mstaticmethod\u001b[0m\u001b[0;34m\u001b[0m\u001b[0m\n",
            "\u001b[0;32m~/anaconda3_501/lib/python3.6/site-packages/azureml/core/workspace.py\u001b[0m in \u001b[0;36m_create_legacy\u001b[0;34m(auth, subscription_id, resource_group_name, workspace_name, location, create_resource_group, sku, friendly_name, storage_account, key_vault, app_insights, container_registry, default_cpu_compute_target, default_gpu_compute_target, exist_ok, show_output)\u001b[0m\n\u001b[1;32m   1048\u001b[0m                                                                \u001b[0mdefault_cpu_compute_target\u001b[0m\u001b[0;34m=\u001b[0m\u001b[0mdefault_cpu_compute_target\u001b[0m\u001b[0;34m,\u001b[0m\u001b[0;34m\u001b[0m\u001b[0m\n\u001b[1;32m   1049\u001b[0m                                                                \u001b[0mdefault_gpu_compute_target\u001b[0m\u001b[0;34m=\u001b[0m\u001b[0mdefault_gpu_compute_target\u001b[0m\u001b[0;34m,\u001b[0m\u001b[0;34m\u001b[0m\u001b[0m\n\u001b[0;32m-> 1050\u001b[0;31m                                                                exist_ok=exist_ok, show_output=show_output)\n\u001b[0m\u001b[1;32m   1051\u001b[0m         \u001b[0;32mif\u001b[0m \u001b[0;32mnot\u001b[0m \u001b[0mworkspace_object_autorest\u001b[0m\u001b[0;34m:\u001b[0m\u001b[0;34m\u001b[0m\u001b[0m\n\u001b[1;32m   1052\u001b[0m             \u001b[0;32mraise\u001b[0m \u001b[0mWorkspaceException\u001b[0m\u001b[0;34m(\u001b[0m\u001b[0;34m\"Couldn't create the workspace.\"\u001b[0m\u001b[0;34m)\u001b[0m\u001b[0;34m\u001b[0m\u001b[0m\n",
            "\u001b[0;32m~/anaconda3_501/lib/python3.6/site-packages/azureml/_project/_commands.py\u001b[0m in \u001b[0;36mcreate_workspace\u001b[0;34m(auth, resource_group_name, workspace_name, subscription_id, location, create_resource_group, sku, friendly_name, storage_account, key_vault, app_insights, containerRegistry, default_cpu_compute_target, default_gpu_compute_target, exist_ok, show_output)\u001b[0m\n\u001b[1;32m    303\u001b[0m         \u001b[0mexist_ok\u001b[0m\u001b[0;34m=\u001b[0m\u001b[0mexist_ok\u001b[0m\u001b[0;34m,\u001b[0m\u001b[0;34m\u001b[0m\u001b[0m\n\u001b[1;32m    304\u001b[0m         \u001b[0mshow_output\u001b[0m\u001b[0;34m=\u001b[0m\u001b[0mshow_output\u001b[0m\u001b[0;34m,\u001b[0m\u001b[0;34m\u001b[0m\u001b[0m\n\u001b[0;32m--> 305\u001b[0;31m         sku=sku)\n\u001b[0m\u001b[1;32m    306\u001b[0m \u001b[0;34m\u001b[0m\u001b[0m\n\u001b[1;32m    307\u001b[0m \u001b[0;34m\u001b[0m\u001b[0m\n",
            "\u001b[0;32m~/anaconda3_501/lib/python3.6/site-packages/azureml/_workspace/custom.py\u001b[0m in \u001b[0;36mml_workspace_create_resources\u001b[0;34m(auth, client, resource_group_name, workspace_name, location, subscription_id, friendly_name, storage_account, key_vault, app_insights, containerRegistry, default_cpu_compute_target, default_gpu_compute_target, exist_ok, show_output, sku)\u001b[0m\n\u001b[1;32m     53\u001b[0m             raise WorkspaceException(\"Workspace with name '{0}' already exists under\"\n\u001b[1;32m     54\u001b[0m                                      \" resource group with name '{1}'.\".format(workspace_name,\n\u001b[0;32m---> 55\u001b[0;31m                                                                                resource_group_name))\n\u001b[0m\u001b[1;32m     56\u001b[0m     \u001b[0;32mexcept\u001b[0m \u001b[0mErrorResponseWrapperException\u001b[0m \u001b[0;32mas\u001b[0m \u001b[0mresponse_exception\u001b[0m\u001b[0;34m:\u001b[0m\u001b[0;34m\u001b[0m\u001b[0m\n\u001b[1;32m     57\u001b[0m         \u001b[0;32mif\u001b[0m \u001b[0mresponse_exception\u001b[0m\u001b[0;34m.\u001b[0m\u001b[0mresponse\u001b[0m\u001b[0;34m.\u001b[0m\u001b[0mstatus_code\u001b[0m \u001b[0;34m!=\u001b[0m \u001b[0;36m404\u001b[0m\u001b[0;34m:\u001b[0m\u001b[0;34m\u001b[0m\u001b[0m\n",
            "\u001b[0;31mWorkspaceException\u001b[0m: WorkspaceException:\n\tMessage: Workspace with name 'BAUERML' already exists under resource group with name 'DP'.\n\tInnerException None\n\tErrorResponse \n{\n    \"error\": {\n        \"message\": \"Workspace with name 'BAUERML' already exists under resource group with name 'DP'.\"\n    }\n}"
          ]
        }
      ]
    },
    {
      "metadata": {
        "trusted": true
      },
      "cell_type": "code",
      "source": "ws.get_details()",
      "execution_count": 16,
      "outputs": [
        {
          "output_type": "execute_result",
          "execution_count": 16,
          "data": {
            "text/plain": "{'id': '/subscriptions/52b56929-ee84-495c-91c3-a84dfacbc9d2/resourceGroups/DP100/providers/Microsoft.MachineLearningServices/workspaces/MBAUER',\n 'name': 'MBAUER',\n 'location': 'eastus',\n 'type': 'Microsoft.MachineLearningServices/workspaces',\n 'tags': {},\n 'workspaceid': 'bdc1daab-98cf-4d51-b3d7-f1b801de5d1e',\n 'description': '',\n 'friendlyName': '',\n 'creationTime': '2019-10-31T21:35:16.9662835+00:00',\n 'keyVault': '/subscriptions/52b56929-ee84-495c-91c3-a84dfacbc9d2/resourcegroups/dp100/providers/microsoft.keyvault/vaults/mbauer8790801097',\n 'applicationInsights': '/subscriptions/52b56929-ee84-495c-91c3-a84dfacbc9d2/resourcegroups/dp100/providers/microsoft.insights/components/mbauer1670285242',\n 'identityPrincipalId': 'dfde1a6c-a094-43bc-af1d-a5b4b62b91b2',\n 'identityTenantId': '60623c36-25e7-4dec-a900-05b500441e54',\n 'identityType': 'SystemAssigned',\n 'storageAccount': '/subscriptions/52b56929-ee84-495c-91c3-a84dfacbc9d2/resourcegroups/dp100/providers/microsoft.storage/storageaccounts/mbauer5219484084'}"
          },
          "metadata": {}
        }
      ]
    },
    {
      "metadata": {},
      "cell_type": "markdown",
      "source": "Create an experiment and a run within this workspace"
    },
    {
      "metadata": {
        "trusted": true
      },
      "cell_type": "code",
      "source": "#Create an experiment\nfrom azureml.core import Experiment\nexperiment = Experiment(workspace = ws, name = \"another-experiment\")\n#Create a run\nrun = experiment.start_logging()\nrun.log(\"trial\",1)\nrun.complete()\nprint('Code executed')",
      "execution_count": 17,
      "outputs": [
        {
          "output_type": "stream",
          "text": "Code executed\n",
          "name": "stdout"
        }
      ]
    },
    {
      "metadata": {},
      "cell_type": "markdown",
      "source": "View logged results"
    },
    {
      "metadata": {
        "trusted": true
      },
      "cell_type": "code",
      "source": "print(run.get_portal_url())",
      "execution_count": 42,
      "outputs": [
        {
          "output_type": "stream",
          "text": "https://mlworkspace.azure.ai/portal/subscriptions/52b56929-ee84-495c-91c3-a84dfacbc9d2/resourceGroups/DP100/providers/Microsoft.MachineLearningServices/workspaces/MLWKSPACE-BAUER/experiments/another-experiment/runs/6bee0bb8-45f8-450a-9108-b1071b9e9c9a\n",
          "name": "stdout"
        }
      ]
    },
    {
      "metadata": {},
      "cell_type": "markdown",
      "source": "# Demo 2C  - Hyperparameters"
    },
    {
      "metadata": {},
      "cell_type": "markdown",
      "source": "You learned that a compute target is the compute resource used to run a training script or host service\ndeployment. Here you create an Azure Machine Learning Compute (AmlCompute) as our compute\nresource. The first step is to create a remote compute target"
    },
    {
      "metadata": {
        "trusted": true
      },
      "cell_type": "code",
      "source": "from azureml.core.compute import AmlCompute\nfrom azureml.core.compute import ComputeTarget\nimport os\n# Step 1: name the cluster, set minimal and maximal number of nodes\ncompute_name = os.environ.get(\"AML_COMPUTE_CLUSTER_NAME\", \"cpucluster\")\nmin_nodes = os.environ.get(\"AML_COMPUTE_CLUSTER_MIN_NODES\", 0)\nmax_nodes = os.environ.get(\"AML_COMPUTE_CLUSTER_MAX_NODES\", 3)\n# Step 2: choose environment variables\nvm_size = os.environ.get(\"AML_COMPUTE_CLUSTER_SKU\", \"STANDARD_D2_V2\")\nprovisioning_config = AmlCompute.provisioning_configuration(vm_size = vm_size,min_nodes =min_nodes,max_nodes = max_nodes)\n# create the cluster\ncompute_target = ComputeTarget.create(ws, compute_name, provisioning_config)\nprint('Code executed')",
      "execution_count": 18,
      "outputs": [
        {
          "output_type": "stream",
          "text": "Code executed\n",
          "name": "stdout"
        }
      ]
    },
    {
      "metadata": {},
      "cell_type": "markdown",
      "source": "Load Data and Create the Modeling Script"
    },
    {
      "metadata": {
        "trusted": true
      },
      "cell_type": "code",
      "source": "#upload data using get_default_datastore()\nds = ws.get_default_datastore()\nds.upload(src_dir='./data', target_path='mnist', overwrite=True, show_progress=\nTrue)\nprint('Code executed')",
      "execution_count": 19,
      "outputs": [
        {
          "output_type": "stream",
          "text": "Uploading an estimated of 4 files\nUploading ./data/test-images.gz\nUploading ./data/test-labels.gz\nUploading ./data/train-images.gz\nUploading ./data/train-labels.gz\nUploaded ./data/train-labels.gz, 1 files out of an estimated total of 4\nUploaded ./data/test-labels.gz, 2 files out of an estimated total of 4\nUploaded ./data/test-images.gz, 3 files out of an estimated total of 4\nUploaded ./data/train-images.gz, 4 files out of an estimated total of 4\nUploaded 4 files\nCode executed\n",
          "name": "stdout"
        }
      ]
    },
    {
      "metadata": {},
      "cell_type": "markdown",
      "source": "Then you create a directory to save our training Python code"
    },
    {
      "metadata": {
        "trusted": true
      },
      "cell_type": "code",
      "source": "#import os if you haven't done so\nimport os\n#create folder\nfolder_training_script= './trial_model_mnist'\nos.makedirs(folder_training_script, exist_ok=True)",
      "execution_count": 20,
      "outputs": []
    },
    {
      "metadata": {},
      "cell_type": "markdown",
      "source": "Finally, let's prepare our model training script. Note that in this script, you are defining three parameters.\nThe first parameter is for finding the data stored on the cloud, or for the path. The other two parameters\nare used to define the parameter k in the kNN algorithm. ‘kmax’ limits the maximum value of k, and\n'kinterval' decides the interval between each k"
    },
    {
      "metadata": {
        "trusted": true
      },
      "cell_type": "code",
      "source": "%%writefile $folder_training_script/train.py\n# functions needed by downstream code...\n# Copyright (c) Microsoft Corporation. All rights reserved.\n# Licensed under the MIT License.\nimport gzip\nimport numpy as np\nimport struct\n# load compressed MNIST gz files and return numpy arrays\ndef load_data(filename, label=False):\n    with gzip.open(filename) as gz:\n        struct.unpack('I', gz.read(4))\n        n_items = struct.unpack('>I', gz.read(4))\n    if not label:\n        n_rows = struct.unpack('>I', gz.read(4))[0]\n        n_cols = struct.unpack('>I', gz.read(4))[0]\n        res = np.frombuffer(gz.read(n_items[0] * n_rows * n_cols),\n        dtype=np.uint8)\n        res = res.reshape(n_items[0], n_rows * n_cols)\n    else:\n        res = np.frombuffer(gz.read(n_items[0]), dtype=np.uint8)\n        res = res.reshape(n_items[0], 1)\n    return res\n# one-hot encode a 1-D array\ndef one_hot_encode(array, num_of_classes):\n    return np.eye(num_of_classes)[array.reshape(-1)]\n#\n# end of functions needed by downstream code...\nimport argparse\nimport os\nimport numpy as np\nfrom sklearn.linear_model import LogisticRegression\nfrom sklearn.externals import joblib\nfrom azureml.core import Run\n# from utils import load_data\n# let user feed in 2 parameters, the location of the data files (from datastore),and the regularization rate of the logistic regression model\nparser = argparse.ArgumentParser()\nparser.add_argument('--data-folder', type=str, dest='data_folder',\nhelp='data folder mounting point')\nparser.add_argument('--regularization', type=float, dest='reg', default=\n0.01, help='regularization rate')\nargs = parser.parse_args()\ndata_folder = os.path.join(args.data_folder, 'mnist')\nprint('Data folder:', data_folder)\n# load train and test set into numpy arrays\n# note we scale the pixel intensity values to 0-1 (by dividing it with 255.0) so the model can converge faster.\nX_train = load_data(os.path.join(data_folder, 'train-images.gz'), False) / 255.0\nX_test = load_data(os.path.join(data_folder, 'test-images.gz'), False) / 255.0\ny_train = load_data(os.path.join(data_folder, 'train-labels.gz'), True).reshape(-1)\ny_test = load_data(os.path.join(data_folder, 'test-labels.gz'), True).reshape(-1)\nprint(X_train.shape, y_train.shape, X_test.shape, y_test.shape, sep = '\\n')\n# get hold of the current run\nrun = Run.get_context()\nprint('Train a logistic regression model with regularizaion rate of', args.reg)\nclf = LogisticRegression(C=1.0/args.reg, random_state=42)\nclf.fit(X_train, y_train)\nprint('Predict the test set')\ny_hat = clf.predict(X_test)\n# calculate accuracy on the prediction\nacc = np.average(y_hat == y_test)\nprint('Accuracy is', acc)\nrun.log('regularization rate', np.float(args.reg))\nrun.log('accuracy', np.float(acc))\nos.makedirs('outputs', exist_ok=True)\n# note file saved in the outputs folder is automatically uploaded into experiment record\njoblib.dump(value=clf, filename='outputs/sklearn_mnist_model.pkl')\nprint('Code executed')",
      "execution_count": 61,
      "outputs": [
        {
          "output_type": "stream",
          "text": "Overwriting ./trial_model_mnist/train.py\n",
          "name": "stdout"
        }
      ]
    },
    {
      "metadata": {},
      "cell_type": "markdown",
      "source": "Now, you must add a utils script as shown below for loading data and to create an estimator so that it's\neasier to scale our work in the future. An estimator object is used to submit the run. Create your estimator\nby running the following code to define these items:\n●● The name of the estimator object, est.\n●● The directory that contains your scripts. All the files in this directory are uploaded into the cluster\nnodes for execution.\n●● The compute target. In this case, you use the Azure Machine Learning compute cluster you created.\n●● The training script name, train.py.\n●● Parameters required from the training script.\n●● Python packages needed for training."
    },
    {
      "metadata": {
        "trusted": true
      },
      "cell_type": "code",
      "source": "from azureml.train.estimator import Estimator\nscript_params = {\n'--data-folder': ds.as_mount(),\n'--regularization': 0.8\n}\n#import scikit-learn package\nest = Estimator(source_directory=folder_training_script,\nscript_params=script_params,\ncompute_target=compute_target,\nentry_script='train.py',\nconda_packages=['scikit-learn'])                ",
      "execution_count": 62,
      "outputs": []
    },
    {
      "metadata": {},
      "cell_type": "markdown",
      "source": "Submit Model, Monitor Run, and Retrieve Results"
    },
    {
      "metadata": {
        "trusted": true
      },
      "cell_type": "code",
      "source": "#run\nrun = experiment.submit(config=est)\nrun\nprint('Code executed')",
      "execution_count": 63,
      "outputs": [
        {
          "output_type": "stream",
          "text": "Code executed\n",
          "name": "stdout"
        }
      ]
    },
    {
      "metadata": {},
      "cell_type": "markdown",
      "source": "You could use widgets module from ‘azureml’ package to monitor our run. It can take up to ten minutes\nfor the experiment to process"
    },
    {
      "metadata": {
        "trusted": true
      },
      "cell_type": "code",
      "source": "# monitor the run\nfrom azureml.widgets import RunDetails\nRunDetails(run).show()",
      "execution_count": 64,
      "outputs": [
        {
          "output_type": "display_data",
          "data": {
            "application/vnd.jupyter.widget-view+json": {
              "model_id": "8f1661553ad14b6cb1301e14677f8af0",
              "version_minor": 0,
              "version_major": 2
            },
            "text/plain": "_UserRunWidget(widget_settings={'childWidgetDisplay': 'popup', 'send_telemetry': False, 'log_level': 'INFO', '…"
          },
          "metadata": {}
        }
      ]
    },
    {
      "metadata": {},
      "cell_type": "markdown",
      "source": "After this run finishes, you can print the results. The results were logged since you wrote the code in the\ntraining script"
    },
    {
      "metadata": {
        "trusted": true
      },
      "cell_type": "code",
      "source": "#get result\nprint(run.get_metrics())",
      "execution_count": 52,
      "outputs": [
        {
          "output_type": "stream",
          "text": "{}\n",
          "name": "stdout"
        }
      ]
    },
    {
      "metadata": {},
      "cell_type": "markdown",
      "source": "If you are going to continue with this Learning Path, don't run the code below. If you are done and do\nnot plan to continue with the other modules, you can run the code below to delete the Azure Machine\nLearning service resources you created"
    },
    {
      "metadata": {
        "trusted": true
      },
      "cell_type": "code",
      "source": "##### WARNING !!! #####\n#Clean up resources\nws.delete(delete_dependent_resources=True)",
      "execution_count": 99,
      "outputs": [
        {
          "output_type": "stream",
          "text": "WARNING - Retrying (Retry(total=3, connect=4, read=3, redirect=None, status=None)) after connection broken by 'ReadTimeoutError(\"HTTPSConnectionPool(host='management.azure.com', port=443): Read timed out. (read timeout=100)\",)': /subscriptions/52b56929-ee84-495c-91c3-a84dfacbc9d2/resourceGroups/DP100/providers/Microsoft.MachineLearningServices/workspaces/MLWKSPACE-BAUER?api-version=2018-11-19\n",
          "name": "stderr"
        }
      ]
    },
    {
      "metadata": {},
      "cell_type": "markdown",
      "source": "# Demo 2D - Register and Deploy Models"
    },
    {
      "metadata": {},
      "cell_type": "markdown",
      "source": "### Where Do You Deploy Your Model?"
    },
    {
      "metadata": {},
      "cell_type": "markdown",
      "source": "The Azure Machine Learning Service provides several places you can deploy your trained model using the\nAzure Machine Learning SDK, listed in the following table:\nAzure Container Instances (ACI)6: This is a single container instance managed by Azure Container\nInstances service. It has fast deployment speed (usually less than 5 minutes) and is an ideal environment\nfor development and testing purpose.\nAzure Kubernetes Service (AKS)7: This is a set of containers managed by Azure Kubernetes Service. It\nprovides high-scale production deployments, auto-scale, and a front end to handle ingress and egress\nrequests. It usually takes around 20 minutes to set up, but this is a one-time setup and is ideal for\nproduction purpose deployment.\nAzure IoT Edge8: An Azure IoT Edge device is a Linux or Windows-based device that runs the Azure IoT\nEdge runtime. Azure Machine Learning supports deploying machine learning models to IoT Edge devices\nas IoT Edge modules. Once the model is deployed to IoT Edge devices, the model can be used in the\nedge device directly without connect to the cloud, which reduces the data transfer amount and reduces\nthe response time.\nField-programmable gate array (FPGA)9: FPGAs contain an array of programmable logic blocks, and a\nhierarchy of reconfigurable interconnects. Compared to CPU and GPUs, FPGAs provide a combination of\nprogrammability and performance. The hardware can be programmed so that it can provide model\ninference with hardware (which is usually much faster than software), and the hardware updates to a\ndifferent set of models, which provides flexibility. Azure Machine Learning supports deploying models to\nuse FPGAs on Azure"
    },
    {
      "metadata": {
        "trusted": true
      },
      "cell_type": "code",
      "source": "import azureml.core\nfrom azureml.core import Workspace, Experiment, Run\nprint(azureml.core.VERSION)",
      "execution_count": 30,
      "outputs": [
        {
          "output_type": "stream",
          "text": "1.0.57\n",
          "name": "stdout"
        }
      ]
    },
    {
      "metadata": {
        "trusted": true
      },
      "cell_type": "code",
      "source": "ws = Workspace.get(name='MBAUER',\nsubscription_id='52b56929-ee84-495c-91c3-a84dfacbc9d2',\nresource_group='DP100'\n)",
      "execution_count": 31,
      "outputs": []
    },
    {
      "metadata": {
        "trusted": true
      },
      "cell_type": "code",
      "source": "ws.get_details()",
      "execution_count": 32,
      "outputs": [
        {
          "output_type": "execute_result",
          "execution_count": 32,
          "data": {
            "text/plain": "{'id': '/subscriptions/52b56929-ee84-495c-91c3-a84dfacbc9d2/resourceGroups/DP100/providers/Microsoft.MachineLearningServices/workspaces/MBAUER',\n 'name': 'MBAUER',\n 'location': 'eastus',\n 'type': 'Microsoft.MachineLearningServices/workspaces',\n 'tags': {},\n 'workspaceid': 'bdc1daab-98cf-4d51-b3d7-f1b801de5d1e',\n 'description': '',\n 'friendlyName': '',\n 'creationTime': '2019-10-31T21:35:16.9662835+00:00',\n 'containerRegistry': '/subscriptions/52b56929-ee84-495c-91c3-a84dfacbc9d2/resourceGroups/DP100/providers/Microsoft.ContainerRegistry/registries/mbauera27aaecc',\n 'keyVault': '/subscriptions/52b56929-ee84-495c-91c3-a84dfacbc9d2/resourcegroups/dp100/providers/microsoft.keyvault/vaults/mbauer8790801097',\n 'applicationInsights': '/subscriptions/52b56929-ee84-495c-91c3-a84dfacbc9d2/resourcegroups/dp100/providers/microsoft.insights/components/mbauer1670285242',\n 'identityPrincipalId': 'dfde1a6c-a094-43bc-af1d-a5b4b62b91b2',\n 'identityTenantId': '60623c36-25e7-4dec-a900-05b500441e54',\n 'identityType': 'SystemAssigned',\n 'storageAccount': '/subscriptions/52b56929-ee84-495c-91c3-a84dfacbc9d2/resourcegroups/dp100/providers/microsoft.storage/storageaccounts/mbauer5219484084'}"
          },
          "metadata": {}
        }
      ]
    },
    {
      "metadata": {},
      "cell_type": "markdown",
      "source": "### Registering Your Model to the Azure Machine Learning Service"
    },
    {
      "metadata": {
        "trusted": true
      },
      "cell_type": "code",
      "source": "from sklearn.datasets import load_diabetes\nfrom sklearn.linear_model import Ridge\nfrom sklearn.metrics import mean_squared_error\nfrom sklearn.model_selection import train_test_split\nfrom sklearn.externals import joblib\nX, y = load_diabetes(return_X_y = True)\ncolumns = ['age', 'gender', 'bmi', 'bp', 's1', 's2', 's3', 's4', 's5',\n's6']\nX_train, X_test, y_train, y_test = train_test_split(X, y, test_size=0.2,\nrandom_state=0)\ndata = {\n\"train\":{\"X\": X_train, \"y\": y_train},\n\"test\":{\"X\": X_test, \"y\": y_test}\n}\nprint (\"Data contains\", len(data['train']['X']), \"training samples and\",len(data['test']['X']), \"test samples\")",
      "execution_count": 33,
      "outputs": [
        {
          "output_type": "stream",
          "text": "Data contains 353 training samples and 89 test samples\n",
          "name": "stdout"
        }
      ]
    },
    {
      "metadata": {},
      "cell_type": "markdown",
      "source": "Run the code below to train the model and display the Mean Squared Error"
    },
    {
      "metadata": {
        "trusted": true
      },
      "cell_type": "code",
      "source": "# Create, fit, and test the scikit-learn Ridge regression model\nregression_model = Ridge(alpha=0.03)\nregression_model.fit(data['train']['X'], data['train']['y'])\npreds = regression_model.predict(data['test']['X'])\n# Output the Mean Squared Error to the notebook and to the run\nprint('Mean Squared Error is', mean_squared_error(data['test']['y'],\npreds))",
      "execution_count": 34,
      "outputs": [
        {
          "output_type": "stream",
          "text": "Mean Squared Error is 3424.900315896017\n",
          "name": "stdout"
        }
      ]
    },
    {
      "metadata": {},
      "cell_type": "markdown",
      "source": "Now run the code below to write the trained model to a text file in your local environment"
    },
    {
      "metadata": {
        "trusted": true
      },
      "cell_type": "code",
      "source": "from sklearn.externals import joblib\njoblib.dump(value=regression_model, filename='sklearn_regression_model.pkl')",
      "execution_count": 35,
      "outputs": [
        {
          "output_type": "execute_result",
          "execution_count": 35,
          "data": {
            "text/plain": "['sklearn_regression_model.pkl']"
          },
          "metadata": {}
        }
      ]
    },
    {
      "metadata": {},
      "cell_type": "markdown",
      "source": "Now you can register your model in the workspace for further use. Like a container registry, the model\nregistry is a single place to keep track of all the models in your Azure Machine Learning Service, to make\nsure that the models are stored in a structured format. With a single call to the Azure Machine Learning\nModel Management service, you can manage your model"
    },
    {
      "metadata": {
        "trusted": true
      },
      "cell_type": "code",
      "source": "from azureml.core.model import Model\nmodel = Model.register(model_path = \"sklearn_regression_model.pkl\",\nmodel_name = \"sklearn_regression_model.pkl\",\ntags = {'area': \"diabetes\", 'type': \"regression\"},\ndescription = \"Ridge regression model to predict diabetes\",\nworkspace = ws)",
      "execution_count": 36,
      "outputs": [
        {
          "output_type": "stream",
          "text": "Registering model sklearn_regression_model.pkl\n",
          "name": "stdout"
        }
      ]
    },
    {
      "metadata": {},
      "cell_type": "markdown",
      "source": "### Create a Scoring Script"
    },
    {
      "metadata": {},
      "cell_type": "markdown",
      "source": "Container images allow users to deploy models reliably since the machine learning model always depends\non some other dependencies such as PyTorch12. Using containers to deploy machine learning\nmodels can avoid dependency issues.\nA container image has the following items packaged, which you need to prepare:\n●● The model itself\n●● The inference engine, such as PyTorch\n●● The scoring file (score.py) or other application consuming the model\n●● Any dependencies needed\nThe first step is to create the score.py file that consumes the model, like below. You only need to\ndefine two functions: init, which loads the model and run, which does the inference:"
    },
    {
      "metadata": {
        "trusted": true
      },
      "cell_type": "code",
      "source": "%%writefile score.py\nimport pickle\nimport json\nimport numpy\nfrom sklearn.externals import joblib\nfrom sklearn.linear_model import Ridge\nfrom azureml.core.model import Model\ndef init():\nglobal model\nmodel_path = Model.get_model_path('sklearn_regression_model.pkl')\n# deserialize the model file back into a sklearn model\nmodel = joblib.load(model_path)\n# note you can pass in multiple rows for scoring\ndef run(raw_data):\ntry:\ndata = json.loads(raw_data)['data']\ndata = numpy.array(data)\nresult = model.predict(data)\n# you can return any datatype if it is JSON-serializable\nreturn result.tolist()\nreturn 0\nexcept Exception as e:\nerror = str(e)\nreturn error",
      "execution_count": 37,
      "outputs": [
        {
          "output_type": "stream",
          "text": "Overwriting score.py\n",
          "name": "stdout"
        }
      ]
    },
    {
      "metadata": {},
      "cell_type": "markdown",
      "source": "### Create an Environment Configuration YAML File"
    },
    {
      "metadata": {},
      "cell_type": "markdown",
      "source": "The second step is to make sure the dependencies are included in the image. Azure Machine Learning\ndoes that by creating a conda dependency file"
    },
    {
      "metadata": {
        "trusted": true
      },
      "cell_type": "code",
      "source": "from azureml.core.conda_dependencies import CondaDependencies\nmyenv = CondaDependencies.create(conda_packages=['numpy','scikit-learn'])\nwith open(\"myenv.yml\",\"w\") as f:\n    f.write(myenv.serialize_to_string())",
      "execution_count": 65,
      "outputs": []
    },
    {
      "metadata": {},
      "cell_type": "markdown",
      "source": "### Create a Container Image"
    },
    {
      "metadata": {},
      "cell_type": "markdown",
      "source": "The third step is preparing the container image by running the code below. This may take a few minutes.\nYou should see several output messages display as it creates the image."
    },
    {
      "metadata": {
        "trusted": true
      },
      "cell_type": "code",
      "source": "from azureml.core.image import Image, ContainerImage\nimage_config = ContainerImage.image_configuration(runtime= \"python\",\n                                execution_script=\"score.py\",\n                                conda_file=\"myenv.yml\",\n                                tags = {'area': \"diabetes\", 'type': \"regression\"},\n                                description = \"Image with ridge regression model\")\nimage = Image.create(name = \"myimage1\",\n# this is the model object\nmodels = [model],\nimage_config = image_config,\nworkspace = ws)\nimage.wait_for_creation(show_output = True)\nprint('Execution complete')",
      "execution_count": 66,
      "outputs": [
        {
          "output_type": "stream",
          "text": "Creating image\nRunning...............................\nSucceeded\nImage creation operation finished for image myimage1:2, operation \"Succeeded\"\nExecution complete\n",
          "name": "stdout"
        }
      ]
    },
    {
      "metadata": {},
      "cell_type": "markdown",
      "source": "After the code is executed, you can view the images in the Azure Machine Learning Service portal"
    },
    {
      "metadata": {},
      "cell_type": "markdown",
      "source": "### Deploy the Model as a Web Service"
    },
    {
      "metadata": {},
      "cell_type": "markdown",
      "source": "In this unit, you use Azure Container Instances to deploy the trained model as a web service. There are\ntwo steps involved"
    },
    {
      "metadata": {},
      "cell_type": "markdown",
      "source": "Define the deployment configuration. For example, the following code defines a container that uses 1\nCPU and 1 GB of memory"
    },
    {
      "metadata": {
        "trusted": true
      },
      "cell_type": "code",
      "source": "from azureml.core.webservice import AciWebservice\naciconfig = AciWebservice.deploy_configuration(cpu_cores=2\n                                               ,memory_gb=2\n                                               ,tags={'sample name': 'AML 101'},\ndescription='This is a great example.')",
      "execution_count": 70,
      "outputs": []
    },
    {
      "metadata": {},
      "cell_type": "markdown",
      "source": "To deploy the image created in the previous unit, you can use code similar to the code below. This\nmay take a few minutes to finish"
    },
    {
      "metadata": {
        "trusted": true
      },
      "cell_type": "code",
      "source": "%%time\nfrom azureml.core.webservice import Webservice\n# Create the webservice\nservice = Webservice.deploy_from_model(name='my-aci-svc33',\n                                      deployment_config=aciconfig,\n                                      models=[model],\n                                      image_config=image_config,\n                                      workspace=ws)\n# Wait for the service deployment to complete while displaying log output.\n# This can take several minutes\nservice.wait_for_deployment(show_output=True)\n\n",
      "execution_count": 73,
      "outputs": [
        {
          "output_type": "stream",
          "text": "ERROR - Error, there is already a service with name my-aci-svc33 found in workspace MBAUER\n\n",
          "name": "stderr"
        },
        {
          "output_type": "error",
          "ename": "WebserviceException",
          "evalue": "WebserviceException:\n\tMessage: Error, there is already a service with name my-aci-svc33 found in workspace MBAUER\n\tInnerException None\n\tErrorResponse \n{\n    \"error\": {\n        \"message\": \"Error, there is already a service with name my-aci-svc33 found in workspace MBAUER\"\n    }\n}",
          "traceback": [
            "\u001b[0;31m---------------------------------------------------------------------------\u001b[0m",
            "\u001b[0;31mWebserviceException\u001b[0m                       Traceback (most recent call last)",
            "\u001b[0;32m~/anaconda3_501/lib/python3.6/site-packages/azureml/core/webservice/webservice.py\u001b[0m in \u001b[0;36m_check_for_existing_webservice\u001b[0;34m(workspace, name)\u001b[0m\n\u001b[1;32m    361\u001b[0m             raise WebserviceException('Error, there is already a service with name {} found in '\n\u001b[0;32m--> 362\u001b[0;31m                                       'workspace {}'.format(name, workspace._workspace_name))\n\u001b[0m\u001b[1;32m    363\u001b[0m         \u001b[0;32mexcept\u001b[0m \u001b[0mWebserviceException\u001b[0m \u001b[0;32mas\u001b[0m \u001b[0me\u001b[0m\u001b[0;34m:\u001b[0m\u001b[0;34m\u001b[0m\u001b[0m\n",
            "\u001b[0;31mWebserviceException\u001b[0m: WebserviceException:\n\tMessage: Error, there is already a service with name my-aci-svc33 found in workspace MBAUER\n\tInnerException None\n\tErrorResponse \n{\n    \"error\": {\n        \"message\": \"Error, there is already a service with name my-aci-svc33 found in workspace MBAUER\"\n    }\n}",
            "\nDuring handling of the above exception, another exception occurred:\n",
            "\u001b[0;31mWebserviceException\u001b[0m                       Traceback (most recent call last)",
            "\u001b[0;32m<timed exec>\u001b[0m in \u001b[0;36m<module>\u001b[0;34m\u001b[0m\n",
            "\u001b[0;32m~/anaconda3_501/lib/python3.6/site-packages/azureml/core/webservice/webservice.py\u001b[0m in \u001b[0;36mdeploy_from_model\u001b[0;34m(workspace, name, models, image_config, deployment_config, deployment_target)\u001b[0m\n\u001b[1;32m    299\u001b[0m         \u001b[0mwebservice_name_validation\u001b[0m\u001b[0;34m(\u001b[0m\u001b[0mname\u001b[0m\u001b[0;34m)\u001b[0m\u001b[0;34m\u001b[0m\u001b[0m\n\u001b[1;32m    300\u001b[0m         \u001b[0mWebservice\u001b[0m\u001b[0;34m.\u001b[0m\u001b[0m_check_for_local_deployment\u001b[0m\u001b[0;34m(\u001b[0m\u001b[0mdeployment_config\u001b[0m\u001b[0;34m)\u001b[0m\u001b[0;34m\u001b[0m\u001b[0m\n\u001b[0;32m--> 301\u001b[0;31m         \u001b[0mWebservice\u001b[0m\u001b[0;34m.\u001b[0m\u001b[0m_check_for_existing_webservice\u001b[0m\u001b[0;34m(\u001b[0m\u001b[0mworkspace\u001b[0m\u001b[0;34m,\u001b[0m \u001b[0mname\u001b[0m\u001b[0;34m)\u001b[0m\u001b[0;34m\u001b[0m\u001b[0m\n\u001b[0m\u001b[1;32m    302\u001b[0m \u001b[0;34m\u001b[0m\u001b[0m\n\u001b[1;32m    303\u001b[0m         \u001b[0mimage\u001b[0m \u001b[0;34m=\u001b[0m \u001b[0mImage\u001b[0m\u001b[0;34m.\u001b[0m\u001b[0mcreate\u001b[0m\u001b[0;34m(\u001b[0m\u001b[0mworkspace\u001b[0m\u001b[0;34m,\u001b[0m \u001b[0mname\u001b[0m\u001b[0;34m,\u001b[0m \u001b[0mmodels\u001b[0m\u001b[0;34m,\u001b[0m \u001b[0mimage_config\u001b[0m\u001b[0;34m)\u001b[0m\u001b[0;34m\u001b[0m\u001b[0m\n",
            "\u001b[0;32m~/anaconda3_501/lib/python3.6/site-packages/azureml/core/webservice/webservice.py\u001b[0m in \u001b[0;36m_check_for_existing_webservice\u001b[0;34m(workspace, name)\u001b[0m\n\u001b[1;32m    363\u001b[0m         \u001b[0;32mexcept\u001b[0m \u001b[0mWebserviceException\u001b[0m \u001b[0;32mas\u001b[0m \u001b[0me\u001b[0m\u001b[0;34m:\u001b[0m\u001b[0;34m\u001b[0m\u001b[0m\n\u001b[1;32m    364\u001b[0m             \u001b[0;32mif\u001b[0m \u001b[0;34m'WebserviceNotFound'\u001b[0m \u001b[0;32mnot\u001b[0m \u001b[0;32min\u001b[0m \u001b[0me\u001b[0m\u001b[0;34m.\u001b[0m\u001b[0mmessage\u001b[0m\u001b[0;34m:\u001b[0m\u001b[0;34m\u001b[0m\u001b[0m\n\u001b[0;32m--> 365\u001b[0;31m                 \u001b[0;32mraise\u001b[0m \u001b[0mWebserviceException\u001b[0m\u001b[0;34m(\u001b[0m\u001b[0me\u001b[0m\u001b[0;34m.\u001b[0m\u001b[0mmessage\u001b[0m\u001b[0;34m,\u001b[0m \u001b[0mlogger\u001b[0m\u001b[0;34m=\u001b[0m\u001b[0mmodule_logger\u001b[0m\u001b[0;34m)\u001b[0m\u001b[0;34m\u001b[0m\u001b[0m\n\u001b[0m\u001b[1;32m    366\u001b[0m \u001b[0;34m\u001b[0m\u001b[0m\n\u001b[1;32m    367\u001b[0m     \u001b[0;34m@\u001b[0m\u001b[0mstaticmethod\u001b[0m\u001b[0;34m\u001b[0m\u001b[0m\n",
            "\u001b[0;31mWebserviceException\u001b[0m: WebserviceException:\n\tMessage: Error, there is already a service with name my-aci-svc33 found in workspace MBAUER\n\tInnerException None\n\tErrorResponse \n{\n    \"error\": {\n        \"message\": \"Error, there is already a service with name my-aci-svc33 found in workspace MBAUER\"\n    }\n}"
          ]
        }
      ]
    },
    {
      "metadata": {},
      "cell_type": "markdown",
      "source": "It takes around 3 minutes for the web service to deploy. You will call this web service in the next unit"
    },
    {
      "metadata": {},
      "cell_type": "markdown",
      "source": "# Scoring Data with a Deployed Model"
    },
    {
      "metadata": {},
      "cell_type": "markdown",
      "source": "Since the model is deployed as a web service that exposes a REST API, it can be tested with many tools.\nAzure Machine Learning SDK has a built-in testing tool that can work with the deployed web service as\nshown below"
    },
    {
      "metadata": {
        "trusted": true
      },
      "cell_type": "code",
      "source": "import json\n# scrape the first row from the test set.\ntest_samples = json.dumps({\"data\": X_test[0:1, :].tolist()})\nprint(test_samples) # here is what we are sending to the service.\n#score on our service\nservice.run(input_data = test_samples)",
      "execution_count": 74,
      "outputs": [
        {
          "output_type": "stream",
          "text": "ERROR - Error attempting to call webservice, scoring_uri unavailable. This could be due to a failed deployment, or the service is not ready yet.\nCurrent State: Failed\nErrors: {'code': 'AciDeploymentFailed', 'message': \"Aci Deployment failed with exception: Your container application crashed. This may be caused by errors in your scoring file's init() function.\\nPlease check the logs for your container instance: my-aci-svc33. From the AML SDK, you can run print(service.get_logs()) if you have service object to fetch the logs. \\nYou can also try to run image mbauera27aaecc.azurecr.io/my-aci-svc33@sha256:0dd48e4cc4ddcedd840c30b0ba6056d7223ef2f7aec4dc450dcd7456b865e167 locally. Please refer to http://aka.ms/debugimage#service-launch-fails for more information.\", 'details': [{'code': 'CrashLoopBackOff', 'message': \"Your container application crashed. This may be caused by errors in your scoring file's init() function.\\nPlease check the logs for your container instance: my-aci-svc33. From the AML SDK, you can run print(service.get_logs()) if you have service object to fetch the logs. \\nYou can also try to run image mbauera27aaecc.azurecr.io/my-aci-svc33@sha256:0dd48e4cc4ddcedd840c30b0ba6056d7223ef2f7aec4dc450dcd7456b865e167 locally. Please refer to http://aka.ms/debugimage#service-launch-fails for more information.\"}]}\n\n",
          "name": "stderr"
        },
        {
          "output_type": "stream",
          "text": "{\"data\": [[0.0199132141783263, 0.0506801187398187, 0.104808689473925, 0.0700725447072635, -0.0359677812752396, -0.0266789028311707, -0.0249926566315915, -0.00259226199818282, 0.00371173823343597, 0.0403433716478807]]}\n",
          "name": "stdout"
        },
        {
          "output_type": "error",
          "ename": "WebserviceException",
          "evalue": "WebserviceException:\n\tMessage: Error attempting to call webservice, scoring_uri unavailable. This could be due to a failed deployment, or the service is not ready yet.\nCurrent State: Failed\nErrors: {'code': 'AciDeploymentFailed', 'message': \"Aci Deployment failed with exception: Your container application crashed. This may be caused by errors in your scoring file's init() function.\\nPlease check the logs for your container instance: my-aci-svc33. From the AML SDK, you can run print(service.get_logs()) if you have service object to fetch the logs. \\nYou can also try to run image mbauera27aaecc.azurecr.io/my-aci-svc33@sha256:0dd48e4cc4ddcedd840c30b0ba6056d7223ef2f7aec4dc450dcd7456b865e167 locally. Please refer to http://aka.ms/debugimage#service-launch-fails for more information.\", 'details': [{'code': 'CrashLoopBackOff', 'message': \"Your container application crashed. This may be caused by errors in your scoring file's init() function.\\nPlease check the logs for your container instance: my-aci-svc33. From the AML SDK, you can run print(service.get_logs()) if you have service object to fetch the logs. \\nYou can also try to run image mbauera27aaecc.azurecr.io/my-aci-svc33@sha256:0dd48e4cc4ddcedd840c30b0ba6056d7223ef2f7aec4dc450dcd7456b865e167 locally. Please refer to http://aka.ms/debugimage#service-launch-fails for more information.\"}]}\n\tInnerException None\n\tErrorResponse \n{\n    \"error\": {\n        \"message\": \"Error attempting to call webservice, scoring_uri unavailable. This could be due to a failed deployment, or the service is not ready yet.\\nCurrent State: Failed\\nErrors: {'code': 'AciDeploymentFailed', 'message': \\\"Aci Deployment failed with exception: Your container application crashed. This may be caused by errors in your scoring file's init() function.\\\\nPlease check the logs for your container instance: my-aci-svc33. From the AML SDK, you can run print(service.get_logs()) if you have service object to fetch the logs. \\\\nYou can also try to run image mbauera27aaecc.azurecr.io/my-aci-svc33@sha256:0dd48e4cc4ddcedd840c30b0ba6056d7223ef2f7aec4dc450dcd7456b865e167 locally. Please refer to http://aka.ms/debugimage#service-launch-fails for more information.\\\", 'details': [{'code': 'CrashLoopBackOff', 'message': \\\"Your container application crashed. This may be caused by errors in your scoring file's init() function.\\\\nPlease check the logs for your container instance: my-aci-svc33. From the AML SDK, you can run print(service.get_logs()) if you have service object to fetch the logs. \\\\nYou can also try to run image mbauera27aaecc.azurecr.io/my-aci-svc33@sha256:0dd48e4cc4ddcedd840c30b0ba6056d7223ef2f7aec4dc450dcd7456b865e167 locally. Please refer to http://aka.ms/debugimage#service-launch-fails for more information.\\\"}]}\"\n    }\n}",
          "traceback": [
            "\u001b[0;31m---------------------------------------------------------------------------\u001b[0m",
            "\u001b[0;31mWebserviceException\u001b[0m                       Traceback (most recent call last)",
            "\u001b[0;32m<ipython-input-74-b21847ff2aba>\u001b[0m in \u001b[0;36m<module>\u001b[0;34m\u001b[0m\n\u001b[1;32m      4\u001b[0m \u001b[0mprint\u001b[0m\u001b[0;34m(\u001b[0m\u001b[0mtest_samples\u001b[0m\u001b[0;34m)\u001b[0m \u001b[0;31m# here is what we are sending to the service.\u001b[0m\u001b[0;34m\u001b[0m\u001b[0m\n\u001b[1;32m      5\u001b[0m \u001b[0;31m#score on our service\u001b[0m\u001b[0;34m\u001b[0m\u001b[0;34m\u001b[0m\u001b[0m\n\u001b[0;32m----> 6\u001b[0;31m \u001b[0mservice\u001b[0m\u001b[0;34m.\u001b[0m\u001b[0mrun\u001b[0m\u001b[0;34m(\u001b[0m\u001b[0minput_data\u001b[0m \u001b[0;34m=\u001b[0m \u001b[0mtest_samples\u001b[0m\u001b[0;34m)\u001b[0m\u001b[0;34m\u001b[0m\u001b[0m\n\u001b[0m",
            "\u001b[0;32m~/anaconda3_501/lib/python3.6/site-packages/azureml/core/webservice/aci.py\u001b[0m in \u001b[0;36mrun\u001b[0;34m(self, input_data)\u001b[0m\n\u001b[1;32m    227\u001b[0m                                       \u001b[0;34m'This could be due to a failed deployment, or the service is not ready yet.\\n'\u001b[0m\u001b[0;34m\u001b[0m\u001b[0m\n\u001b[1;32m    228\u001b[0m                                       \u001b[0;34m'Current State: {}\\n'\u001b[0m\u001b[0;34m\u001b[0m\u001b[0m\n\u001b[0;32m--> 229\u001b[0;31m                                       'Errors: {}'.format(self.state, self.error), logger=module_logger)\n\u001b[0m\u001b[1;32m    230\u001b[0m \u001b[0;34m\u001b[0m\u001b[0m\n\u001b[1;32m    231\u001b[0m         \u001b[0mresp\u001b[0m \u001b[0;34m=\u001b[0m \u001b[0mClientBase\u001b[0m\u001b[0;34m.\u001b[0m\u001b[0m_execute_func\u001b[0m\u001b[0;34m(\u001b[0m\u001b[0mself\u001b[0m\u001b[0;34m.\u001b[0m\u001b[0m_webservice_session\u001b[0m\u001b[0;34m.\u001b[0m\u001b[0mpost\u001b[0m\u001b[0;34m,\u001b[0m \u001b[0mself\u001b[0m\u001b[0;34m.\u001b[0m\u001b[0mscoring_uri\u001b[0m\u001b[0;34m,\u001b[0m \u001b[0mdata\u001b[0m\u001b[0;34m=\u001b[0m\u001b[0minput_data\u001b[0m\u001b[0;34m)\u001b[0m\u001b[0;34m\u001b[0m\u001b[0m\n",
            "\u001b[0;31mWebserviceException\u001b[0m: WebserviceException:\n\tMessage: Error attempting to call webservice, scoring_uri unavailable. This could be due to a failed deployment, or the service is not ready yet.\nCurrent State: Failed\nErrors: {'code': 'AciDeploymentFailed', 'message': \"Aci Deployment failed with exception: Your container application crashed. This may be caused by errors in your scoring file's init() function.\\nPlease check the logs for your container instance: my-aci-svc33. From the AML SDK, you can run print(service.get_logs()) if you have service object to fetch the logs. \\nYou can also try to run image mbauera27aaecc.azurecr.io/my-aci-svc33@sha256:0dd48e4cc4ddcedd840c30b0ba6056d7223ef2f7aec4dc450dcd7456b865e167 locally. Please refer to http://aka.ms/debugimage#service-launch-fails for more information.\", 'details': [{'code': 'CrashLoopBackOff', 'message': \"Your container application crashed. This may be caused by errors in your scoring file's init() function.\\nPlease check the logs for your container instance: my-aci-svc33. From the AML SDK, you can run print(service.get_logs()) if you have service object to fetch the logs. \\nYou can also try to run image mbauera27aaecc.azurecr.io/my-aci-svc33@sha256:0dd48e4cc4ddcedd840c30b0ba6056d7223ef2f7aec4dc450dcd7456b865e167 locally. Please refer to http://aka.ms/debugimage#service-launch-fails for more information.\"}]}\n\tInnerException None\n\tErrorResponse \n{\n    \"error\": {\n        \"message\": \"Error attempting to call webservice, scoring_uri unavailable. This could be due to a failed deployment, or the service is not ready yet.\\nCurrent State: Failed\\nErrors: {'code': 'AciDeploymentFailed', 'message': \\\"Aci Deployment failed with exception: Your container application crashed. This may be caused by errors in your scoring file's init() function.\\\\nPlease check the logs for your container instance: my-aci-svc33. From the AML SDK, you can run print(service.get_logs()) if you have service object to fetch the logs. \\\\nYou can also try to run image mbauera27aaecc.azurecr.io/my-aci-svc33@sha256:0dd48e4cc4ddcedd840c30b0ba6056d7223ef2f7aec4dc450dcd7456b865e167 locally. Please refer to http://aka.ms/debugimage#service-launch-fails for more information.\\\", 'details': [{'code': 'CrashLoopBackOff', 'message': \\\"Your container application crashed. This may be caused by errors in your scoring file's init() function.\\\\nPlease check the logs for your container instance: my-aci-svc33. From the AML SDK, you can run print(service.get_logs()) if you have service object to fetch the logs. \\\\nYou can also try to run image mbauera27aaecc.azurecr.io/my-aci-svc33@sha256:0dd48e4cc4ddcedd840c30b0ba6056d7223ef2f7aec4dc450dcd7456b865e167 locally. Please refer to http://aka.ms/debugimage#service-launch-fails for more information.\\\"}]}\"\n    }\n}"
          ]
        }
      ]
    },
    {
      "metadata": {
        "trusted": true
      },
      "cell_type": "code",
      "source": "print(test_samples)",
      "execution_count": 72,
      "outputs": [
        {
          "output_type": "stream",
          "text": "{\"data\": [[0.0199132141783263, 0.0506801187398187, 0.104808689473925, 0.0700725447072635, -0.0359677812752396, -0.0266789028311707, -0.0249926566315915, -0.00259226199818282, 0.00371173823343597, 0.0403433716478807]]}\n",
          "name": "stdout"
        }
      ]
    },
    {
      "metadata": {
        "trusted": true
      },
      "cell_type": "code",
      "source": "",
      "execution_count": null,
      "outputs": []
    }
  ],
  "metadata": {
    "kernelspec": {
      "name": "python36",
      "display_name": "Python 3.6",
      "language": "python"
    },
    "language_info": {
      "mimetype": "text/x-python",
      "nbconvert_exporter": "python",
      "name": "python",
      "pygments_lexer": "ipython3",
      "version": "3.6.6",
      "file_extension": ".py",
      "codemirror_mode": {
        "version": 3,
        "name": "ipython"
      }
    }
  },
  "nbformat": 4,
  "nbformat_minor": 2
}