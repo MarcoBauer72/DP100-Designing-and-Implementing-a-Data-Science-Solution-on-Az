{
  "cells": [
    {
      "metadata": {
        "collapsed": true
      },
      "cell_type": "markdown",
      "source": "# Demo 4 - Manage and Monitor"
    },
    {
      "metadata": {
        "trusted": true
      },
      "cell_type": "code",
      "source": "from azureml.core import Workspace, Experiment, Run\nws = Workspace.get(name='BAUERWK',\nsubscription_id='52b56929-ee84-495c-91c3-a84dfacbc9d2',\nresource_group='DP100'\n)",
      "execution_count": 1,
      "outputs": []
    },
    {
      "metadata": {
        "trusted": true
      },
      "cell_type": "code",
      "source": "ws.get_details()",
      "execution_count": 2,
      "outputs": [
        {
          "output_type": "execute_result",
          "execution_count": 2,
          "data": {
            "text/plain": "{'id': '/subscriptions/52b56929-ee84-495c-91c3-a84dfacbc9d2/resourceGroups/DP100/providers/Microsoft.MachineLearningServices/workspaces/BAUERWK',\n 'name': 'BAUERWK',\n 'location': 'eastus',\n 'type': 'Microsoft.MachineLearningServices/workspaces',\n 'tags': {},\n 'sku': 'Enterprise',\n 'workspaceid': 'e45c443e-6661-4015-b3c2-7f2f6b9ddf4d',\n 'description': '',\n 'friendlyName': '',\n 'creationTime': '2020-01-16T17:39:56.7000258+00:00',\n 'containerRegistry': '/subscriptions/52b56929-ee84-495c-91c3-a84dfacbc9d2/resourceGroups/DP100/providers/Microsoft.ContainerRegistry/registries/bauerwkd9e82596',\n 'keyVault': '/subscriptions/52b56929-ee84-495c-91c3-a84dfacbc9d2/resourcegroups/dp100/providers/microsoft.keyvault/vaults/bauerwk2103398596',\n 'applicationInsights': '/subscriptions/52b56929-ee84-495c-91c3-a84dfacbc9d2/resourcegroups/dp100/providers/microsoft.insights/components/bauerwk8495726486',\n 'identityPrincipalId': '5e4de374-64a3-4a0d-b555-05478feb76aa',\n 'identityTenantId': '60623c36-25e7-4dec-a900-05b500441e54',\n 'identityType': 'SystemAssigned',\n 'storageAccount': '/subscriptions/52b56929-ee84-495c-91c3-a84dfacbc9d2/resourcegroups/dp100/providers/microsoft.storage/storageaccounts/bauerwk6562484310'}"
          },
          "metadata": {}
        }
      ]
    },
    {
      "metadata": {},
      "cell_type": "markdown",
      "source": "#### Registering Models to Azure Machine Learning Service"
    },
    {
      "metadata": {
        "trusted": true
      },
      "cell_type": "code",
      "source": "from azureml.core.model import Model\nmodel = Model.register(model_path = \"sklearn_regression_model.pkl\",\nmodel_name = \"sklearn_regression_model\",\ntags = {'area': \"diabetes\", 'type': \"regression\"},\ndescription = \"Ridge regression model to predict diabetes\",\nworkspace = ws)",
      "execution_count": 3,
      "outputs": [
        {
          "output_type": "stream",
          "text": "Registering model sklearn_regression_model\n",
          "name": "stdout"
        }
      ]
    },
    {
      "metadata": {},
      "cell_type": "markdown",
      "source": "Querying the Registered Model"
    },
    {
      "metadata": {
        "trusted": true
      },
      "cell_type": "code",
      "source": "regression_models = Model.list(workspace=ws, tags=['area'])\nfor m in regression_models:\n    print(\"Name:\", m.name,\"\\tVersion:\", m.version, \"\\tDescription:\", m.description, m.tags)",
      "execution_count": 4,
      "outputs": [
        {
          "output_type": "stream",
          "text": "Name: sklearn_regression_model \tVersion: 1 \tDescription: Ridge regression model to predict diabetes {'area': 'diabetes', 'type': 'regression'}\nName: sklearn_regression_model.pkl \tVersion: 1 \tDescription: Ridge regression model to predict diabetes {'area': 'diabetes', 'type': 'regression'}\n",
          "name": "stdout"
        }
      ]
    },
    {
      "metadata": {},
      "cell_type": "markdown",
      "source": "### Register Images Containing Machine Learning Models"
    },
    {
      "metadata": {},
      "cell_type": "markdown",
      "source": "The first step is to create the score.py file which instantiates the model and scores some sample data using it"
    },
    {
      "metadata": {
        "trusted": true
      },
      "cell_type": "code",
      "source": "from sklearn.externals import joblib\nfrom sklearn.linear_model import Ridge\nfrom azureml.core.model import Model\ndef init():\n    global model\n    model_path = Model.get_model_path('sklearn_regression_model.pkl')\n    # deserialize the model file back into a sklearn model\n    model = joblib.load(model_path)\n# note you can pass in multiple rows for scoring\ndef run(raw_data):\n        try:\n            data = json.loads(raw_data)['data']\n            data = numpy.array(data)\n            result = model.predict(data)\n# you can return any datatype if it is JSON-serializable \n            return result.tolist()\n        except Exception as e:\n            error = str(e)\n        return error",
      "execution_count": 5,
      "outputs": []
    },
    {
      "metadata": {},
      "cell_type": "markdown",
      "source": "The second step is to make sure the dependencies are included in the image"
    },
    {
      "metadata": {
        "trusted": true
      },
      "cell_type": "code",
      "source": "from azureml.core.conda_dependencies import CondaDependencies\nmyenv = CondaDependencies.create(conda_packages=['numpy','scikit-learn'])\nwith open(\"myenv.yml\",\"w\") as f:\n    f.write(myenv.serialize_to_string())",
      "execution_count": 6,
      "outputs": []
    },
    {
      "metadata": {},
      "cell_type": "markdown",
      "source": "The third step is preparing the container image that will provide the environment to run the model"
    },
    {
      "metadata": {
        "trusted": true
      },
      "cell_type": "code",
      "source": "from azureml.core.conda_dependencies import CondaDependencies\nmyenv = CondaDependencies.create(conda_packages=['numpy','scikit-learn'])\nwith open(\"myenv.yml\",\"w\") as f:\n    f.write(myenv.serialize_to_string())\n\nfrom azureml.core.image import Image, ContainerImage\nimage_config = ContainerImage.image_configuration(runtime= \"python\",\nexecution_script=\"score.py\",\nconda_file=\"myenv.yml\",\ntags = {'area': \"diabetes\", 'type': \"re-gression\"},\ndescription = \"Image with ridge regression model\")\nimage = Image.create(name = \"myimage1\",\n# this is the model object\nmodels = [model],\nimage_config = image_config,\nworkspace = ws)\nimage.wait_for_creation(show_output = True)",
      "execution_count": 7,
      "outputs": [
        {
          "output_type": "stream",
          "text": "Creating image\nRunning...........................\nSucceeded\nImage creation operation finished for image myimage1:2, operation \"Succeeded\"\n",
          "name": "stdout"
        }
      ]
    },
    {
      "metadata": {},
      "cell_type": "markdown",
      "source": "After the code is executed, you can view the images in the Azure portal in the Azure Machine Learning Service workspace"
    },
    {
      "metadata": {},
      "cell_type": "markdown",
      "source": "### Monitoring Models"
    },
    {
      "metadata": {},
      "cell_type": "markdown",
      "source": "The Azure Machine Learning Monitoring SDK is installed with the following command"
    },
    {
      "metadata": {
        "trusted": true
      },
      "cell_type": "code",
      "source": "pip install azureml-monitoring",
      "execution_count": 8,
      "outputs": [
        {
          "output_type": "stream",
          "text": "\nThe following command must be run outside of the IPython shell:\n\n    $ pip install azureml-monitoring\n\nThe Python package manager (pip) can only be used from outside of IPython.\nPlease reissue the `pip` command in a separate terminal or command prompt.\n\nSee the Python documentation for more information on how to install packages:\n\n    https://docs.python.org/3/installing/\n",
          "name": "stdout"
        }
      ]
    },
    {
      "metadata": {},
      "cell_type": "markdown",
      "source": "Enable Data Collection"
    },
    {
      "metadata": {
        "trusted": true
      },
      "cell_type": "code",
      "source": "aks_config = AksWebservice.deploy_configuration(collect_model_data=True,enable_app_insights=True)",
      "execution_count": 9,
      "outputs": [
        {
          "output_type": "error",
          "ename": "NameError",
          "evalue": "name 'AksWebservice' is not defined",
          "traceback": [
            "\u001b[0;31m---------------------------------------------------------------------------\u001b[0m",
            "\u001b[0;31mNameError\u001b[0m                                 Traceback (most recent call last)",
            "\u001b[0;32m<ipython-input-9-b4236df23a81>\u001b[0m in \u001b[0;36m<module>\u001b[0;34m\u001b[0m\n\u001b[0;32m----> 1\u001b[0;31m \u001b[0maks_config\u001b[0m \u001b[0;34m=\u001b[0m \u001b[0mAksWebservice\u001b[0m\u001b[0;34m.\u001b[0m\u001b[0mdeploy_configuration\u001b[0m\u001b[0;34m(\u001b[0m\u001b[0mcollect_model_data\u001b[0m\u001b[0;34m=\u001b[0m\u001b[0;32mTrue\u001b[0m\u001b[0;34m,\u001b[0m\u001b[0menable_app_insights\u001b[0m\u001b[0;34m=\u001b[0m\u001b[0;32mTrue\u001b[0m\u001b[0;34m)\u001b[0m\u001b[0;34m\u001b[0m\u001b[0m\n\u001b[0m",
            "\u001b[0;31mNameError\u001b[0m: name 'AksWebservice' is not defined"
          ]
        }
      ]
    },
    {
      "metadata": {},
      "cell_type": "markdown",
      "source": "### Collecting model data"
    },
    {
      "metadata": {},
      "cell_type": "markdown",
      "source": "First, import the Azure Machine Learning Monitoring module"
    },
    {
      "metadata": {
        "trusted": true
      },
      "cell_type": "code",
      "source": "from azureml.monitoring import ModelDataCollector",
      "execution_count": 10,
      "outputs": [
        {
          "output_type": "error",
          "ename": "ModuleNotFoundError",
          "evalue": "No module named 'azureml.monitoring'",
          "traceback": [
            "\u001b[0;31m---------------------------------------------------------------------------\u001b[0m",
            "\u001b[0;31mModuleNotFoundError\u001b[0m                       Traceback (most recent call last)",
            "\u001b[0;32m<ipython-input-10-f39ed39a91a1>\u001b[0m in \u001b[0;36m<module>\u001b[0;34m\u001b[0m\n\u001b[0;32m----> 1\u001b[0;31m \u001b[0;32mfrom\u001b[0m \u001b[0mazureml\u001b[0m\u001b[0;34m.\u001b[0m\u001b[0mmonitoring\u001b[0m \u001b[0;32mimport\u001b[0m \u001b[0mModelDataCollector\u001b[0m\u001b[0;34m\u001b[0m\u001b[0m\n\u001b[0m",
            "\u001b[0;31mModuleNotFoundError\u001b[0m: No module named 'azureml.monitoring'"
          ]
        }
      ]
    },
    {
      "metadata": {},
      "cell_type": "markdown",
      "source": "Second, add the following code to the init() function"
    },
    {
      "metadata": {
        "trusted": true
      },
      "cell_type": "code",
      "source": "global inputs_dc, prediction_d\ninputs_dc = ModelDataCollector(\"best_model\", identifier=\"inputs\", feature_\nnames=[\"feat1\", \"feat2\", \"feat3\", \"feat4\", \"feat5\", \"Feat6\"])\nprediction_dc = ModelDataCollector(\"best_model\", identifier=\"predictions\",feature_names=[\"prediction1\", \"prediction2\"])\n                                   ",
      "execution_count": null,
      "outputs": []
    },
    {
      "metadata": {},
      "cell_type": "markdown",
      "source": "Third, add the collection function calls, lines below, to your run function"
    },
    {
      "metadata": {
        "trusted": true
      },
      "cell_type": "code",
      "source": "inputs_dc.collect(data)\nprediction_dc.collect(result)",
      "execution_count": null,
      "outputs": []
    },
    {
      "metadata": {},
      "cell_type": "markdown",
      "source": "Finally, update the myenv.yml file with the required modules needed to train the model"
    },
    {
      "metadata": {
        "trusted": true
      },
      "cell_type": "code",
      "source": "from azureml.core.conda_dependencies import CondaDependencies\nmyenv = CondaDependencies.create(conda_packages=['numpy','scikit-learn'])\nmyenv.add_pip_package(\"azureml-monitoring\")\nwith open(\"myenv.yml\",\"w\") as f:\nf.write(myenv.serialize_to_string())",
      "execution_count": null,
      "outputs": []
    },
    {
      "metadata": {},
      "cell_type": "markdown",
      "source": "The score.py file with the required calls to the collect() function appears as below"
    },
    {
      "metadata": {
        "trusted": true
      },
      "cell_type": "code",
      "source": "%%writefile score.py\nfrom sklearn.externals import joblib\nfrom sklearn.linear_model import Ridge\nfrom azureml.core.model import Model\nfrom azureml.monitoring import ModelDataCollector\nimport time\ndef init():\nglobal model\nprint (\"model initialized\" + time.strftime(\"%H:%M:%S\"))\nmodel_path = Model.get_model_path(model_name = 'sklearn_regression_model.\npkl')\n# deserialize the model file back into a sklearn model\nmodel = joblib.load(model_path)\nglobal inputs_dc, prediction_dc\ninputs_dc = ModelDataCollector(model_name=\"sklearn_regression_model\",\nidentifier=\"inputs\", feature_names=[\"feat1\", \"feat2\"])\nprediction_dc = ModelDataCollector(\"sklearn_regression_model\", identifier=\"\npredictions\", feature_names=[\"prediction1\", \"prediction2\"])\n# note you can pass in multiple rows for scoring\ndef run(raw_data):\nglobal inputs_dc, prediction_dc\ntry:\ndata = json.loads(raw_data)['data']\ndata = numpy.array(data)\n    result = model.predict(data)\nprint (\"saving input data\" + time.strftime(\"%H:%M:%S\"))\ninputs_dc.collect(data) #this call is saving our input data into\nour blob\nprediction_dc.collect(result)#this call is saving our prediction\ndata into our blob\nreturn result.tolist()\nexcept Exception as e:\nerror = str(e)\nprint (error + time.strftime(\"%H:%M:%S\"))\nreturn error                               ",
      "execution_count": null,
      "outputs": []
    },
    {
      "metadata": {},
      "cell_type": "markdown",
      "source": "### Where can I view the collected data?"
    },
    {
      "metadata": {},
      "cell_type": "markdown",
      "source": "The output of the monitoring service gets saved in the Azure BLOB storage account associated with your\nAzure Machine Learning service workspace. The path of the file follows the following pattern"
    },
    {
      "metadata": {
        "trusted": true
      },
      "cell_type": "code",
      "source": "/modeldata/<subscriptionid>/<resourcegroup>/<workspace>/<webservice>/<model>/<\nversion>/<identifier>/<year>/<month>/<day>/data.csv",
      "execution_count": null,
      "outputs": []
    },
    {
      "metadata": {},
      "cell_type": "markdown",
      "source": "An example would be"
    },
    {
      "metadata": {
        "trusted": true
      },
      "cell_type": "code",
      "source": "/modeldata/1a2b3c4d-5e6f-7g8h-9i10-j11k12l13m14/myresourcegrp/myWorkspace/\naks-w-collv9/best_model/10/inputs/2018/12/31/data.csv",
      "execution_count": null,
      "outputs": []
    },
    {
      "metadata": {},
      "cell_type": "markdown",
      "source": "### Validate and analyze the collected data"
    },
    {
      "metadata": {},
      "cell_type": "markdown",
      "source": "Since the data gets added into Azure Blob storage, you can choose your favorite tool to run the analysis,\nsuch as Power BI. We recommend completing the course Get started with Power BI3 to use Power BI to\nanalyze data on Azure BLOB storage"
    },
    {
      "metadata": {},
      "cell_type": "markdown",
      "source": "### Summary"
    },
    {
      "metadata": {},
      "cell_type": "markdown",
      "source": "Managing and monitoring machine learning pipelines can be an arduous task. In this module, you\nlearned how to use the Azure Machine Learning service model management and tracking feature to\nautomate this task. You registered a model and queried information about it. You registered the image\nneeded to support this mode. Then you installed the Azure ML Monitoring SDK and used it to enable\ndata collection, collect model training data, and query the collected data"
    }
  ],
  "metadata": {
    "kernelspec": {
      "name": "python36",
      "display_name": "Python 3.6",
      "language": "python"
    },
    "language_info": {
      "mimetype": "text/x-python",
      "nbconvert_exporter": "python",
      "name": "python",
      "pygments_lexer": "ipython3",
      "version": "3.6.6",
      "file_extension": ".py",
      "codemirror_mode": {
        "version": 3,
        "name": "ipython"
      }
    }
  },
  "nbformat": 4,
  "nbformat_minor": 2
}