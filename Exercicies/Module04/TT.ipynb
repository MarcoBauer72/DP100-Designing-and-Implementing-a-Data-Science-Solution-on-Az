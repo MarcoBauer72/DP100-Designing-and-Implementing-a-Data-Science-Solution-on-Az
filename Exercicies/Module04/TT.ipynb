{
  "cells": [
    {
      "metadata": {
        "trusted": true
      },
      "cell_type": "code",
      "source": "pip install azureml-monitoring",
      "execution_count": 1,
      "outputs": [
        {
          "output_type": "stream",
          "text": "\nThe following command must be run outside of the IPython shell:\n\n    $ pip install azureml-monitoring\n\nThe Python package manager (pip) can only be used from outside of IPython.\nPlease reissue the `pip` command in a separate terminal or command prompt.\n\nSee the Python documentation for more information on how to install packages:\n\n    https://docs.python.org/3/installing/\n",
          "name": "stdout"
        }
      ]
    },
    {
      "metadata": {
        "trusted": true
      },
      "cell_type": "code",
      "source": "import azureml.core\nprint(azureml.core.VERSION)",
      "execution_count": 1,
      "outputs": [
        {
          "output_type": "stream",
          "text": "1.0.72\n",
          "name": "stdout"
        }
      ]
    },
    {
      "metadata": {
        "trusted": true
      },
      "cell_type": "code",
      "source": "from azureml.core import Workspace\nws = Workspace.create(name='myworkspacemodelmgt',\n                      subscription_id='52b56929-ee84-495c-91c3-a84dfacbc9d2',\nresource_group='DP100',\ncreate_resource_group=True,\nlocation='centralus'\n)",
      "execution_count": 2,
      "outputs": [
        {
          "output_type": "error",
          "ename": "WorkspaceException",
          "evalue": "WorkspaceException:\n\tMessage: Workspace with name 'myworkspacemodelmgt' already exists under resource group with name 'DP100'.\n\tInnerException None\n\tErrorResponse \n{\n    \"error\": {\n        \"message\": \"Workspace with name 'myworkspacemodelmgt' already exists under resource group with name 'DP100'.\"\n    }\n}",
          "traceback": [
            "\u001b[0;31m---------------------------------------------------------------------------\u001b[0m",
            "\u001b[0;31mWorkspaceException\u001b[0m                        Traceback (most recent call last)",
            "\u001b[0;32m<ipython-input-2-838e87d77ab4>\u001b[0m in \u001b[0;36m<module>\u001b[0;34m\u001b[0m\n\u001b[1;32m      4\u001b[0m \u001b[0mresource_group\u001b[0m\u001b[0;34m=\u001b[0m\u001b[0;34m'DP100'\u001b[0m\u001b[0;34m,\u001b[0m\u001b[0;34m\u001b[0m\u001b[0m\n\u001b[1;32m      5\u001b[0m \u001b[0mcreate_resource_group\u001b[0m\u001b[0;34m=\u001b[0m\u001b[0;32mTrue\u001b[0m\u001b[0;34m,\u001b[0m\u001b[0;34m\u001b[0m\u001b[0m\n\u001b[0;32m----> 6\u001b[0;31m \u001b[0mlocation\u001b[0m\u001b[0;34m=\u001b[0m\u001b[0;34m'centralus'\u001b[0m\u001b[0;34m\u001b[0m\u001b[0m\n\u001b[0m\u001b[1;32m      7\u001b[0m )\n",
            "\u001b[0;32m~/anaconda3_501/lib/python3.6/site-packages/azureml/core/workspace.py\u001b[0m in \u001b[0;36mcreate\u001b[0;34m(name, auth, subscription_id, resource_group, location, create_resource_group, sku, friendly_name, storage_account, key_vault, app_insights, container_registry, default_cpu_compute_target, default_gpu_compute_target, exist_ok, show_output)\u001b[0m\n\u001b[1;32m    414\u001b[0m                                         \u001b[0mdefault_cpu_compute_target\u001b[0m\u001b[0;34m=\u001b[0m\u001b[0mdefault_cpu_compute_target\u001b[0m\u001b[0;34m,\u001b[0m\u001b[0;34m\u001b[0m\u001b[0m\n\u001b[1;32m    415\u001b[0m                                         \u001b[0mdefault_gpu_compute_target\u001b[0m\u001b[0;34m=\u001b[0m\u001b[0mdefault_gpu_compute_target\u001b[0m\u001b[0;34m,\u001b[0m\u001b[0;34m\u001b[0m\u001b[0m\n\u001b[0;32m--> 416\u001b[0;31m                                         exist_ok=exist_ok, show_output=show_output)\n\u001b[0m\u001b[1;32m    417\u001b[0m \u001b[0;34m\u001b[0m\u001b[0m\n\u001b[1;32m    418\u001b[0m     \u001b[0;34m@\u001b[0m\u001b[0mstaticmethod\u001b[0m\u001b[0;34m\u001b[0m\u001b[0m\n",
            "\u001b[0;32m~/anaconda3_501/lib/python3.6/site-packages/azureml/core/workspace.py\u001b[0m in \u001b[0;36m_create_legacy\u001b[0;34m(auth, subscription_id, resource_group_name, workspace_name, location, create_resource_group, sku, friendly_name, storage_account, key_vault, app_insights, container_registry, default_cpu_compute_target, default_gpu_compute_target, exist_ok, show_output)\u001b[0m\n\u001b[1;32m   1048\u001b[0m                                                                \u001b[0mdefault_cpu_compute_target\u001b[0m\u001b[0;34m=\u001b[0m\u001b[0mdefault_cpu_compute_target\u001b[0m\u001b[0;34m,\u001b[0m\u001b[0;34m\u001b[0m\u001b[0m\n\u001b[1;32m   1049\u001b[0m                                                                \u001b[0mdefault_gpu_compute_target\u001b[0m\u001b[0;34m=\u001b[0m\u001b[0mdefault_gpu_compute_target\u001b[0m\u001b[0;34m,\u001b[0m\u001b[0;34m\u001b[0m\u001b[0m\n\u001b[0;32m-> 1050\u001b[0;31m                                                                exist_ok=exist_ok, show_output=show_output)\n\u001b[0m\u001b[1;32m   1051\u001b[0m         \u001b[0;32mif\u001b[0m \u001b[0;32mnot\u001b[0m \u001b[0mworkspace_object_autorest\u001b[0m\u001b[0;34m:\u001b[0m\u001b[0;34m\u001b[0m\u001b[0m\n\u001b[1;32m   1052\u001b[0m             \u001b[0;32mraise\u001b[0m \u001b[0mWorkspaceException\u001b[0m\u001b[0;34m(\u001b[0m\u001b[0;34m\"Couldn't create the workspace.\"\u001b[0m\u001b[0;34m)\u001b[0m\u001b[0;34m\u001b[0m\u001b[0m\n",
            "\u001b[0;32m~/anaconda3_501/lib/python3.6/site-packages/azureml/_project/_commands.py\u001b[0m in \u001b[0;36mcreate_workspace\u001b[0;34m(auth, resource_group_name, workspace_name, subscription_id, location, create_resource_group, sku, friendly_name, storage_account, key_vault, app_insights, containerRegistry, default_cpu_compute_target, default_gpu_compute_target, exist_ok, show_output)\u001b[0m\n\u001b[1;32m    303\u001b[0m         \u001b[0mexist_ok\u001b[0m\u001b[0;34m=\u001b[0m\u001b[0mexist_ok\u001b[0m\u001b[0;34m,\u001b[0m\u001b[0;34m\u001b[0m\u001b[0m\n\u001b[1;32m    304\u001b[0m         \u001b[0mshow_output\u001b[0m\u001b[0;34m=\u001b[0m\u001b[0mshow_output\u001b[0m\u001b[0;34m,\u001b[0m\u001b[0;34m\u001b[0m\u001b[0m\n\u001b[0;32m--> 305\u001b[0;31m         sku=sku)\n\u001b[0m\u001b[1;32m    306\u001b[0m \u001b[0;34m\u001b[0m\u001b[0m\n\u001b[1;32m    307\u001b[0m \u001b[0;34m\u001b[0m\u001b[0m\n",
            "\u001b[0;32m~/anaconda3_501/lib/python3.6/site-packages/azureml/_workspace/custom.py\u001b[0m in \u001b[0;36mml_workspace_create_resources\u001b[0;34m(auth, client, resource_group_name, workspace_name, location, subscription_id, friendly_name, storage_account, key_vault, app_insights, containerRegistry, default_cpu_compute_target, default_gpu_compute_target, exist_ok, show_output, sku)\u001b[0m\n\u001b[1;32m     53\u001b[0m             raise WorkspaceException(\"Workspace with name '{0}' already exists under\"\n\u001b[1;32m     54\u001b[0m                                      \" resource group with name '{1}'.\".format(workspace_name,\n\u001b[0;32m---> 55\u001b[0;31m                                                                                resource_group_name))\n\u001b[0m\u001b[1;32m     56\u001b[0m     \u001b[0;32mexcept\u001b[0m \u001b[0mErrorResponseWrapperException\u001b[0m \u001b[0;32mas\u001b[0m \u001b[0mresponse_exception\u001b[0m\u001b[0;34m:\u001b[0m\u001b[0;34m\u001b[0m\u001b[0m\n\u001b[1;32m     57\u001b[0m         \u001b[0;32mif\u001b[0m \u001b[0mresponse_exception\u001b[0m\u001b[0;34m.\u001b[0m\u001b[0mresponse\u001b[0m\u001b[0;34m.\u001b[0m\u001b[0mstatus_code\u001b[0m \u001b[0;34m!=\u001b[0m \u001b[0;36m404\u001b[0m\u001b[0;34m:\u001b[0m\u001b[0;34m\u001b[0m\u001b[0m\n",
            "\u001b[0;31mWorkspaceException\u001b[0m: WorkspaceException:\n\tMessage: Workspace with name 'myworkspacemodelmgt' already exists under resource group with name 'DP100'.\n\tInnerException None\n\tErrorResponse \n{\n    \"error\": {\n        \"message\": \"Workspace with name 'myworkspacemodelmgt' already exists under resource group with name 'DP100'.\"\n    }\n}"
          ]
        }
      ]
    },
    {
      "metadata": {
        "trusted": true
      },
      "cell_type": "code",
      "source": "ws = Workspace.from_config()\nprint(ws.name, ws.resource_group, ws.location, ws.subscription_id, sep = '\\n')",
      "execution_count": 4,
      "outputs": [
        {
          "output_type": "stream",
          "text": "MBAUER\nRG-DP100\neastus\n52b56929-ee84-495c-91c3-a84dfacbc9d2\n",
          "name": "stdout"
        }
      ]
    },
    {
      "metadata": {
        "trusted": true
      },
      "cell_type": "code",
      "source": "ws.get_details()",
      "execution_count": 5,
      "outputs": [
        {
          "output_type": "execute_result",
          "execution_count": 5,
          "data": {
            "text/plain": "{'id': '/subscriptions/52b56929-ee84-495c-91c3-a84dfacbc9d2/resourceGroups/RG-DP100/providers/Microsoft.MachineLearningServices/workspaces/MBAUER',\n 'name': 'MBAUER',\n 'location': 'eastus',\n 'type': 'Microsoft.MachineLearningServices/workspaces',\n 'tags': {},\n 'sku': 'Enterprise',\n 'workspaceid': 'b6e69941-a2bc-4089-9e45-3a59f5413063',\n 'description': '',\n 'friendlyName': '',\n 'creationTime': '2020-01-08T12:42:11.5113167+00:00',\n 'containerRegistry': '/subscriptions/52b56929-ee84-495c-91c3-a84dfacbc9d2/resourceGroups/RG-DP100/providers/Microsoft.ContainerRegistry/registries/mbauer71590929',\n 'keyVault': '/subscriptions/52b56929-ee84-495c-91c3-a84dfacbc9d2/resourcegroups/rg-dp100/providers/microsoft.keyvault/vaults/mbauer0104503571',\n 'applicationInsights': '/subscriptions/52b56929-ee84-495c-91c3-a84dfacbc9d2/resourcegroups/rg-dp100/providers/microsoft.insights/components/mbauer1476008790',\n 'identityPrincipalId': '9a7704bc-271d-4aa4-8e80-af09ed410df3',\n 'identityTenantId': '60623c36-25e7-4dec-a900-05b500441e54',\n 'identityType': 'SystemAssigned',\n 'storageAccount': '/subscriptions/52b56929-ee84-495c-91c3-a84dfacbc9d2/resourcegroups/rg-dp100/providers/microsoft.storage/storageaccounts/mbauer0363429466'}"
          },
          "metadata": {}
        }
      ]
    },
    {
      "metadata": {
        "trusted": true
      },
      "cell_type": "markdown",
      "source": "# Registering Models to Azure Machine Learning Service"
    },
    {
      "metadata": {
        "trusted": true
      },
      "cell_type": "code",
      "source": "from azureml.core.model import Model\nmodel = Model.register(model_path = \"sklearn_regression_model.pkl\",\nmodel_name = \"sklearn_regression_model.pkl\",\ntags = {'area': \"diabetes\", 'type': \"regression\"},\ndescription = \"Ridge regression model to predict diabetes\",workspace = ws)",
      "execution_count": 6,
      "outputs": [
        {
          "output_type": "stream",
          "text": "Registering model sklearn_regression_model.pkl\n",
          "name": "stdout"
        }
      ]
    },
    {
      "metadata": {},
      "cell_type": "markdown",
      "source": "# Querying the Registered Model"
    },
    {
      "metadata": {
        "trusted": true
      },
      "cell_type": "code",
      "source": "regression_models = Model.list(workspace=ws, tags=['area'])\nfor m in regression_models: print(\"Name:\", m.name,\"\\tVersion:\", m.version, \"\\tDescription:\", m.description, m.tags)",
      "execution_count": 7,
      "outputs": [
        {
          "output_type": "stream",
          "text": "Name: sklearn_regression_model.pkl \tVersion: 3 \tDescription: Ridge regression model to predict diabetes {'area': 'diabetes', 'type': 'regression'}\nName: sklearn_regression_model.pkl \tVersion: 2 \tDescription: Ridge regression model to predict diabetes {'area': 'diabetes', 'type': 'regression'}\nName: sklearn_regression_model \tVersion: 1 \tDescription: Ridge regression model to predict diabetes {'area': 'diabetes', 'type': 'regression'}\nName: sklearn_regression_model.pkl \tVersion: 1 \tDescription: Ridge regression model to predict diabetes {'area': 'diabetes', 'type': 'regression'}\n",
          "name": "stdout"
        }
      ]
    },
    {
      "metadata": {},
      "cell_type": "markdown",
      "source": "# Register Images Containing Machine Learning Models"
    },
    {
      "metadata": {
        "trusted": true
      },
      "cell_type": "code",
      "source": "from sklearn.externals import joblib\nfrom sklearn.linear_model import Ridge\nfrom azureml.core.model import Model\ndef init():\n    global model\nmodel_path = Model.get_model_path('sklearn_regression_model.pkl')\n# deserialize the model file back into a sklearn model\nmodel = joblib.load(model_path)\n# note you can pass in multiple rows for scoring\ndef run(raw_data):\n    try:\n        data = json.loads(raw_data)['data']\n        data = numpy.array(data)\n        result = model.predict(data)\n# you can return any datatype if it is JSON-serializable\n        return result.tolist()\n    except Exception as e:\n       error = str(e)\n    return error",
      "execution_count": 8,
      "outputs": []
    },
    {
      "metadata": {
        "trusted": true
      },
      "cell_type": "code",
      "source": "from azureml.core.conda_dependencies import CondaDependencies\nmyenv = CondaDependencies.create(conda_packages=['numpy','scikit-learn'])\nwith open(\"myenv.yml\",\"w\") as f: f.write(myenv.serialize_to_string())",
      "execution_count": 9,
      "outputs": []
    },
    {
      "metadata": {
        "trusted": true
      },
      "cell_type": "code",
      "source": "from azureml.core.image import Image, ContainerImage\nimage_config = ContainerImage.image_configuration(runtime= \"python\",\nexecution_script=\"score.py\",\nconda_file=\"myenv.yml\",\ntags = {'area': \"diabetes\", 'type': \"regression\"},\ndescription = \"Image with ridge regression model\")\nimage = Image.create(name = \"myimage1\",\n# this is the model object\nmodels = [model],image_config = image_config,workspace = ws)\nimage.wait_for_creation(show_output = True)",
      "execution_count": 13,
      "outputs": [
        {
          "output_type": "stream",
          "text": "ERROR - Models must either be of type azureml.core.Model or a str path to a file or folder.\n\n",
          "name": "stderr"
        },
        {
          "output_type": "error",
          "ename": "WebserviceException",
          "evalue": "WebserviceException:\n\tMessage: Models must either be of type azureml.core.Model or a str path to a file or folder.\n\tInnerException None\n\tErrorResponse \n{\n    \"error\": {\n        \"message\": \"Models must either be of type azureml.core.Model or a str path to a file or folder.\"\n    }\n}",
          "traceback": [
            "\u001b[0;31m---------------------------------------------------------------------------\u001b[0m",
            "\u001b[0;31mWebserviceException\u001b[0m                       Traceback (most recent call last)",
            "\u001b[0;32m<ipython-input-13-4fde3863b281>\u001b[0m in \u001b[0;36m<module>\u001b[0;34m\u001b[0m\n\u001b[1;32m      7\u001b[0m image = Image.create(name = \"myimage1\",\n\u001b[1;32m      8\u001b[0m \u001b[0;31m# this is the model object\u001b[0m\u001b[0;34m\u001b[0m\u001b[0;34m\u001b[0m\u001b[0m\n\u001b[0;32m----> 9\u001b[0;31m models = [model],image_config = image_config,workspace = ws)\n\u001b[0m\u001b[1;32m     10\u001b[0m \u001b[0mimage\u001b[0m\u001b[0;34m.\u001b[0m\u001b[0mwait_for_creation\u001b[0m\u001b[0;34m(\u001b[0m\u001b[0mshow_output\u001b[0m \u001b[0;34m=\u001b[0m \u001b[0;32mTrue\u001b[0m\u001b[0;34m)\u001b[0m\u001b[0;34m\u001b[0m\u001b[0m\n",
            "\u001b[0;32m~/anaconda3_501/lib/python3.6/site-packages/azureml/core/image/image.py\u001b[0m in \u001b[0;36mcreate\u001b[0;34m(workspace, name, models, image_config)\u001b[0m\n\u001b[1;32m    318\u001b[0m         \"\"\"\n\u001b[1;32m    319\u001b[0m         \u001b[0mimage_name_validation\u001b[0m\u001b[0;34m(\u001b[0m\u001b[0mname\u001b[0m\u001b[0;34m)\u001b[0m\u001b[0;34m\u001b[0m\u001b[0m\n\u001b[0;32m--> 320\u001b[0;31m         \u001b[0mmodel_ids\u001b[0m \u001b[0;34m=\u001b[0m \u001b[0mModel\u001b[0m\u001b[0;34m.\u001b[0m\u001b[0m_resolve_to_model_ids\u001b[0m\u001b[0;34m(\u001b[0m\u001b[0mworkspace\u001b[0m\u001b[0;34m,\u001b[0m \u001b[0mmodels\u001b[0m\u001b[0;34m,\u001b[0m \u001b[0mname\u001b[0m\u001b[0;34m)\u001b[0m\u001b[0;34m\u001b[0m\u001b[0m\n\u001b[0m\u001b[1;32m    321\u001b[0m \u001b[0;34m\u001b[0m\u001b[0m\n\u001b[1;32m    322\u001b[0m         \u001b[0mheaders\u001b[0m \u001b[0;34m=\u001b[0m \u001b[0;34m{\u001b[0m\u001b[0;34m'Content-Type'\u001b[0m\u001b[0;34m:\u001b[0m \u001b[0;34m'application/json'\u001b[0m\u001b[0;34m}\u001b[0m\u001b[0;34m\u001b[0m\u001b[0m\n",
            "\u001b[0;32m~/anaconda3_501/lib/python3.6/site-packages/azureml/core/model.py\u001b[0m in \u001b[0;36m_resolve_to_model_ids\u001b[0;34m(workspace, models, name)\u001b[0m\n\u001b[1;32m    991\u001b[0m     \u001b[0;32mdef\u001b[0m \u001b[0m_resolve_to_model_ids\u001b[0m\u001b[0;34m(\u001b[0m\u001b[0mworkspace\u001b[0m\u001b[0;34m,\u001b[0m \u001b[0mmodels\u001b[0m\u001b[0;34m,\u001b[0m \u001b[0mname\u001b[0m\u001b[0;34m)\u001b[0m\u001b[0;34m:\u001b[0m\u001b[0;34m\u001b[0m\u001b[0m\n\u001b[1;32m    992\u001b[0m         \u001b[0;34m\"\"\"Convert a mixed list of model objects, IDs, or local file paths to a list of just model IDs.\"\"\"\u001b[0m\u001b[0;34m\u001b[0m\u001b[0m\n\u001b[0;32m--> 993\u001b[0;31m         \u001b[0mmodel_objs\u001b[0m \u001b[0;34m=\u001b[0m \u001b[0mModel\u001b[0m\u001b[0;34m.\u001b[0m\u001b[0m_resolve_to_models\u001b[0m\u001b[0;34m(\u001b[0m\u001b[0mworkspace\u001b[0m\u001b[0;34m,\u001b[0m \u001b[0mmodels\u001b[0m\u001b[0;34m,\u001b[0m \u001b[0mname\u001b[0m\u001b[0;34m)\u001b[0m\u001b[0;34m\u001b[0m\u001b[0m\n\u001b[0m\u001b[1;32m    994\u001b[0m         \u001b[0mmodel_ids\u001b[0m \u001b[0;34m=\u001b[0m \u001b[0;34m[\u001b[0m\u001b[0mmodel\u001b[0m\u001b[0;34m.\u001b[0m\u001b[0mid\u001b[0m \u001b[0;32mfor\u001b[0m \u001b[0mmodel\u001b[0m \u001b[0;32min\u001b[0m \u001b[0mmodel_objs\u001b[0m\u001b[0;34m]\u001b[0m\u001b[0;34m\u001b[0m\u001b[0m\n\u001b[1;32m    995\u001b[0m \u001b[0;34m\u001b[0m\u001b[0m\n",
            "\u001b[0;32m~/anaconda3_501/lib/python3.6/site-packages/azureml/core/model.py\u001b[0m in \u001b[0;36m_resolve_to_models\u001b[0;34m(workspace, models, name)\u001b[0m\n\u001b[1;32m   1021\u001b[0m             \u001b[0;32melse\u001b[0m\u001b[0;34m:\u001b[0m\u001b[0;34m\u001b[0m\u001b[0m\n\u001b[1;32m   1022\u001b[0m                 raise WebserviceException('Models must either be of type azureml.core.Model or a str '\n\u001b[0;32m-> 1023\u001b[0;31m                                           'path to a file or folder.', logger=module_logger)\n\u001b[0m\u001b[1;32m   1024\u001b[0m             \u001b[0mmodel_number\u001b[0m \u001b[0;34m+=\u001b[0m \u001b[0;36m1\u001b[0m\u001b[0;34m\u001b[0m\u001b[0m\n\u001b[1;32m   1025\u001b[0m \u001b[0;34m\u001b[0m\u001b[0m\n",
            "\u001b[0;31mWebserviceException\u001b[0m: WebserviceException:\n\tMessage: Models must either be of type azureml.core.Model or a str path to a file or folder.\n\tInnerException None\n\tErrorResponse \n{\n    \"error\": {\n        \"message\": \"Models must either be of type azureml.core.Model or a str path to a file or folder.\"\n    }\n}"
          ]
        }
      ]
    },
    {
      "metadata": {
        "trusted": true
      },
      "cell_type": "code",
      "source": "",
      "execution_count": null,
      "outputs": []
    }
  ],
  "metadata": {
    "kernelspec": {
      "name": "python36",
      "display_name": "Python 3.6",
      "language": "python"
    },
    "language_info": {
      "mimetype": "text/x-python",
      "nbconvert_exporter": "python",
      "name": "python",
      "pygments_lexer": "ipython3",
      "version": "3.6.6",
      "file_extension": ".py",
      "codemirror_mode": {
        "version": 3,
        "name": "ipython"
      }
    }
  },
  "nbformat": 4,
  "nbformat_minor": 2
}