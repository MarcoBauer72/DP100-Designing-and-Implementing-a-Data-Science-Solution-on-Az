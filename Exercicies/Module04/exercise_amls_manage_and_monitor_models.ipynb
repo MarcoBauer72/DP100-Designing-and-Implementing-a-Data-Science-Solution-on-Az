{
  "cells": [
    {
      "metadata": {},
      "cell_type": "markdown",
      "source": "# Enabling Data Collection for Models in Production\nWith this notebook, you can learn how to collect input model data from your Azure Machine Learning service in an Azure Blob storage. Once enabled, this data collected gives you the opportunity:\n\n* Monitor data drifts as production data enters your model\n* Make better decisions on when to retrain or optimize your model\n* Retrain your model with the data collected\n\n## What data is collected?\n* Model input data (voice, images, and video are not supported) from services deployed in Azure Kubernetes Cluster (AKS)\n* Model predictions using production input data.\n\n**Note:** pre-aggregation or pre-calculations on this data are done by user and not included in this version of the product.\n\n## What is different compared to standard production deployment process?\n1. Update scoring file.\n2. Update yml file with new dependency.\n3. Update aks configuration.\n4. Build new image and deploy it. "
    },
    {
      "metadata": {},
      "cell_type": "markdown",
      "source": "![Impressions](https://PixelServer20190423114238.azurewebsites.net/api/impressions/MachineLearningNotebooks/how-to-use-azureml/deployment/enable-data-collection-for-models-in-aks/enable-data-collection-for-models-in-aks.png)"
    },
    {
      "metadata": {},
      "cell_type": "markdown",
      "source": "## 1. Import your dependencies"
    },
    {
      "metadata": {
        "trusted": true
      },
      "cell_type": "code",
      "source": "from azureml.core import Workspace\nfrom azureml.core.compute import AksCompute, ComputeTarget\nfrom azureml.core.webservice import Webservice, AksWebservice\nimport azureml.core\nprint(azureml.core.VERSION)",
      "execution_count": 4,
      "outputs": [
        {
          "output_type": "stream",
          "text": "1.0.72\n",
          "name": "stdout"
        }
      ]
    },
    {
      "metadata": {},
      "cell_type": "markdown",
      "source": "## 2. Set up your configuration and create a workspace"
    },
    {
      "metadata": {
        "trusted": true
      },
      "cell_type": "code",
      "source": "ws = Workspace.from_config()\nprint(ws.name, ws.resource_group, ws.location, ws.subscription_id, sep = '\\n')",
      "execution_count": 5,
      "outputs": [
        {
          "output_type": "stream",
          "text": "BAUERWK\nDP100\neastus\n52b56929-ee84-495c-91c3-a84dfacbc9d2\n",
          "name": "stdout"
        }
      ]
    },
    {
      "metadata": {},
      "cell_type": "markdown",
      "source": "## 3. Register Model\nRegister an existing trained model, add descirption and tags."
    },
    {
      "metadata": {
        "trusted": true
      },
      "cell_type": "code",
      "source": "#Register the model\nfrom azureml.core.model import Model\nmodel = Model.register(model_path = \"sklearn_regression_model.pkl\", # this points to a local file\n                       model_name = \"sklearn_regression_model.pkl\", # this is the name the model is registered as\n                       tags = {'area': \"diabetes\", 'type': \"regression\"},\n                       description = \"Ridge regression model to predict diabetes\",\n                       workspace = ws)\n\nprint(model.name, model.description, model.version)",
      "execution_count": 6,
      "outputs": [
        {
          "output_type": "stream",
          "text": "Registering model sklearn_regression_model.pkl\nsklearn_regression_model.pkl Ridge regression model to predict diabetes 1\n",
          "name": "stdout"
        }
      ]
    },
    {
      "metadata": {},
      "cell_type": "markdown",
      "source": "## 4. *Update your scoring file with Data Collection*\nThe file below, compared to the file used in notebook 11, has the following changes:\n### a. Import the module\n```python \nfrom azureml.monitoring import ModelDataCollector```\n### b. In your init function add:\n```python \nglobal inputs_dc, prediction_d\ninputs_dc = ModelDataCollector(\"best_model\", identifier=\"inputs\", feature_names=[\"feat1\", \"feat2\", \"feat3\", \"feat4\", \"feat5\", \"Feat6\"])\nprediction_dc = ModelDataCollector(\"best_model\", identifier=\"predictions\", feature_names=[\"prediction1\", \"prediction2\"])```\n    \n* Identifier: Identifier is later used for building the folder structure in your Blob, it can be used to divide \"raw\" data versus \"processed\".\n* CorrelationId: is an optional parameter, you do not need to set it up if your model doesn't require it. Having a correlationId in place does help you for easier mapping with other data. (Examples include: LoanNumber, CustomerId, etc.)\n* Feature Names: These need to be set up in the order of your features in order for them to have column names when the .csv is created.\n\n### c. In your run function add:\n```python\ninputs_dc.collect(data)\nprediction_dc.collect(result)```"
    },
    {
      "metadata": {
        "trusted": true
      },
      "cell_type": "code",
      "source": "%%writefile score.py\nimport pickle\nimport json\nimport numpy \nfrom sklearn.externals import joblib\nfrom sklearn.linear_model import Ridge\nfrom azureml.core.model import Model\nfrom azureml.monitoring import ModelDataCollector\nimport time\n\ndef init():\n    global model\n    print (\"model initialized\" + time.strftime(\"%H:%M:%S\"))\n    # note here \"sklearn_regression_model.pkl\" is the name of the model registered under the workspace\n    # this call should return the path to the model.pkl file on the local disk.\n    model_path = Model.get_model_path(model_name = 'sklearn_regression_model.pkl')\n    # deserialize the model file back into a sklearn model\n    model = joblib.load(model_path)\n    global inputs_dc, prediction_dc\n    # this setup will help us save our inputs under the \"inputs\" path in our Azure Blob\n    inputs_dc = ModelDataCollector(model_name=\"sklearn_regression_model\", identifier=\"inputs\", feature_names=[\"feat1\", \"feat2\"]) \n    # this setup will help us save our ipredictions under the \"predictions\" path in our Azure Blob\n    prediction_dc = ModelDataCollector(\"sklearn_regression_model\", identifier=\"predictions\", feature_names=[\"prediction1\", \"prediction2\"]) \n  \n# note you can pass in multiple rows for scoring\ndef run(raw_data):\n    global inputs_dc, prediction_dc\n    try:\n        data = json.loads(raw_data)['data']\n        data = numpy.array(data)\n        result = model.predict(data)\n        print (\"saving input data\" + time.strftime(\"%H:%M:%S\"))\n        inputs_dc.collect(data) #this call is saving our input data into our blob\n        prediction_dc.collect(result)#this call is saving our prediction data into our blob\n        print (\"saving prediction data\" + time.strftime(\"%H:%M:%S\"))\n        # you can return any data type as long as it is JSON-serializable\n        return result.tolist()\n    except Exception as e:\n        error = str(e)\n        print (error + time.strftime(\"%H:%M:%S\"))\n        return error",
      "execution_count": 7,
      "outputs": [
        {
          "output_type": "stream",
          "text": "Overwriting score.py\n",
          "name": "stdout"
        }
      ]
    },
    {
      "metadata": {},
      "cell_type": "markdown",
      "source": "## 5. *Update your myenv.yml file with the required module*"
    },
    {
      "metadata": {
        "trusted": true
      },
      "cell_type": "code",
      "source": "from azureml.core.conda_dependencies import CondaDependencies \n\nmyenv = CondaDependencies.create(conda_packages=['numpy','scikit-learn'])\nmyenv.add_pip_package(\"azureml-monitoring\")\n\nwith open(\"myenv.yml\",\"w\") as f:\n    f.write(myenv.serialize_to_string())",
      "execution_count": 8,
      "outputs": []
    },
    {
      "metadata": {},
      "cell_type": "markdown",
      "source": "## 6. Create your new Image"
    },
    {
      "metadata": {
        "trusted": true
      },
      "cell_type": "code",
      "source": "from azureml.core.image import ContainerImage\n\nimage_config = ContainerImage.image_configuration(execution_script = \"score.py\",\n                                                  runtime = \"python\",\n                                                  conda_file = \"myenv.yml\",\n                                                  description = \"Image with ridge regression model\",\n                                                  tags = {'area': \"diabetes\", 'type': \"regression\"}\n                                                 )\n\nimage = ContainerImage.create(name = \"myimage1\",\n                              # this is the model object\n                              models = [model],\n                              image_config = image_config,\n                              workspace = ws)\n\nimage.wait_for_creation(show_output = True)",
      "execution_count": 9,
      "outputs": [
        {
          "output_type": "stream",
          "text": "Creating image\nRunning......................................\nSucceeded\nImage creation operation finished for image myimage1:1, operation \"Succeeded\"\n",
          "name": "stdout"
        }
      ]
    },
    {
      "metadata": {
        "trusted": true
      },
      "cell_type": "code",
      "source": "print(model.name, model.description, model.version)",
      "execution_count": 10,
      "outputs": [
        {
          "output_type": "stream",
          "text": "sklearn_regression_model.pkl Ridge regression model to predict diabetes 1\n",
          "name": "stdout"
        }
      ]
    },
    {
      "metadata": {},
      "cell_type": "markdown",
      "source": "## 7. Deploy to AKS service"
    },
    {
      "metadata": {},
      "cell_type": "markdown",
      "source": "### Create AKS compute if you haven't done so."
    },
    {
      "metadata": {
        "trusted": true
      },
      "cell_type": "code",
      "source": "# Use the default configuration (can also provide parameters to customize)\nprov_config = AksCompute.provisioning_configuration()\n\naks_name = 'my-aks-test1' \n# Create the cluster\naks_target = ComputeTarget.create(workspace = ws, \n                                  name = aks_name, \n                                  provisioning_configuration = prov_config)",
      "execution_count": 11,
      "outputs": []
    },
    {
      "metadata": {
        "trusted": true
      },
      "cell_type": "code",
      "source": "%%time\naks_target.wait_for_completion(show_output = True)\nprint(aks_target.provisioning_state)\nprint(aks_target.provisioning_errors)",
      "execution_count": 17,
      "outputs": [
        {
          "output_type": "stream",
          "text": "SucceededProvisioning operation finished, operation \"Succeeded\"\nSucceeded\nNone\nCPU times: user 32.4 ms, sys: 25.5 ms, total: 57.9 ms\nWall time: 668 ms\n",
          "name": "stdout"
        }
      ]
    },
    {
      "metadata": {},
      "cell_type": "markdown",
      "source": "If you already have a cluster you can attach the service to it:"
    },
    {
      "metadata": {
        "trusted": true
      },
      "cell_type": "code",
      "source": "print(aks_target)",
      "execution_count": 18,
      "outputs": [
        {
          "output_type": "stream",
          "text": "AksCompute(workspace=Workspace.create(name='BAUERWK', subscription_id='52b56929-ee84-495c-91c3-a84dfacbc9d2', resource_group='DP100'), name=my-aks-test1, id=/subscriptions/52b56929-ee84-495c-91c3-a84dfacbc9d2/resourceGroups/DP100/providers/Microsoft.MachineLearningServices/workspaces/BAUERWK/computes/my-aks-test1, type=AKS, provisioning_state=Succeeded, location=eastus, tags=None)\n",
          "name": "stdout"
        }
      ]
    },
    {
      "metadata": {},
      "cell_type": "markdown",
      "source": "```python \n    %%time\n    resource_id = '/subscriptions/<subscriptionid>/resourcegroups/<resourcegroupname>/providers/Microsoft.ContainerService/managedClusters/<aksservername>'\n    create_name= 'myaks4'\n    attach_config = AksCompute.attach_configuration(resource_id=resource_id)\n    aks_target = ComputeTarget.attach(workspace = ws, \n                                      name = create_name, \n                                      attach_configuration=attach_config)\n    ## Wait for the operation to complete\n    aks_target.wait_for_provisioning(True)```"
    },
    {
      "metadata": {},
      "cell_type": "markdown",
      "source": "### a. *Activate Data Collection and App Insights through updating AKS Webservice configuration*\nIn order to enable Data Collection and App Insights in your service you will need to update your AKS configuration file:"
    },
    {
      "metadata": {
        "trusted": true
      },
      "cell_type": "code",
      "source": "#Set the web service configuration\naks_config = AksWebservice.deploy_configuration(collect_model_data=True, enable_app_insights=True)",
      "execution_count": 19,
      "outputs": []
    },
    {
      "metadata": {},
      "cell_type": "markdown",
      "source": "### b. Deploy your service"
    },
    {
      "metadata": {
        "trusted": true
      },
      "cell_type": "code",
      "source": "if aks_target.provisioning_state== \"Succeeded\": \n    aks_service_name ='aks-w-dc0'\n    aks_service = Webservice.deploy_from_image(workspace = ws, \n                                               name = aks_service_name,\n                                               image = image,\n                                               deployment_config = aks_config,\n                                               deployment_target = aks_target\n                                               )\n    aks_service.wait_for_deployment(show_output = True)\n    print(aks_service.state)\nelse: \n    raise ValueError(\"aks provisioning failed, can't deploy service. Error: \", aks_service.error)",
      "execution_count": 20,
      "outputs": [
        {
          "output_type": "stream",
          "text": "Running....\nFailed\n",
          "name": "stdout"
        },
        {
          "output_type": "stream",
          "text": "ERROR - Service deployment polling reached non-successful terminal state, current service state: Failed\nMore information can be found using '.get_logs()'\nError:\n{\n  \"code\": \"KubernetesDeploymentFailed\",\n  \"statusCode\": 400,\n  \"message\": \"Kubernetes Deployment failed\",\n  \"details\": [\n    {\n      \"code\": \"CrashLoopBackOff\",\n      \"message\": \"Your container application crashed. This may be caused by errors in your scoring file's init() function.\\nPlease check the logs for your container instance: aks-w-dc0. From the AML SDK, you can run print(service.get_logs()) if you have service object to fetch the logs. \\nYou can also try to run image sha256:b60f58c90a3683794199b2cad0b3c6ef21ed06f2e70cca4bc6a6326c79423635 locally. Please refer to http://aka.ms/debugimage#service-launch-fails for more information.\"\n    }\n  ]\n}\n\nERROR - Service deployment polling reached non-successful terminal state, current service state: Failed\nMore information can be found using '.get_logs()'\nError:\n{\n  \"code\": \"KubernetesDeploymentFailed\",\n  \"statusCode\": 400,\n  \"message\": \"Kubernetes Deployment failed\",\n  \"details\": [\n    {\n      \"code\": \"CrashLoopBackOff\",\n      \"message\": \"Your container application crashed. This may be caused by errors in your scoring file's init() function.\\nPlease check the logs for your container instance: aks-w-dc0. From the AML SDK, you can run print(service.get_logs()) if you have service object to fetch the logs. \\nYou can also try to run image sha256:b60f58c90a3683794199b2cad0b3c6ef21ed06f2e70cca4bc6a6326c79423635 locally. Please refer to http://aka.ms/debugimage#service-launch-fails for more information.\"\n    }\n  ]\n}\n\n",
          "name": "stderr"
        },
        {
          "output_type": "error",
          "ename": "WebserviceException",
          "evalue": "WebserviceException:\n\tMessage: Service deployment polling reached non-successful terminal state, current service state: Failed\nMore information can be found using '.get_logs()'\nError:\n{\n  \"code\": \"KubernetesDeploymentFailed\",\n  \"statusCode\": 400,\n  \"message\": \"Kubernetes Deployment failed\",\n  \"details\": [\n    {\n      \"code\": \"CrashLoopBackOff\",\n      \"message\": \"Your container application crashed. This may be caused by errors in your scoring file's init() function.\\nPlease check the logs for your container instance: aks-w-dc0. From the AML SDK, you can run print(service.get_logs()) if you have service object to fetch the logs. \\nYou can also try to run image sha256:b60f58c90a3683794199b2cad0b3c6ef21ed06f2e70cca4bc6a6326c79423635 locally. Please refer to http://aka.ms/debugimage#service-launch-fails for more information.\"\n    }\n  ]\n}\n\tInnerException None\n\tErrorResponse \n{\n    \"error\": {\n        \"message\": \"Service deployment polling reached non-successful terminal state, current service state: Failed\\nMore information can be found using '.get_logs()'\\nError:\\n{\\n  \\\"code\\\": \\\"KubernetesDeploymentFailed\\\",\\n  \\\"statusCode\\\": 400,\\n  \\\"message\\\": \\\"Kubernetes Deployment failed\\\",\\n  \\\"details\\\": [\\n    {\\n      \\\"code\\\": \\\"CrashLoopBackOff\\\",\\n      \\\"message\\\": \\\"Your container application crashed. This may be caused by errors in your scoring file's init() function.\\\\nPlease check the logs for your container instance: aks-w-dc0. From the AML SDK, you can run print(service.get_logs()) if you have service object to fetch the logs. \\\\nYou can also try to run image sha256:b60f58c90a3683794199b2cad0b3c6ef21ed06f2e70cca4bc6a6326c79423635 locally. Please refer to http://aka.ms/debugimage#service-launch-fails for more information.\\\"\\n    }\\n  ]\\n}\"\n    }\n}",
          "traceback": [
            "\u001b[0;31m---------------------------------------------------------------------------\u001b[0m",
            "\u001b[0;31mWebserviceException\u001b[0m                       Traceback (most recent call last)",
            "\u001b[0;32m~/anaconda3_501/lib/python3.6/site-packages/azureml/core/webservice/webservice.py\u001b[0m in \u001b[0;36mwait_for_deployment\u001b[0;34m(self, show_output)\u001b[0m\n\u001b[1;32m    530\u001b[0m                                           \u001b[0;34m'Error:\\n'\u001b[0m\u001b[0;34m\u001b[0m\u001b[0m\n\u001b[0;32m--> 531\u001b[0;31m                                           '{}'.format(self.state, logs_response, error_response), logger=module_logger)\n\u001b[0m\u001b[1;32m    532\u001b[0m             print('{} service creation operation finished, operation \"{}\"'.format(self._webservice_type,\n",
            "\u001b[0;31mWebserviceException\u001b[0m: WebserviceException:\n\tMessage: Service deployment polling reached non-successful terminal state, current service state: Failed\nMore information can be found using '.get_logs()'\nError:\n{\n  \"code\": \"KubernetesDeploymentFailed\",\n  \"statusCode\": 400,\n  \"message\": \"Kubernetes Deployment failed\",\n  \"details\": [\n    {\n      \"code\": \"CrashLoopBackOff\",\n      \"message\": \"Your container application crashed. This may be caused by errors in your scoring file's init() function.\\nPlease check the logs for your container instance: aks-w-dc0. From the AML SDK, you can run print(service.get_logs()) if you have service object to fetch the logs. \\nYou can also try to run image sha256:b60f58c90a3683794199b2cad0b3c6ef21ed06f2e70cca4bc6a6326c79423635 locally. Please refer to http://aka.ms/debugimage#service-launch-fails for more information.\"\n    }\n  ]\n}\n\tInnerException None\n\tErrorResponse \n{\n    \"error\": {\n        \"message\": \"Service deployment polling reached non-successful terminal state, current service state: Failed\\nMore information can be found using '.get_logs()'\\nError:\\n{\\n  \\\"code\\\": \\\"KubernetesDeploymentFailed\\\",\\n  \\\"statusCode\\\": 400,\\n  \\\"message\\\": \\\"Kubernetes Deployment failed\\\",\\n  \\\"details\\\": [\\n    {\\n      \\\"code\\\": \\\"CrashLoopBackOff\\\",\\n      \\\"message\\\": \\\"Your container application crashed. This may be caused by errors in your scoring file's init() function.\\\\nPlease check the logs for your container instance: aks-w-dc0. From the AML SDK, you can run print(service.get_logs()) if you have service object to fetch the logs. \\\\nYou can also try to run image sha256:b60f58c90a3683794199b2cad0b3c6ef21ed06f2e70cca4bc6a6326c79423635 locally. Please refer to http://aka.ms/debugimage#service-launch-fails for more information.\\\"\\n    }\\n  ]\\n}\"\n    }\n}",
            "\nDuring handling of the above exception, another exception occurred:\n",
            "\u001b[0;31mWebserviceException\u001b[0m                       Traceback (most recent call last)",
            "\u001b[0;32m<ipython-input-20-8886f056912c>\u001b[0m in \u001b[0;36m<module>\u001b[0;34m\u001b[0m\n\u001b[1;32m      7\u001b[0m                                                \u001b[0mdeployment_target\u001b[0m \u001b[0;34m=\u001b[0m \u001b[0maks_target\u001b[0m\u001b[0;34m\u001b[0m\u001b[0m\n\u001b[1;32m      8\u001b[0m                                                )\n\u001b[0;32m----> 9\u001b[0;31m     \u001b[0maks_service\u001b[0m\u001b[0;34m.\u001b[0m\u001b[0mwait_for_deployment\u001b[0m\u001b[0;34m(\u001b[0m\u001b[0mshow_output\u001b[0m \u001b[0;34m=\u001b[0m \u001b[0;32mTrue\u001b[0m\u001b[0;34m)\u001b[0m\u001b[0;34m\u001b[0m\u001b[0m\n\u001b[0m\u001b[1;32m     10\u001b[0m     \u001b[0mprint\u001b[0m\u001b[0;34m(\u001b[0m\u001b[0maks_service\u001b[0m\u001b[0;34m.\u001b[0m\u001b[0mstate\u001b[0m\u001b[0;34m)\u001b[0m\u001b[0;34m\u001b[0m\u001b[0m\n\u001b[1;32m     11\u001b[0m \u001b[0;32melse\u001b[0m\u001b[0;34m:\u001b[0m\u001b[0;34m\u001b[0m\u001b[0m\n",
            "\u001b[0;32m~/anaconda3_501/lib/python3.6/site-packages/azureml/core/webservice/webservice.py\u001b[0m in \u001b[0;36mwait_for_deployment\u001b[0;34m(self, show_output)\u001b[0m\n\u001b[1;32m    538\u001b[0m                                           'Current state is {}'.format(self.state), logger=module_logger)\n\u001b[1;32m    539\u001b[0m             \u001b[0;32melse\u001b[0m\u001b[0;34m:\u001b[0m\u001b[0;34m\u001b[0m\u001b[0m\n\u001b[0;32m--> 540\u001b[0;31m                 \u001b[0;32mraise\u001b[0m \u001b[0mWebserviceException\u001b[0m\u001b[0;34m(\u001b[0m\u001b[0me\u001b[0m\u001b[0;34m.\u001b[0m\u001b[0mmessage\u001b[0m\u001b[0;34m,\u001b[0m \u001b[0mlogger\u001b[0m\u001b[0;34m=\u001b[0m\u001b[0mmodule_logger\u001b[0m\u001b[0;34m)\u001b[0m\u001b[0;34m\u001b[0m\u001b[0m\n\u001b[0m\u001b[1;32m    541\u001b[0m \u001b[0;34m\u001b[0m\u001b[0m\n\u001b[1;32m    542\u001b[0m     \u001b[0;32mdef\u001b[0m \u001b[0m_wait_for_operation_to_complete\u001b[0m\u001b[0;34m(\u001b[0m\u001b[0mself\u001b[0m\u001b[0;34m,\u001b[0m \u001b[0mshow_output\u001b[0m\u001b[0;34m)\u001b[0m\u001b[0;34m:\u001b[0m\u001b[0;34m\u001b[0m\u001b[0m\n",
            "\u001b[0;31mWebserviceException\u001b[0m: WebserviceException:\n\tMessage: Service deployment polling reached non-successful terminal state, current service state: Failed\nMore information can be found using '.get_logs()'\nError:\n{\n  \"code\": \"KubernetesDeploymentFailed\",\n  \"statusCode\": 400,\n  \"message\": \"Kubernetes Deployment failed\",\n  \"details\": [\n    {\n      \"code\": \"CrashLoopBackOff\",\n      \"message\": \"Your container application crashed. This may be caused by errors in your scoring file's init() function.\\nPlease check the logs for your container instance: aks-w-dc0. From the AML SDK, you can run print(service.get_logs()) if you have service object to fetch the logs. \\nYou can also try to run image sha256:b60f58c90a3683794199b2cad0b3c6ef21ed06f2e70cca4bc6a6326c79423635 locally. Please refer to http://aka.ms/debugimage#service-launch-fails for more information.\"\n    }\n  ]\n}\n\tInnerException None\n\tErrorResponse \n{\n    \"error\": {\n        \"message\": \"Service deployment polling reached non-successful terminal state, current service state: Failed\\nMore information can be found using '.get_logs()'\\nError:\\n{\\n  \\\"code\\\": \\\"KubernetesDeploymentFailed\\\",\\n  \\\"statusCode\\\": 400,\\n  \\\"message\\\": \\\"Kubernetes Deployment failed\\\",\\n  \\\"details\\\": [\\n    {\\n      \\\"code\\\": \\\"CrashLoopBackOff\\\",\\n      \\\"message\\\": \\\"Your container application crashed. This may be caused by errors in your scoring file's init() function.\\\\nPlease check the logs for your container instance: aks-w-dc0. From the AML SDK, you can run print(service.get_logs()) if you have service object to fetch the logs. \\\\nYou can also try to run image sha256:b60f58c90a3683794199b2cad0b3c6ef21ed06f2e70cca4bc6a6326c79423635 locally. Please refer to http://aka.ms/debugimage#service-launch-fails for more information.\\\"\\n    }\\n  ]\\n}\"\n    }\n}"
          ]
        }
      ]
    },
    {
      "metadata": {
        "trusted": true
      },
      "cell_type": "code",
      "source": "",
      "execution_count": 21,
      "outputs": [
        {
          "output_type": "error",
          "ename": "NameError",
          "evalue": "name 'service' is not defined",
          "traceback": [
            "\u001b[0;31m---------------------------------------------------------------------------\u001b[0m",
            "\u001b[0;31mNameError\u001b[0m                                 Traceback (most recent call last)",
            "\u001b[0;32m<ipython-input-21-d9b3c3bf9972>\u001b[0m in \u001b[0;36m<module>\u001b[0;34m\u001b[0m\n\u001b[0;32m----> 1\u001b[0;31m \u001b[0mprint\u001b[0m\u001b[0;34m(\u001b[0m\u001b[0mservice\u001b[0m\u001b[0;34m.\u001b[0m\u001b[0mget_logs\u001b[0m\u001b[0;34m(\u001b[0m\u001b[0;34m)\u001b[0m\u001b[0;34m)\u001b[0m\u001b[0;34m\u001b[0m\u001b[0m\n\u001b[0m",
            "\u001b[0;31mNameError\u001b[0m: name 'service' is not defined"
          ]
        }
      ]
    },
    {
      "metadata": {},
      "cell_type": "markdown",
      "source": "## 8. Test your service and send some data\n**Note**: It will take around 15 mins for your data to appear in your blob.\nThe data will appear in your Azure Blob following this format:\n\n/modeldata/subscriptionid/resourcegroupname/workspacename/webservicename/modelname/modelversion/identifier/year/month/day/data.csv "
    },
    {
      "metadata": {
        "trusted": true
      },
      "cell_type": "code",
      "source": "%%time\nimport json\n\ntest_sample = json.dumps({'data': [\n    [1,2,3,4,54,6,7,8,88,10], \n    [10,9,8,37,36,45,4,33,2,1]\n]})\ntest_sample = bytes(test_sample,encoding = 'utf8')\n\nif aks_service.state == \"Healthy\":\n    prediction = aks_service.run(input_data=test_sample)\n    print(prediction)\nelse:\n    raise ValueError(\"Service deployment isn't healthy, can't call the service. Error: \", aks_service.error)",
      "execution_count": 49,
      "outputs": [
        {
          "output_type": "error",
          "ename": "ValueError",
          "evalue": "(\"Service deployment isn't healthy, can't call the service. Error: \", {'code': 'KubernetesDeploymentFailed', 'statusCode': 400, 'message': 'Kubernetes Deployment failed', 'details': [{'code': 'CrashLoopBackOff', 'message': \"Your container application crashed. This may be caused by errors in your scoring file's init() function.\\nPlease check the logs for your container instance: aks-w-dc10. From the AML SDK, you can run print(service.get_logs()) if you have service object to fetch the logs. \\nYou can also try to run image sha256:fd3703467def1680d6c9cb92eb4219a6e18b0dca77aa6cf17be11399adca5083 locally. Please refer to http://aka.ms/debugimage#service-launch-fails for more information.\"}]})",
          "traceback": [
            "\u001b[0;31m---------------------------------------------------------------------------\u001b[0m",
            "\u001b[0;31mValueError\u001b[0m                                Traceback (most recent call last)",
            "\u001b[0;32m<timed exec>\u001b[0m in \u001b[0;36m<module>\u001b[0;34m\u001b[0m\n",
            "\u001b[0;31mValueError\u001b[0m: (\"Service deployment isn't healthy, can't call the service. Error: \", {'code': 'KubernetesDeploymentFailed', 'statusCode': 400, 'message': 'Kubernetes Deployment failed', 'details': [{'code': 'CrashLoopBackOff', 'message': \"Your container application crashed. This may be caused by errors in your scoring file's init() function.\\nPlease check the logs for your container instance: aks-w-dc10. From the AML SDK, you can run print(service.get_logs()) if you have service object to fetch the logs. \\nYou can also try to run image sha256:fd3703467def1680d6c9cb92eb4219a6e18b0dca77aa6cf17be11399adca5083 locally. Please refer to http://aka.ms/debugimage#service-launch-fails for more information.\"}]})"
          ]
        }
      ]
    },
    {
      "metadata": {},
      "cell_type": "markdown",
      "source": "## 9. Validate you data and analyze it\nYou can look into your data following this path format in your Azure Blob (it takes up to 15 minutes for the data to appear):\n\n/modeldata/**subscriptionid>**/**resourcegroupname>**/**workspacename>**/**webservicename>**/**modelname>**/**modelversion>>**/**identifier>**/*year/month/day*/data.csv \n\nFor doing further analysis you have multiple options:"
    },
    {
      "metadata": {},
      "cell_type": "markdown",
      "source": "### a. Create DataBricks cluter and connect it to your blob\nhttps://docs.microsoft.com/en-us/azure/azure-databricks/quickstart-create-databricks-workspace-portal or in your databricks workspace you can look for the template \"Azure Blob Storage Import Example Notebook\".\n\n\nHere is an example for setting up the file location to extract the relevant data:\n\n<code> file_location = \"wasbs://mycontainer@storageaccountname.blob.core.windows.net/unknown/unknown/unknown-bigdataset-unknown/my_iterate_parking_inputs/2018/&deg;/&deg;/data.csv\" \nfile_type = \"csv\"</code>\n"
    },
    {
      "metadata": {},
      "cell_type": "markdown",
      "source": "### b. Connect Blob to Power Bi (Small Data only)\n1. Download and Open PowerBi Desktop\n2. Select \"Get Data\" and click on \"Azure Blob Storage\" >> Connect\n3. Add your storage account and enter your storage key.\n4. Select the container where your Data Collection is stored and click on Edit. \n5. In the query editor, click under \"Name\" column and add your Storage account Model path into the filter. Note: if you want to only look into files from a specific year or month, just expand the filter path. For example, just look into March data: /modeldata/subscriptionid>/resourcegroupname>/workspacename>/webservicename>/modelname>/modelversion>/identifier>/year>/3\n6. Click on the double arrow aside the \"Content\" column to combine the files. \n7. Click OK and the data will preload.\n8. You can now click Close and Apply and start building your custom reports on your Model Input data."
    },
    {
      "metadata": {},
      "cell_type": "markdown",
      "source": "# Disable Data Collection"
    },
    {
      "metadata": {
        "trusted": false
      },
      "cell_type": "code",
      "source": "aks_service.update(collect_model_data=False)",
      "execution_count": null,
      "outputs": []
    },
    {
      "metadata": {},
      "cell_type": "markdown",
      "source": "## Clean up"
    },
    {
      "metadata": {
        "trusted": false
      },
      "cell_type": "code",
      "source": "%%time\naks_service.delete()\nimage.delete()\nmodel.delete()",
      "execution_count": null,
      "outputs": []
    }
  ],
  "metadata": {
    "authors": [
      {
        "name": "shipatel"
      }
    ],
    "kernelspec": {
      "name": "python36",
      "display_name": "Python 3.6",
      "language": "python"
    },
    "language_info": {
      "mimetype": "text/x-python",
      "nbconvert_exporter": "python",
      "name": "python",
      "pygments_lexer": "ipython3",
      "version": "3.6.6",
      "file_extension": ".py",
      "codemirror_mode": {
        "version": 3,
        "name": "ipython"
      }
    }
  },
  "nbformat": 4,
  "nbformat_minor": 2
}