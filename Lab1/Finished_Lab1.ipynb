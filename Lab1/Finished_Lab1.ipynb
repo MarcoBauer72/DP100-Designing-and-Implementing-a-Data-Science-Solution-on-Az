{
  "cells": [
    {
      "metadata": {},
      "cell_type": "markdown",
      "source": "Copyright (c) Microsoft Corporation. All rights reserved.\n\nLicensed under the MIT License."
    },
    {
      "metadata": {},
      "cell_type": "markdown",
      "source": "## Lab 1:  Train a Model in Azure Notebook"
    },
    {
      "metadata": {},
      "cell_type": "markdown",
      "source": "### You are excited to jump in and traing a model that predicts the type of bicycle a customer will purchase.  Initially, you decide to keep things simple and explore the data and train the model in a local notebook without any Azure resources.  Normally, you would do this on your own machine but you discovered the free Azure Notebooks service and decide to work there. Since the Azure Notebook environment is preconfigured with the Azure ML service SDKs (which can be pretty version specific) and all the popular Python packages you use, working in Azure Notebook will make migrating your model to Azure much easier."
    },
    {
      "metadata": {},
      "cell_type": "markdown",
      "source": "## Introduction\nIn this example you will use a data extract file provided by your team's data engineer.  Fortunately, the extract has all the columns you think are useful to train a model that predicts the bike type a customer will purchase. \n\nIn this notebook you will:\n1. Perform exploratory data analysis.\n2. Create model features.\n3. Train a classification model."
    },
    {
      "metadata": {},
      "cell_type": "markdown",
      "source": "## Let's start by importing the Python modules we will need."
    },
    {
      "metadata": {
        "trusted": true
      },
      "cell_type": "code",
      "source": "%matplotlib inline\n\nfrom matplotlib import pyplot as plt\nimport numpy as np\nimport pandas as pd",
      "execution_count": 49,
      "outputs": []
    },
    {
      "metadata": {},
      "cell_type": "markdown",
      "source": "## Explore the Data\nz\n### If you have not uploaded the file, AWBikeSales.csv to the Azure Notebook folder where this notebook is running from, do so now. \n\n### Load the extract file AWBikesSales.csv into a dataframe."
    },
    {
      "metadata": {
        "trusted": true
      },
      "cell_type": "raw",
      "source": "import pandas as pd\ndf_bikesales = pd.read_csv(r'./AWBikeSales.csv', encoding ='latin1')"
    },
    {
      "metadata": {
        "trusted": true
      },
      "cell_type": "code",
      "source": "# Let's list the columns...\n\ndf_bikesales.dtypes",
      "execution_count": 50,
      "outputs": [
        {
          "output_type": "error",
          "ename": "NameError",
          "evalue": "name 'df_bikesales' is not defined",
          "traceback": [
            "\u001b[0;31m---------------------------------------------------------------------------\u001b[0m",
            "\u001b[0;31mNameError\u001b[0m                                 Traceback (most recent call last)",
            "\u001b[0;32m<ipython-input-50-f15d1c180f5e>\u001b[0m in \u001b[0;36m<module>\u001b[0;34m\u001b[0m\n\u001b[1;32m      1\u001b[0m \u001b[0;31m# Let's list the columns...\u001b[0m\u001b[0;34m\u001b[0m\u001b[0;34m\u001b[0m\u001b[0m\n\u001b[1;32m      2\u001b[0m \u001b[0;34m\u001b[0m\u001b[0m\n\u001b[0;32m----> 3\u001b[0;31m \u001b[0mdf_bikesales\u001b[0m\u001b[0;34m.\u001b[0m\u001b[0mdtypes\u001b[0m\u001b[0;34m\u001b[0m\u001b[0m\n\u001b[0m",
            "\u001b[0;31mNameError\u001b[0m: name 'df_bikesales' is not defined"
          ]
        }
      ]
    },
    {
      "metadata": {
        "trusted": true
      },
      "cell_type": "code",
      "source": "# Let's view a few rows of data...\n\ndf_bikesales.head()",
      "execution_count": 51,
      "outputs": [
        {
          "output_type": "error",
          "ename": "NameError",
          "evalue": "name 'df_bikesales' is not defined",
          "traceback": [
            "\u001b[0;31m---------------------------------------------------------------------------\u001b[0m",
            "\u001b[0;31mNameError\u001b[0m                                 Traceback (most recent call last)",
            "\u001b[0;32m<ipython-input-51-df78900a3e10>\u001b[0m in \u001b[0;36m<module>\u001b[0;34m\u001b[0m\n\u001b[1;32m      1\u001b[0m \u001b[0;31m# Let's view a few rows of data...\u001b[0m\u001b[0;34m\u001b[0m\u001b[0;34m\u001b[0m\u001b[0m\n\u001b[1;32m      2\u001b[0m \u001b[0;34m\u001b[0m\u001b[0m\n\u001b[0;32m----> 3\u001b[0;31m \u001b[0mdf_bikesales\u001b[0m\u001b[0;34m.\u001b[0m\u001b[0mhead\u001b[0m\u001b[0;34m(\u001b[0m\u001b[0;34m)\u001b[0m\u001b[0;34m\u001b[0m\u001b[0m\n\u001b[0m",
            "\u001b[0;31mNameError\u001b[0m: name 'df_bikesales' is not defined"
          ]
        }
      ]
    },
    {
      "metadata": {},
      "cell_type": "markdown",
      "source": "# Exploratory Data Analysis"
    },
    {
      "metadata": {
        "trusted": true
      },
      "cell_type": "code",
      "source": "df_bikesales.shape",
      "execution_count": 5,
      "outputs": [
        {
          "output_type": "execute_result",
          "execution_count": 5,
          "data": {
            "text/plain": "(15205, 25)"
          },
          "metadata": {}
        }
      ]
    },
    {
      "metadata": {},
      "cell_type": "markdown",
      "source": "## 1)  One column that intrigues you is the customer YearlyIncome as that could affect the type of bike a customer buys.  Create a bar chart showing the count of customers for each value of YearlyIncome.  What does this tell you about Adventure Works customers?"
    },
    {
      "metadata": {
        "trusted": true
      },
      "cell_type": "code",
      "source": "df_bikesales['Salary'] = (df_bikesales['YearlyIncome']/1000).astype('int')\ndf_bikesales['Salary'].head()",
      "execution_count": 14,
      "outputs": [
        {
          "output_type": "execute_result",
          "execution_count": 14,
          "data": {
            "text/plain": "0    70\n1    20\n2    40\n3    80\n4    70\nName: Salary, dtype: int64"
          },
          "metadata": {}
        }
      ]
    },
    {
      "metadata": {
        "trusted": true
      },
      "cell_type": "code",
      "source": "df_bikesales.groupby(['Salary']).count()[['BirthDate']].plot.bar(rot=0)",
      "execution_count": 16,
      "outputs": [
        {
          "output_type": "execute_result",
          "execution_count": 16,
          "data": {
            "text/plain": "<matplotlib.axes._subplots.AxesSubplot at 0x7f8b41853080>"
          },
          "metadata": {}
        },
        {
          "output_type": "display_data",
          "data": {
            "image/png": "[encoded data removed]",
            "text/plain": "<matplotlib.figure.Figure at 0x7f8b415cc748>"
          },
          "metadata": {}
        }
      ]
    },
    {
      "metadata": {},
      "cell_type": "markdown",
      "source": "## 2)  Age seems like an attribute that would affect this model.  List the highest, lowest, median, mean, and quartiles of the Customers's age."
    },
    {
      "metadata": {
        "trusted": true
      },
      "cell_type": "code",
      "source": "df_bikesales['Age'].describe()",
      "execution_count": 8,
      "outputs": [
        {
          "output_type": "execute_result",
          "execution_count": 8,
          "data": {
            "text/plain": "count    15205.000000\nmean        48.488918\nstd         10.351013\nmin         32.000000\n25%         40.000000\n50%         46.000000\n75%         55.000000\nmax         91.000000\nName: Age, dtype: float64"
          },
          "metadata": {}
        }
      ]
    },
    {
      "metadata": {},
      "cell_type": "markdown",
      "source": "## 3)  Create a pie chart of the count of customers by Education."
    },
    {
      "metadata": {
        "trusted": true
      },
      "cell_type": "code",
      "source": "df_education = df_bikesales.groupby(['Education']).count()[['BirthDate']]\ndf_education.head()\ndf_education.plot.pie(y='BirthDate', figsize=(5, 5))\n# plot = df.plot.pie(y='mass', figsize=(5, 5))",
      "execution_count": 17,
      "outputs": [
        {
          "output_type": "execute_result",
          "execution_count": 17,
          "data": {
            "text/plain": "<matplotlib.axes._subplots.AxesSubplot at 0x7f8b4159bc50>"
          },
          "metadata": {}
        },
        {
          "output_type": "display_data",
          "data": {
            "image/png": "[encoded data removed]",
            "text/plain": "<matplotlib.figure.Figure at 0x7f8b41853048>"
          },
          "metadata": {}
        }
      ]
    },
    {
      "metadata": {},
      "cell_type": "markdown",
      "source": "## Where's the Bike Type?\n\n### You notice that there is no Bike Type column.  Fortunately, the ModelName has the bike type as the first word in the name followed by a dash.  You decide to extract this and put it in a new column named BikeType, i.e. Touring, Road, Mountain.  This is what the model will be trained to predict."
    },
    {
      "metadata": {
        "trusted": true
      },
      "cell_type": "code",
      "source": "df_bikesales[\"BikeType\"] = df_bikesales[\"ModelName\"].str.split(\"-\", n = 1, expand = True).loc[:,0]",
      "execution_count": 18,
      "outputs": []
    },
    {
      "metadata": {},
      "cell_type": "markdown",
      "source": "### Now do a count by BikeType to see how it breaks out."
    },
    {
      "metadata": {
        "trusted": true
      },
      "cell_type": "code",
      "source": "df_typecount = df_bikesales.groupby(['BikeType']).count()[['BirthDate']]\ndf_typecount.rename(columns={'BirthDate': 'Count'}, inplace=True)\ndf_typecount",
      "execution_count": 21,
      "outputs": [
        {
          "output_type": "execute_result",
          "execution_count": 21,
          "data": {
            "text/html": "<div>\n<table border=\"1\" class=\"dataframe\">\n  <thead>\n    <tr style=\"text-align: right;\">\n      <th></th>\n      <th>Count</th>\n    </tr>\n    <tr>\n      <th>BikeType</th>\n      <th></th>\n    </tr>\n  </thead>\n  <tbody>\n    <tr>\n      <th>Mountain</th>\n      <td>4970</td>\n    </tr>\n    <tr>\n      <th>Road</th>\n      <td>8068</td>\n    </tr>\n    <tr>\n      <th>Touring</th>\n      <td>2167</td>\n    </tr>\n  </tbody>\n</table>\n</div>",
            "text/plain": "          Count\nBikeType       \nMountain   4970\nRoad       8068\nTouring    2167"
          },
          "metadata": {}
        }
      ]
    },
    {
      "metadata": {},
      "cell_type": "markdown",
      "source": "## Feature Engineering:\n\n### Looking at the data, some columns seem like they would be more useful, if they were transformed.  \n\n### > For example, the number of children at home seems less important than if there are any children at home.  \n### > Individual ages seems less relavant than age ranges like under 18 and over 60.  \n### > YearlyIncome is more useful in ranges like low, medium, high.  \n"
    },
    {
      "metadata": {},
      "cell_type": "markdown",
      "source": "# Add columns that transform the data as follows. \n\n### - Convert ChildrentAtHome from continuous value to boolean\n### - Convert Age to Age Bands making it a categorical value\n### - Convert YearlyIncome into Income Bands making it a categorical value"
    },
    {
      "metadata": {},
      "cell_type": "markdown",
      "source": "### In the cell below, convert Children at home to 'yes' if it is greater than zero, otherwise set it to 'no'."
    },
    {
      "metadata": {
        "trusted": true
      },
      "cell_type": "code",
      "source": "import numpy as np\n\ndf_bikesales['ChildrenAtHome'] = np.where(df_bikesales['NumberChildrenAtHome']>0, 'yes', 'no')\ndf_bikesales['ChildrenAtHome'].head()",
      "execution_count": 22,
      "outputs": [
        {
          "output_type": "execute_result",
          "execution_count": 22,
          "data": {
            "text/plain": "0     no\n1    yes\n2     no\n3     no\n4     no\nName: ChildrenAtHome, dtype: object"
          },
          "metadata": {}
        }
      ]
    },
    {
      "metadata": {},
      "cell_type": "markdown",
      "source": "### In the cell below, create a column AgeBand that assigns a string value based on value as follows:\n\n- '0-18'\n- '19-29'\n- '30-39'\n- '40-49'\n- '50-59'\n- '60+'"
    },
    {
      "metadata": {
        "trusted": true
      },
      "cell_type": "code",
      "source": "df_bikesales['AgeBand'] =  pd.cut(df_bikesales['Age'], [0, 18, 29, 39, 49, 59, 200], labels=['0-18', '19-29', '30-39', '40-49', '50-59', '60+'])",
      "execution_count": 23,
      "outputs": []
    },
    {
      "metadata": {},
      "cell_type": "markdown",
      "source": "#### In the cell below, create a column AgeBand that assigns a string value based on value as follows:\n\n- '0-49k'\n- '50-99k'\n- '100-149k'\n- '150-199k'\n- '200-299k'\n- '300+'"
    },
    {
      "metadata": {
        "trusted": true
      },
      "cell_type": "code",
      "source": "df_bikesales['IncomeBand'] =  pd.cut(df_bikesales['YearlyIncome'], [0, 49000, 99000, 149000, 199000, 299999, 5000000], labels=['0-49k', '50-99k', '100-149k', '150-199k', '200-299k', '300+'])",
      "execution_count": 24,
      "outputs": []
    },
    {
      "metadata": {},
      "cell_type": "markdown",
      "source": "## All of our input features are really categories and need to be converted to categorical variables before they can be used in model training.  Categorical variables are number that represent a category.  Create a new column that is the source column name suffixed with Cat for the columns below:\n\nExample:  BikeTypeCat will hold the categorical value of BikeType.\n\n- BikeType\n- AgeBand\n- IncomeBand\n- MaritalStatus\n- Gender\n- ChildrenAtHome\n- CountryRegionCode\n- HouseOwnerFlag\n- Education\n- Occupation\n- CommuteDistance"
    },
    {
      "metadata": {},
      "cell_type": "markdown",
      "source": "## Convert categorical variables..."
    },
    {
      "metadata": {
        "trusted": true
      },
      "cell_type": "code",
      "source": "df_bikesales['BikeType'] = df_bikesales['BikeType'].astype('category')\ndf_bikesales['AgeBand'] = df_bikesales['AgeBand'].astype('category')\ndf_bikesales['IncomeBand'] = df_bikesales['IncomeBand'].astype('category')\ndf_bikesales['MaritalStatus'] = df_bikesales['MaritalStatus'].astype('category')\ndf_bikesales['Gender'] = df_bikesales['Gender'].astype('category')\ndf_bikesales['ChildrenAtHome'] = df_bikesales['ChildrenAtHome'].astype('category')\ndf_bikesales['CountryRegionCode'] = df_bikesales['CountryRegionCode'].astype('category')\ndf_bikesales['HouseOwnerFlag'] = df_bikesales['HouseOwnerFlag'].astype('category')\ndf_bikesales['Education'] = df_bikesales['Education'].astype('category')\ndf_bikesales['Occupation'] = df_bikesales['Occupation'].astype('category')\ndf_bikesales['CommuteDistance'] = df_bikesales['CommuteDistance'].astype('category')",
      "execution_count": 25,
      "outputs": []
    },
    {
      "metadata": {
        "trusted": true
      },
      "cell_type": "code",
      "source": "# Now create a new column for each categorical variable to hold the numeric value...\ndf_bikesales['BikeTypeCat'] = df_bikesales['BikeType'].cat.codes\ndf_bikesales['AgeBandCat'] = df_bikesales['AgeBand'].cat.codes\ndf_bikesales['IncomeBandCat'] = df_bikesales['IncomeBand'].cat.codes\ndf_bikesales['MaritalStatusCat'] = df_bikesales['MaritalStatus'].cat.codes\ndf_bikesales['GenderCat'] = df_bikesales['Gender'].cat.codes\ndf_bikesales['ChildrenAtHomeCat'] = df_bikesales['ChildrenAtHome'].cat.codes\ndf_bikesales['CountryRegionCodeCat'] = df_bikesales['CountryRegionCode'].cat.codes\ndf_bikesales['HouseOwnerFlagCat'] = df_bikesales['HouseOwnerFlag'].cat.codes\ndf_bikesales['EducationCat'] = df_bikesales['Education'].cat.codes\ndf_bikesales['OccupationCat'] = df_bikesales['Occupation'].cat.codes\ndf_bikesales['CommuteDistanceCat'] = df_bikesales['CommuteDistance'].cat.codes",
      "execution_count": 26,
      "outputs": []
    },
    {
      "metadata": {
        "trusted": true
      },
      "cell_type": "code",
      "source": "from pandasql import *\n\npysqldf = lambda q: sqldf(q, globals())",
      "execution_count": 27,
      "outputs": []
    },
    {
      "metadata": {},
      "cell_type": "markdown",
      "source": "# Create BikeType dictionary to translate our predicted values...\n\n### A problem with using categorical values is that you can't tell what the predicted result is.  Run the code below to create a Python dictionary to be used later to translated predicted bike type values.\n\nNote:  Pandas has a module called pandassql that let's us use SQL with dataframes.  You may find some queries easier using SQL."
    },
    {
      "metadata": {
        "trusted": true
      },
      "cell_type": "code",
      "source": "from pandasql import *\n\npysqldf = lambda q: sqldf(q, globals())\n\ndf_types = sqldf('select distinct BikeType, BikeTypeCat from df_bikesales order by BikeTypeCat')\ndf_types",
      "execution_count": 28,
      "outputs": [
        {
          "output_type": "execute_result",
          "execution_count": 28,
          "data": {
            "text/html": "<div>\n<table border=\"1\" class=\"dataframe\">\n  <thead>\n    <tr style=\"text-align: right;\">\n      <th></th>\n      <th>BikeType</th>\n      <th>BikeTypeCat</th>\n    </tr>\n  </thead>\n  <tbody>\n    <tr>\n      <th>0</th>\n      <td>Mountain</td>\n      <td>0</td>\n    </tr>\n    <tr>\n      <th>1</th>\n      <td>Road</td>\n      <td>1</td>\n    </tr>\n    <tr>\n      <th>2</th>\n      <td>Touring</td>\n      <td>2</td>\n    </tr>\n  </tbody>\n</table>\n</div>",
            "text/plain": "   BikeType  BikeTypeCat\n0  Mountain            0\n1      Road            1\n2   Touring            2"
          },
          "metadata": {}
        }
      ]
    },
    {
      "metadata": {
        "trusted": true
      },
      "cell_type": "code",
      "source": "typedict = dict(zip(df_types.BikeTypeCat, df_types.BikeType))\ntypedict",
      "execution_count": 34,
      "outputs": [
        {
          "output_type": "execute_result",
          "execution_count": 34,
          "data": {
            "text/plain": "{0: 'Mountain', 1: 'Road', 2: 'Touring'}"
          },
          "metadata": {}
        }
      ]
    },
    {
      "metadata": {},
      "cell_type": "markdown",
      "source": "# Extract the features to a new dataframe..."
    },
    {
      "metadata": {
        "trusted": true
      },
      "cell_type": "code",
      "source": "df_features = df_bikesales[['BikeTypeCat','AgeBandCat', 'IncomeBandCat', 'MaritalStatusCat', 'OccupationCat', \n                            'CommuteDistanceCat', 'GenderCat','ChildrenAtHomeCat', 'CountryRegionCodeCat',\n                            'HouseOwnerFlagCat', 'EducationCat']]",
      "execution_count": 35,
      "outputs": []
    },
    {
      "metadata": {
        "trusted": true
      },
      "cell_type": "code",
      "source": "df_features.head()",
      "execution_count": 36,
      "outputs": [
        {
          "output_type": "execute_result",
          "execution_count": 36,
          "data": {
            "text/html": "<div>\n<table border=\"1\" class=\"dataframe\">\n  <thead>\n    <tr style=\"text-align: right;\">\n      <th></th>\n      <th>BikeTypeCat</th>\n      <th>AgeBandCat</th>\n      <th>IncomeBandCat</th>\n      <th>MaritalStatusCat</th>\n      <th>OccupationCat</th>\n      <th>CommuteDistanceCat</th>\n      <th>GenderCat</th>\n      <th>ChildrenAtHomeCat</th>\n      <th>CountryRegionCodeCat</th>\n      <th>HouseOwnerFlagCat</th>\n      <th>EducationCat</th>\n    </tr>\n  </thead>\n  <tbody>\n    <tr>\n      <th>0</th>\n      <td>1</td>\n      <td>5</td>\n      <td>1</td>\n      <td>1</td>\n      <td>1</td>\n      <td>2</td>\n      <td>1</td>\n      <td>0</td>\n      <td>1</td>\n      <td>1</td>\n      <td>0</td>\n    </tr>\n    <tr>\n      <th>1</th>\n      <td>0</td>\n      <td>3</td>\n      <td>0</td>\n      <td>1</td>\n      <td>2</td>\n      <td>0</td>\n      <td>0</td>\n      <td>1</td>\n      <td>3</td>\n      <td>0</td>\n      <td>2</td>\n    </tr>\n    <tr>\n      <th>2</th>\n      <td>0</td>\n      <td>5</td>\n      <td>0</td>\n      <td>1</td>\n      <td>3</td>\n      <td>2</td>\n      <td>0</td>\n      <td>0</td>\n      <td>5</td>\n      <td>1</td>\n      <td>2</td>\n    </tr>\n    <tr>\n      <th>3</th>\n      <td>1</td>\n      <td>5</td>\n      <td>1</td>\n      <td>0</td>\n      <td>1</td>\n      <td>1</td>\n      <td>1</td>\n      <td>0</td>\n      <td>5</td>\n      <td>1</td>\n      <td>1</td>\n    </tr>\n    <tr>\n      <th>4</th>\n      <td>0</td>\n      <td>3</td>\n      <td>1</td>\n      <td>1</td>\n      <td>3</td>\n      <td>4</td>\n      <td>0</td>\n      <td>0</td>\n      <td>0</td>\n      <td>0</td>\n      <td>0</td>\n    </tr>\n  </tbody>\n</table>\n</div>",
            "text/plain": "   BikeTypeCat  AgeBandCat  IncomeBandCat  MaritalStatusCat  OccupationCat  \\\n0            1           5              1                 1              1   \n1            0           3              0                 1              2   \n2            0           5              0                 1              3   \n3            1           5              1                 0              1   \n4            0           3              1                 1              3   \n\n   CommuteDistanceCat  GenderCat  ChildrenAtHomeCat  CountryRegionCodeCat  \\\n0                   2          1                  0                     1   \n1                   0          0                  1                     3   \n2                   2          0                  0                     5   \n3                   1          1                  0                     5   \n4                   4          0                  0                     0   \n\n   HouseOwnerFlagCat  EducationCat  \n0                  1             0  \n1                  0             2  \n2                  1             2  \n3                  1             1  \n4                  0             0  "
          },
          "metadata": {}
        }
      ]
    },
    {
      "metadata": {
        "trusted": true
      },
      "cell_type": "code",
      "source": "df_features.dtypes",
      "execution_count": 37,
      "outputs": [
        {
          "output_type": "execute_result",
          "execution_count": 37,
          "data": {
            "text/plain": "BikeTypeCat             int8\nAgeBandCat              int8\nIncomeBandCat           int8\nMaritalStatusCat        int8\nOccupationCat           int8\nCommuteDistanceCat      int8\nGenderCat               int8\nChildrenAtHomeCat       int8\nCountryRegionCodeCat    int8\nHouseOwnerFlagCat       int8\nEducationCat            int8\ndtype: object"
          },
          "metadata": {}
        }
      ]
    },
    {
      "metadata": {},
      "cell_type": "markdown",
      "source": "# The scikit-learn models only support numpy arrays, not dataframes so we need to convert our dataframe to a numpy array.  Fortunately, the pandas dataframe values method will do this for us. "
    },
    {
      "metadata": {
        "trusted": true
      },
      "cell_type": "code",
      "source": "# Exampls of using the values method...\n\ndf_features.values",
      "execution_count": 3,
      "outputs": [
        {
          "output_type": "error",
          "ename": "NameError",
          "evalue": "name 'df_features' is not defined",
          "traceback": [
            "\u001b[0;31m---------------------------------------------------------------------------\u001b[0m",
            "\u001b[0;31mNameError\u001b[0m                                 Traceback (most recent call last)",
            "\u001b[0;32m<ipython-input-3-0bc2562030fa>\u001b[0m in \u001b[0;36m<module>\u001b[0;34m\u001b[0m\n\u001b[1;32m      1\u001b[0m \u001b[0;31m# Exampls of using the values method...\u001b[0m\u001b[0;34m\u001b[0m\u001b[0;34m\u001b[0m\u001b[0m\n\u001b[1;32m      2\u001b[0m \u001b[0;34m\u001b[0m\u001b[0m\n\u001b[0;32m----> 3\u001b[0;31m \u001b[0mdf_features\u001b[0m\u001b[0;34m.\u001b[0m\u001b[0mvalues\u001b[0m\u001b[0;34m\u001b[0m\u001b[0m\n\u001b[0m",
            "\u001b[0;31mNameError\u001b[0m: name 'df_features' is not defined"
          ]
        }
      ]
    },
    {
      "metadata": {},
      "cell_type": "markdown",
      "source": "# Split the data..."
    },
    {
      "metadata": {
        "trusted": true
      },
      "cell_type": "code",
      "source": "from sklearn.model_selection import train_test_split\n\nX_train_all , X_test_all = train_test_split(df_features.values,test_size=0.2)       #test_size=0.5(whole_data)",
      "execution_count": 39,
      "outputs": []
    },
    {
      "metadata": {},
      "cell_type": "markdown",
      "source": "### Extract the response variable..."
    },
    {
      "metadata": {
        "trusted": true
      },
      "cell_type": "code",
      "source": "# Column 0 has the value we want to predict, i.e. the model a customer will purchase.\nX_train_all[:,0]",
      "execution_count": 40,
      "outputs": [
        {
          "output_type": "execute_result",
          "execution_count": 40,
          "data": {
            "text/plain": "array([2, 1, 0, ..., 1, 2, 0], dtype=int8)"
          },
          "metadata": {}
        }
      ]
    },
    {
      "metadata": {
        "trusted": true
      },
      "cell_type": "code",
      "source": "y_train = X_train_all[:,0]\ny_train",
      "execution_count": 41,
      "outputs": [
        {
          "output_type": "execute_result",
          "execution_count": 41,
          "data": {
            "text/plain": "array([2, 1, 0, ..., 1, 2, 0], dtype=int8)"
          },
          "metadata": {}
        }
      ]
    },
    {
      "metadata": {
        "trusted": true
      },
      "cell_type": "code",
      "source": "y_test = X_test_all[:,0]\ny_test",
      "execution_count": 42,
      "outputs": [
        {
          "output_type": "execute_result",
          "execution_count": 42,
          "data": {
            "text/plain": "array([1, 0, 1, ..., 2, 1, 0], dtype=int8)"
          },
          "metadata": {}
        }
      ]
    },
    {
      "metadata": {
        "trusted": true
      },
      "cell_type": "code",
      "source": "# Check the BikeType...\nX_test_all[:,0]",
      "execution_count": 43,
      "outputs": [
        {
          "output_type": "execute_result",
          "execution_count": 43,
          "data": {
            "text/plain": "array([1, 0, 1, ..., 2, 1, 0], dtype=int8)"
          },
          "metadata": {}
        }
      ]
    },
    {
      "metadata": {
        "trusted": true
      },
      "cell_type": "code",
      "source": "X_train_all.shape",
      "execution_count": 44,
      "outputs": [
        {
          "output_type": "execute_result",
          "execution_count": 44,
          "data": {
            "text/plain": "(12164, 11)"
          },
          "metadata": {}
        }
      ]
    },
    {
      "metadata": {},
      "cell_type": "markdown",
      "source": "### Extract the feature columns..."
    },
    {
      "metadata": {
        "trusted": true
      },
      "cell_type": "code",
      "source": "X_train = X_train_all[:,1:11]\nX_train.shape",
      "execution_count": 45,
      "outputs": [
        {
          "output_type": "execute_result",
          "execution_count": 45,
          "data": {
            "text/plain": "(12164, 10)"
          },
          "metadata": {}
        }
      ]
    },
    {
      "metadata": {
        "trusted": true
      },
      "cell_type": "code",
      "source": "X_test = X_test_all[:,1:11]\nX_test",
      "execution_count": 46,
      "outputs": [
        {
          "output_type": "execute_result",
          "execution_count": 46,
          "data": {
            "text/plain": "array([[4, 1, 1, ..., 0, 0, 0],\n       [2, 2, 1, ..., 0, 1, 1],\n       [2, 1, 1, ..., 5, 0, 3],\n       ...,\n       [3, 1, 0, ..., 1, 1, 1],\n       [3, 1, 0, ..., 0, 1, 1],\n       [4, 0, 0, ..., 4, 1, 3]], dtype=int8)"
          },
          "metadata": {}
        }
      ]
    },
    {
      "metadata": {},
      "cell_type": "markdown",
      "source": "# Train the model..."
    },
    {
      "metadata": {
        "trusted": true
      },
      "cell_type": "code",
      "source": "#Importing Libraries\nimport numpy as np\nimport pandas as pd\nfrom sklearn.model_selection import train_test_split\nfrom sklearn.preprocessing import StandardScaler\nfrom sklearn.ensemble import RandomForestClassifier\nfrom sklearn.metrics import confusion_matrix\nfrom sklearn.externals import joblib\nprint('Libraries Imported')",
      "execution_count": 47,
      "outputs": [
        {
          "output_type": "stream",
          "text": "Libraries Imported\n",
          "name": "stdout"
        },
        {
          "output_type": "stream",
          "text": "/home/nbuser/anaconda3_420/lib/python3.5/site-packages/sklearn/ensemble/weight_boosting.py:29: DeprecationWarning: numpy.core.umath_tests is an internal NumPy module and should not be imported. It will be removed in a future NumPy release.\n  from numpy.core.umath_tests import inner1d\n",
          "name": "stderr"
        }
      ]
    },
    {
      "metadata": {
        "trusted": true
      },
      "cell_type": "code",
      "source": "# Confirm we have a numpy array...\ntype(X_train)",
      "execution_count": 48,
      "outputs": [
        {
          "output_type": "execute_result",
          "execution_count": 48,
          "data": {
            "text/plain": "numpy.ndarray"
          },
          "metadata": {}
        }
      ]
    },
    {
      "metadata": {
        "trusted": true
      },
      "cell_type": "code",
      "source": "# Check the input features array...\nX_train",
      "execution_count": 49,
      "outputs": [
        {
          "output_type": "execute_result",
          "execution_count": 49,
          "data": {
            "text/plain": "array([[5, 0, 1, ..., 0, 0, 3],\n       [4, 3, 0, ..., 4, 1, 2],\n       [2, 1, 0, ..., 5, 1, 0],\n       ...,\n       [3, 0, 1, ..., 5, 1, 3],\n       [2, 0, 1, ..., 0, 0, 2],\n       [5, 1, 0, ..., 5, 1, 0]], dtype=int8)"
          },
          "metadata": {}
        }
      ]
    },
    {
      "metadata": {
        "trusted": true
      },
      "cell_type": "code",
      "source": "y_train",
      "execution_count": 50,
      "outputs": [
        {
          "output_type": "execute_result",
          "execution_count": 50,
          "data": {
            "text/plain": "array([2, 1, 0, ..., 1, 2, 0], dtype=int8)"
          },
          "metadata": {}
        }
      ]
    },
    {
      "metadata": {
        "trusted": true
      },
      "cell_type": "code",
      "source": "# for predicting bike type...\n\nclassifier = RandomForestClassifier(n_estimators = 800, criterion = 'entropy', random_state = 42, max_depth=12)\nclassifier.fit(X_train, y_train)\nprint('Done')",
      "execution_count": 51,
      "outputs": [
        {
          "output_type": "stream",
          "text": "Done\n",
          "name": "stdout"
        }
      ]
    },
    {
      "metadata": {},
      "cell_type": "markdown",
      "source": "## About model performance...\n\n### Our goal is to learn how touse Azure Machine Learning service and the performance of our model does not matter towards that end.  Don't worry if the model is not predicting very well.  Performance can be improved by more experimentation.  Also, Azure Machine Learning service AutoML, which we will see later, can tune the mode for you."
    },
    {
      "metadata": {},
      "cell_type": "markdown",
      "source": "## As a sanity check, we will predict on the training data and so the confusion matrix."
    },
    {
      "metadata": {
        "trusted": true
      },
      "cell_type": "code",
      "source": "# Sanity check, can we at least get good predictions with the training data?\n\n# Predict using the training data...\ny_predtrain = classifier.predict(X_train)\ny_predtrain",
      "execution_count": 2,
      "outputs": [
        {
          "output_type": "error",
          "ename": "NameError",
          "evalue": "name 'classifier' is not defined",
          "traceback": [
            "\u001b[0;31m---------------------------------------------------------------------------\u001b[0m",
            "\u001b[0;31mNameError\u001b[0m                                 Traceback (most recent call last)",
            "\u001b[0;32m<ipython-input-2-f6649eace456>\u001b[0m in \u001b[0;36m<module>\u001b[0;34m\u001b[0m\n\u001b[1;32m      2\u001b[0m \u001b[0;34m\u001b[0m\u001b[0m\n\u001b[1;32m      3\u001b[0m \u001b[0;31m# Predict using the training data...\u001b[0m\u001b[0;34m\u001b[0m\u001b[0;34m\u001b[0m\u001b[0m\n\u001b[0;32m----> 4\u001b[0;31m \u001b[0my_predtrain\u001b[0m \u001b[0;34m=\u001b[0m \u001b[0mclassifier\u001b[0m\u001b[0;34m.\u001b[0m\u001b[0mpredict\u001b[0m\u001b[0;34m(\u001b[0m\u001b[0mX_train\u001b[0m\u001b[0;34m)\u001b[0m\u001b[0;34m\u001b[0m\u001b[0m\n\u001b[0m\u001b[1;32m      5\u001b[0m \u001b[0my_predtrain\u001b[0m\u001b[0;34m\u001b[0m\u001b[0m\n",
            "\u001b[0;31mNameError\u001b[0m: name 'classifier' is not defined"
          ]
        }
      ]
    },
    {
      "metadata": {
        "trusted": true
      },
      "cell_type": "code",
      "source": "# Prediction of Bike Type using the training data...\n\n#Reverse factorize \ny_testr = np.vectorize(typedict.get)(y_train)\ny_predr = np.vectorize(typedict.get)(y_predtrain)\n\n# Making the Confusion Matrix\nprint(pd.crosstab(y_testr, y_predr, rownames=['Actual Model'], colnames=['Predicted Model']))",
      "execution_count": 53,
      "outputs": [
        {
          "output_type": "stream",
          "text": "Predicted Model  Mountain  Road  Touring\nActual Model                            \nMountain             1593  2333       31\nRoad                  624  5820       18\nTouring               491  1079      175\n",
          "name": "stdout"
        }
      ]
    },
    {
      "metadata": {
        "trusted": true
      },
      "cell_type": "code",
      "source": "# Do the test data set predictions...\n\n# Predict using the test data...\ny_predtest = classifier.predict(X_test)\ny_predtest",
      "execution_count": 54,
      "outputs": [
        {
          "output_type": "execute_result",
          "execution_count": 54,
          "data": {
            "text/plain": "array([1, 1, 0, ..., 1, 0, 1], dtype=int8)"
          },
          "metadata": {}
        }
      ]
    },
    {
      "metadata": {
        "trusted": true
      },
      "cell_type": "code",
      "source": "y_predtest.shape\ny_test.shape",
      "execution_count": 55,
      "outputs": [
        {
          "output_type": "execute_result",
          "execution_count": 55,
          "data": {
            "text/plain": "(3041,)"
          },
          "metadata": {}
        }
      ]
    },
    {
      "metadata": {
        "trusted": true
      },
      "cell_type": "code",
      "source": "# Do the test data set predictions...\n\n#Reverse factorize \ny_testr = np.vectorize(typedict.get)(y_test)\ny_predr = np.vectorize(typedict.get)(y_predtest)\n\n# Making the Confusion Matrix\n\nprint(pd.crosstab(y_testr, y_predr, rownames=['Actual Type'], colnames=['Predicted Type']))",
      "execution_count": 1,
      "outputs": [
        {
          "output_type": "error",
          "ename": "NameError",
          "evalue": "name 'np' is not defined",
          "traceback": [
            "\u001b[0;31m---------------------------------------------------------------------------\u001b[0m",
            "\u001b[0;31mNameError\u001b[0m                                 Traceback (most recent call last)",
            "\u001b[0;32m<ipython-input-1-96b44b7da0e1>\u001b[0m in \u001b[0;36m<module>\u001b[0;34m\u001b[0m\n\u001b[1;32m      2\u001b[0m \u001b[0;34m\u001b[0m\u001b[0m\n\u001b[1;32m      3\u001b[0m \u001b[0;31m#Reverse factorize\u001b[0m\u001b[0;34m\u001b[0m\u001b[0;34m\u001b[0m\u001b[0m\n\u001b[0;32m----> 4\u001b[0;31m \u001b[0my_testr\u001b[0m \u001b[0;34m=\u001b[0m \u001b[0mnp\u001b[0m\u001b[0;34m.\u001b[0m\u001b[0mvectorize\u001b[0m\u001b[0;34m(\u001b[0m\u001b[0mtypedict\u001b[0m\u001b[0;34m.\u001b[0m\u001b[0mget\u001b[0m\u001b[0;34m)\u001b[0m\u001b[0;34m(\u001b[0m\u001b[0my_test\u001b[0m\u001b[0;34m)\u001b[0m\u001b[0;34m\u001b[0m\u001b[0m\n\u001b[0m\u001b[1;32m      5\u001b[0m \u001b[0my_predr\u001b[0m \u001b[0;34m=\u001b[0m \u001b[0mnp\u001b[0m\u001b[0;34m.\u001b[0m\u001b[0mvectorize\u001b[0m\u001b[0;34m(\u001b[0m\u001b[0mtypedict\u001b[0m\u001b[0;34m.\u001b[0m\u001b[0mget\u001b[0m\u001b[0;34m)\u001b[0m\u001b[0;34m(\u001b[0m\u001b[0my_predtest\u001b[0m\u001b[0;34m)\u001b[0m\u001b[0;34m\u001b[0m\u001b[0m\n\u001b[1;32m      6\u001b[0m \u001b[0;34m\u001b[0m\u001b[0m\n",
            "\u001b[0;31mNameError\u001b[0m: name 'np' is not defined"
          ]
        }
      ]
    },
    {
      "metadata": {
        "trusted": true
      },
      "cell_type": "code",
      "source": "print(y_predtest)\nprint(y_predr)",
      "execution_count": 57,
      "outputs": [
        {
          "output_type": "stream",
          "text": "[1 1 0 ... 1 0 1]\n['Road' 'Road' 'Mountain' ... 'Road' 'Mountain' 'Road']\n",
          "name": "stdout"
        }
      ]
    },
    {
      "metadata": {},
      "cell_type": "markdown",
      "source": "# Save the feature set data from future labs."
    },
    {
      "metadata": {
        "trusted": true
      },
      "cell_type": "code",
      "source": "import pandas as pd\n\ndf_features.to_csv(r'./BikeModelFeatures.csv', sep=',')",
      "execution_count": 58,
      "outputs": []
    },
    {
      "metadata": {
        "trusted": true
      },
      "cell_type": "code",
      "source": "import pickle\n\nf = open(\"typedict.pkl\",\"wb\")\npickle.dump(typedict,f)\nf.close()",
      "execution_count": 59,
      "outputs": []
    },
    {
      "metadata": {},
      "cell_type": "markdown",
      "source": "## Save the trained model for later..."
    },
    {
      "metadata": {
        "trusted": true
      },
      "cell_type": "code",
      "source": "joblib.dump(classifier, 'biketypeclassifier.pkl') ",
      "execution_count": 60,
      "outputs": [
        {
          "output_type": "execute_result",
          "execution_count": 60,
          "data": {
            "text/plain": "['biketypeclassifier.pkl']"
          },
          "metadata": {}
        }
      ]
    },
    {
      "metadata": {
        "trusted": true
      },
      "cell_type": "code",
      "source": "",
      "execution_count": null,
      "outputs": []
    },
    {
      "metadata": {
        "trusted": true
      },
      "cell_type": "code",
      "source": "",
      "execution_count": null,
      "outputs": []
    }
  ],
  "metadata": {
    "authors": [
      {
        "name": "savitam"
      }
    ],
    "kernelspec": {
      "name": "python36",
      "display_name": "Python 3.6",
      "language": "python"
    },
    "language_info": {
      "mimetype": "text/x-python",
      "nbconvert_exporter": "python",
      "name": "python",
      "pygments_lexer": "ipython3",
      "version": "3.6.6",
      "file_extension": ".py",
      "codemirror_mode": {
        "version": 3,
        "name": "ipython"
      }
    }
  },
  "nbformat": 4,
  "nbformat_minor": 2
}