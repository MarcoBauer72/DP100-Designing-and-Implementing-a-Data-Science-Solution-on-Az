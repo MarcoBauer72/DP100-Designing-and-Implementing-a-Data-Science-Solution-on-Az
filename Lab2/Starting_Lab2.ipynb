{
  "cells": [
    {
      "metadata": {},
      "cell_type": "markdown",
      "source": "Copyright (c) Microsoft Corporation. All rights reserved.\n\nLicensed under the MIT License."
    },
    {
      "metadata": {},
      "cell_type": "markdown",
      "source": "![Impressions](https://PixelServer20190423114238.azurewebsites.net/api/impressions/MachineLearningNotebooks/tutorials/img-classification-part1-training.png)"
    },
    {
      "metadata": {},
      "cell_type": "markdown",
      "source": "# Lab 2 Part A: Train and Deploy a Model on Azuer Machine Learning service.\n\nIn this lab, you train the classifcation machine learning model on remote compute resources. You'll use the training and deployment workflow for Azure Machine Learning service (preview) in a Python Jupyter notebook.  \n\nLearn how to:\n\n> * Set up your development environment\n> * Access and examine the data\n> * Train a simple classification model on a remote cluster\n> * Review training results, find and register the best model"
    },
    {
      "metadata": {},
      "cell_type": "markdown",
      "source": "# Important Notes:\n\n## You will only be asked to provide the machine learning code parts of this lab.  The Azure ML service code is provided as it is very specific and in real world use, it is recommended you save a template notebook that helps you with that part.  There are many good starting points for such notebooks referenced by Microsoft online documentation."
    },
    {
      "metadata": {},
      "cell_type": "markdown",
      "source": "## Set up your development environment\n\nAll the setup for your development work can be accomplished in a Python notebook.  Setup includes:\n\n* Create an Experiment in an existing Workspace.\n* Configure AutoML using AutoMLConfig.\n* Importing Python packages\n* Connecting to a workspace to enable communication between your local computer and remote resources\n* Creating an experiment to track all your runs\n* Creating a remote compute target to use for training\n\n### Import packages\n\nImport Python packages you need in this session. Also display the Azure Machine Learning SDK version."
    },
    {
      "metadata": {
        "tags": [
          "check version"
        ],
        "trusted": false
      },
      "cell_type": "code",
      "source": "%matplotlib inline\nimport numpy as np\nimport matplotlib.pyplot as plt\n\nimport azureml.core\nfrom azureml.core import Workspace\n\n# check core SDK version number\nprint(\"Azure ML SDK Version: \", azureml.core.VERSION)",
      "execution_count": null,
      "outputs": []
    },
    {
      "metadata": {
        "trusted": false
      },
      "cell_type": "code",
      "source": "print('x')",
      "execution_count": null,
      "outputs": []
    },
    {
      "metadata": {},
      "cell_type": "markdown",
      "source": "# Create the AMLS workspace...\n\n## You will be asked to log into Azure and be given a code in the output message area to enter.\n\n## Notice the workspace name, you will be referring it in future code as it identifies the workspace.  You need to replace the subscription-id and azure-region with appropriate values for you."
    },
    {
      "metadata": {
        "trusted": false
      },
      "cell_type": "code",
      "source": "import azureml.core\nprint(azureml.core.VERSION)\n\nfrom azureml.core import Workspace\nws = Workspace.create(name='dp100labws',\n            subscription_id='<subsription-id>', \n            resource_group='dp100labrg',\n            create_resource_group = True,\n            location='<azure-region>'\n            )",
      "execution_count": null,
      "outputs": []
    },
    {
      "metadata": {},
      "cell_type": "markdown",
      "source": "## Workspace Properties from Above:\n\nName | Description\n---- | -----------\nname            | A name you chose to call the workspace.  We'll use the value aready in the code.\nsubscription_id | The id of the subscription the workspace will be assigned to.  You can get this from the Azure portal.\nresource_group  | A name you want all the Azure resourced creates for the workspace to be associated with.  Makes rsource management easier.\nlocation | Azure data center location closest to you that support creation of AMLS workspaces.  "
    },
    {
      "metadata": {},
      "cell_type": "markdown",
      "source": "## To make reconnecting to this workspace in future notebooks easier, save the configuration setting using the code in the cell below."
    },
    {
      "metadata": {
        "trusted": false
      },
      "cell_type": "code",
      "source": "# Create the configuration file.\nws.write_config()\nprint('Configuration saved.')",
      "execution_count": null,
      "outputs": []
    },
    {
      "metadata": {},
      "cell_type": "markdown",
      "source": "### Connect to workspace in future work...\n\nIn the future, we can use the code below to connect back to this workspace. \nThe code creates a workspace object from the existing workspace. `Workspace.from_config()` reads the file **config.json** and loads the details into an object named `ws`.  You don't need to use this now since we are still connected from when we created the workspace but this will come in handy later."
    },
    {
      "metadata": {
        "tags": [
          "load workspace"
        ],
        "trusted": false
      },
      "cell_type": "code",
      "source": "# load workspace configuration from the config.json file in the current folder.\nws = Workspace.from_config()\nprint(ws.name, ws.location, ws.resource_group, ws.location, sep='\\t')",
      "execution_count": null,
      "outputs": []
    },
    {
      "metadata": {},
      "cell_type": "markdown",
      "source": "### Create experiment\n\nCreate an experiment to track the runs in your workspace. A workspace can have muliple experiments. "
    },
    {
      "metadata": {
        "tags": [
          "create experiment"
        ],
        "trusted": false
      },
      "cell_type": "code",
      "source": "experiment_name = 'dp100labexperiment'\n\nfrom azureml.core import Experiment\nexp = Experiment(workspace=ws, name=experiment_name)\nprint('Experiment created.')",
      "execution_count": null,
      "outputs": []
    },
    {
      "metadata": {},
      "cell_type": "markdown",
      "source": "### Create or Attach existing compute resource\nBy using Azure Machine Learning Compute, a managed service, data scientists can train machine learning models on clusters of Azure virtual machines. Examples include VMs with GPU support. In this tutorial, you create Azure Machine Learning Compute as your training environment. The code below creates the compute clusters for you if they don't already exist in your workspace.\n\n**Creation of compute takes approximately 5 minutes.** If the AmlCompute with that name is already in your workspace the code will skip the creation process."
    },
    {
      "metadata": {
        "tags": [
          "create mlc",
          "amlcompute"
        ],
        "trusted": false
      },
      "cell_type": "code",
      "source": "from azureml.core.compute import AmlCompute\nfrom azureml.core.compute import ComputeTarget\nimport os\n\n# choose a name for your cluster\ncompute_name = os.environ.get(\"AML_COMPUTE_CLUSTER_NAME\", \"cpucluster\")\ncompute_min_nodes = os.environ.get(\"AML_COMPUTE_CLUSTER_MIN_NODES\", 0)\ncompute_max_nodes = os.environ.get(\"AML_COMPUTE_CLUSTER_MAX_NODES\", 4)\n\n# This example uses CPU VM. For using GPU VM, set SKU to STANDARD_NC6\nvm_size = os.environ.get(\"AML_COMPUTE_CLUSTER_SKU\", \"STANDARD_D2_V2\")\n\n\nif compute_name in ws.compute_targets:\n    compute_target = ws.compute_targets[compute_name]\n    if compute_target and type(compute_target) is AmlCompute:\n        print('found compute target. just use it. ' + compute_name)\nelse:\n    print('creating a new compute target...')\n    provisioning_config = AmlCompute.provisioning_configuration(vm_size = vm_size,\n                                                                min_nodes = compute_min_nodes, \n                                                                max_nodes = compute_max_nodes)\n\n    # create the cluster\n    compute_target = ComputeTarget.create(ws, compute_name, provisioning_config)\n    \n    # can poll for a minimum number of nodes and for a specific timeout. \n    # if no min node count is provided it will use the scale settings for the cluster\n    compute_target.wait_for_completion(show_output=True, min_node_count=None, timeout_in_minutes=20)\n    \n     # For a more detailed view of current AmlCompute status, use get_status()\n    print(compute_target.get_status().serialize())",
      "execution_count": null,
      "outputs": []
    },
    {
      "metadata": {},
      "cell_type": "markdown",
      "source": "You now have the necessary packages and compute resources to train a model in the cloud. \n\n## Verify you have the data\n\nYou already explored the data in the last lab.  You need to copy the data into the cloud so it can be accessed by your cloud training environment.  We saved the model training data to a csv file so all we have to do is load it."
    },
    {
      "metadata": {
        "trusted": false
      },
      "cell_type": "code",
      "source": "import pandas as pd\n\ndf_features = pd.read_csv(r'./BikeModelFeatures.csv')",
      "execution_count": 43,
      "outputs": []
    },
    {
      "metadata": {},
      "cell_type": "markdown",
      "source": "### Display a few rows of data to make sure the load worked."
    },
    {
      "metadata": {
        "trusted": false
      },
      "cell_type": "code",
      "source": "df_features.head()",
      "execution_count": null,
      "outputs": []
    },
    {
      "metadata": {},
      "cell_type": "markdown",
      "source": "Now you have an idea of what these images look like and the expected prediction outcome.\n\n### Upload data to the cloud\n\nNow make the data accessible remotely by uploading that data from your local machine into Azure so it can be accessed for remote training. The datastore is a convenient construct associated with your workspace for you to upload/download data, and interact with it from your remote compute targets. It is backed by Azure blob storage account.\n\nThe data file is uploaded into a directory named `dp100lab` at the root of the datastore."
    },
    {
      "metadata": {
        "trusted": false
      },
      "cell_type": "code",
      "source": "import urllib.request\n\ndata_folder = os.getcwd() \n\nprint(data_folder)",
      "execution_count": null,
      "outputs": []
    },
    {
      "metadata": {
        "tags": [
          "use datastore"
        ],
        "trusted": false
      },
      "cell_type": "code",
      "source": "ds = ws.get_default_datastore()\nprint(ds.datastore_type, ds.account_name, ds.container_name)\n\nds.upload(src_dir=data_folder, target_path='dp100lab', overwrite=True, show_progress=True)",
      "execution_count": null,
      "outputs": []
    },
    {
      "metadata": {},
      "cell_type": "markdown",
      "source": "## Train on a remote cluster\n\nFor this task, submit the job to the remote training cluster you set up earlier.  To submit a job you:\n* Create a directory\n* Create a training script\n* Create an estimator object\n* Submit the job \n\n### Create a directory\n\nCreate a directory to deliver the necessary code from your computer to the remote resource."
    },
    {
      "metadata": {
        "trusted": false
      },
      "cell_type": "code",
      "source": "import os\nscript_folder = os.path.join(os.getcwd(), \"dp100lab\")\nos.makedirs(script_folder, exist_ok=True)",
      "execution_count": null,
      "outputs": []
    },
    {
      "metadata": {
        "trusted": false
      },
      "cell_type": "code",
      "source": "# Confirm the df_feeatures one more time...\ndf_features.dtypes",
      "execution_count": null,
      "outputs": []
    },
    {
      "metadata": {},
      "cell_type": "markdown",
      "source": "### Create a training script\n\nTo submit the job to the cluster, first create a training script. Run the following code to create the training script called `train.py` in the directory you just created. "
    },
    {
      "metadata": {},
      "cell_type": "markdown",
      "source": "## About training scripts...\n\n### To train a model in an Azure container, we need to get the model training script to the container. We start by saving the model training script to a Python script file, i.e. .py.  This will be uploaded to the Azure container later.  We don't need any exploratory code in this script, just what is needed to train the model."
    },
    {
      "metadata": {},
      "cell_type": "markdown",
      "source": "# Clasiification training script below."
    },
    {
      "metadata": {},
      "cell_type": "markdown",
      "source": "## In the cell below, enter the Python training code between the lines '###### Your Python code starts here #####' and '##### Your Python Code ends here #####''\n\n## Notes:  \n\n### - Make sure you calculate the model accurancy in your code as 'acc = np.average(y_predtest == y_test)' so the Azure ML service code can log this result, It assumes the variable acc exists.\n\n### - You must call the model classifier because the Azure ML code in the script writes this model to a pickle file.  \n\n### The Azure ML service code is provided for you."
    },
    {
      "metadata": {
        "trusted": false
      },
      "cell_type": "code",
      "source": "%%writefile $script_folder/train.py\n\nimport argparse\nimport os\n\nimport numpy as np\nimport pandas as pd\nfrom sklearn.model_selection import train_test_split\nfrom sklearn.preprocessing import StandardScaler\nfrom sklearn.ensemble import RandomForestClassifier\nfrom sklearn.metrics import confusion_matrix\nfrom sklearn.externals import joblib\n\nfrom azureml.core import Run\nprint('Libraries Imported')\n\n# ***  Azure Machine Learning service specfic code starts... ***\n\n# let user feed in 2 parameters, the location of the data files (from datastore), and the regularization rate of the logistic regression model\nparser = argparse.ArgumentParser()\nparser.add_argument('--data-folder', type=str, dest='data_folder', help='data folder mounting point')\nparser.add_argument('--maxdepth', type=float, dest='max_depth', default=14, help='max_depth')\nargs = parser.parse_args()\n\n\ndata_folder = args.data_folder\nmax_depth = args.max_depth\n\nprint('Data folder:', data_folder)\n\n# get hold of the current run\nrun = Run.get_context()\n\n# ***  Azure Machine Learning service specfic code ends. ***\n\n\n# filepath = data_folder + '/BikeModelFeatures.csv'\nfilepath = os.path.join(data_folder, 'BikeModelFeatures.csv')\n\ndf_features = pd.read_csv(filepath)\n\n\n# \n# ###### Your Python code starts here #####\n#\n\n\n\n#\n###### Your Python code ends here #####\n#\n\n\n# calculate accuracy on the prediction\n\n#  Make sure you calcualted acc as model accuracy or the code below will fail as it is trying to log the value of acc.\n\n# ***  Azure Machine Learning service specfic code starts... ***\nrun.log('data_dir', data_folder)\nrun.log('accuracy', np.float(acc))\n\nos.makedirs('outputs', exist_ok=True)\n\n# note file saved in the outputs folder is automatically uploaded into experiment record\njoblib.dump(value=classifier, filename='outputs/biketypemodel.pkl')\n\n# ***  Azure Machine Learning service specfic code ends. ***",
      "execution_count": 30,
      "outputs": [
        {
          "name": "stdout",
          "output_type": "stream",
          "text": "Overwriting /home/nbuser/library/dp100lab/train.py\n"
        }
      ]
    },
    {
      "metadata": {},
      "cell_type": "markdown",
      "source": "Notice how the script gets data and saves models:\n\n+ The training script reads an argument to find the directory containing the data.  When you submit the job later, you point to the datastore for this argument:\n`parser.add_argument('--data-folder', type=str, dest='data_folder', help='data directory mounting point')`"
    },
    {
      "metadata": {},
      "cell_type": "markdown",
      "source": "\n+ The training script saves your model into a directory named outputs. <br/>\n`joblib.dump(value=clf, filename='outputs/biketypemodel.pkl')`<br/>\nAnything written in this directory is automatically uploaded into your workspace. You'll access your model from this directory later in the tutorial."
    },
    {
      "metadata": {},
      "cell_type": "markdown",
      "source": "### Create an estimator\n\nAn estimator object is used to submit the run.  Create your estimator by running the following code to define:\n\n* The name of the estimator object, `est`\n* The directory that contains your scripts. All the files in this directory are uploaded into the cluster nodes for execution. \n* The compute target.  In this case you will use the AmlCompute you created\n* The training script name, train.py\n* Parameters required from the training script \n* Python packages needed for training\n\nIn this tutorial, this target is AmlCompute. All files in the script folder are uploaded into the cluster nodes for execution. The data_folder is set to use the datastore (`ds.path('dp100lab').as_mount()`)."
    },
    {
      "metadata": {
        "tags": [
          "configure estimator"
        ],
        "trusted": false
      },
      "cell_type": "code",
      "source": "from azureml.train.estimator import Estimator\n\nscript_params = {\n    '--data-folder': ds.path('dp100lab').as_mount(),\n    '--maxdepth': 12\n}\n\nest = Estimator(source_directory=script_folder,\n                script_params=script_params,\n                compute_target=compute_target,\n                entry_script='train.py',\n                conda_packages=['scikit-learn','pandas'])\n\nprint('Executed')",
      "execution_count": null,
      "outputs": []
    },
    {
      "metadata": {
        "trusted": false
      },
      "cell_type": "code",
      "source": "est  # take a look at the est object...",
      "execution_count": null,
      "outputs": []
    },
    {
      "metadata": {},
      "cell_type": "markdown",
      "source": "### Submit the job to the cluster\n\nRun the experiment by submitting the estimator object. And you can navigate to Azure portal to monitor the run."
    },
    {
      "metadata": {
        "tags": [
          "remote run",
          "amlcompute",
          "scikit-learn"
        ],
        "trusted": false
      },
      "cell_type": "code",
      "source": "run = exp.submit(config=est)\nrun",
      "execution_count": null,
      "outputs": []
    },
    {
      "metadata": {
        "trusted": false
      },
      "cell_type": "code",
      "source": "#  We can see what built-in datastores are available with this code below...\ndatastores = ws.datastores\nfor name, ds in datastores.items():\n    print(name, ds.datastore_type)",
      "execution_count": null,
      "outputs": []
    },
    {
      "metadata": {},
      "cell_type": "markdown",
      "source": "Since the call is asynchronous, it returns a **Preparing** or **Running** state as soon as the job is started.\n\n## Monitor a remote run\n\nIn total, the first run takes **approximately 10 minutes**. But for subsequent runs, as long as the dependencies (`conda_packages` parameter in the above estimator constructor) don't change, the same image is reused and hence the container start up time is much faster.\n\nHere is what's happening while you wait:\n\n- **Image creation**: A Docker image is created matching the Python environment specified by the estimator. The image is built and stored in the ACR (Azure Container Registry) associated with your workspace. Image creation and uploading takes **about 5 minutes**. \n\n  This stage happens once for each Python environment since the container is cached for subsequent runs.  During image creation, logs are streamed to the run history. You can monitor the image creation progress using these logs.\n\n- **Scaling**: If the remote cluster requires more nodes to execute the run than currently available, additional nodes are added automatically. Scaling typically takes **about 5 minutes.**\n\n- **Running**: In this stage, the necessary scripts and files are sent to the compute target, then data stores are mounted/copied, then the entry_script is run. While the job is running, stdout and the files in the ./logs directory are streamed to the run history. You can monitor the run's progress using these logs.\n\n- **Post-Processing**: The ./outputs directory of the run is copied over to the run history in your workspace so you can access these results.\n\n\nYou can check the progress of a running job in multiple ways. This tutorial uses a Jupyter widget as well as a `wait_for_completion` method. \n\n### Jupyter widget\n\nWatch the progress of the run with a Jupyter widget.  Like the run submission, the widget is asynchronous and provides live updates every 10-15 seconds until the job completes."
    },
    {
      "metadata": {
        "tags": [
          "use notebook widget"
        ],
        "trusted": false
      },
      "cell_type": "code",
      "source": "from azureml.widgets import RunDetails\nRunDetails(run).show()",
      "execution_count": null,
      "outputs": []
    },
    {
      "metadata": {},
      "cell_type": "markdown",
      "source": "By the way, if you need to cancel a run, you can follow [these instructions](https://aka.ms/aml-docs-cancel-run)."
    },
    {
      "metadata": {},
      "cell_type": "markdown",
      "source": "### Get log results upon completion\n\nModel training happens in the background. You can use `wait_for_completion` to block and wait until the model has completed training before running more code. "
    },
    {
      "metadata": {
        "tags": [
          "remote run",
          "amlcompute",
          "scikit-learn"
        ],
        "trusted": false
      },
      "cell_type": "code",
      "source": "# specify show_output to True for a verbose log\nrun.wait_for_completion(show_output=False) ",
      "execution_count": null,
      "outputs": []
    },
    {
      "metadata": {},
      "cell_type": "markdown",
      "source": "### Display run results\n\nYou now have a model trained on a remote cluster.  Retrieve all the metrics logged during the run, including the accuracy of the model:"
    },
    {
      "metadata": {
        "tags": [
          "get metrics"
        ],
        "trusted": false
      },
      "cell_type": "code",
      "source": "print(run.get_metrics())",
      "execution_count": null,
      "outputs": []
    },
    {
      "metadata": {},
      "cell_type": "markdown",
      "source": "In the next tutorial you will explore this model in more detail.\n\n## Register model\n\nThe last step in the training script wrote the file `outputs/biketypemodel.pkl` in a directory named `outputs` in the VM of the cluster where the job is executed. `outputs` is a special directory in that all content in this  directory is automatically uploaded to your workspace.  This content appears in the run record in the experiment under your workspace. Hence, the model file is now also available in your workspace.\n\nYou can see files associated with that run."
    },
    {
      "metadata": {
        "tags": [
          "query history"
        ],
        "trusted": false
      },
      "cell_type": "code",
      "source": "print(run.get_file_names())",
      "execution_count": null,
      "outputs": []
    },
    {
      "metadata": {},
      "cell_type": "markdown",
      "source": "Register the model in the workspace so that you (or other collaborators) can later query, examine, and deploy this model."
    },
    {
      "metadata": {
        "tags": [
          "register model from history"
        ],
        "trusted": false
      },
      "cell_type": "code",
      "source": "# register model \nmodel = run.register_model(model_name='biketypemodel', model_path='outputs/biketypemodel.pkl')\nprint(model.name, model.id, model.version, sep='\\t')",
      "execution_count": null,
      "outputs": []
    },
    {
      "metadata": {},
      "cell_type": "markdown",
      "source": "_______________________"
    },
    {
      "metadata": {},
      "cell_type": "markdown",
      "source": "# Lab 2: Part B Deploy the model"
    },
    {
      "metadata": {},
      "cell_type": "markdown",
      "source": "Now, you're ready to deploy the model as a web service in Azure Container Instances (ACI). A web service is an image, in this case a Docker image, that encapsulates the scoring logic and the model itself.\n\nIn this part of the lab, you use Azure Machine Learning service (Preview) to:\n\nSet up your testing environment\nRetrieve the model from your workspace\nTest the model locally\nDeploy the model to ACI\nTest the deployed model\n\nACI is not ideal for production deployments, but it is great for testing and understanding the workflow. For scalable production deployments, consider using AKS."
    },
    {
      "metadata": {},
      "cell_type": "markdown",
      "source": "### Retrieve the model\n\nYou registered a model in your workspace previously. Assuming you needed to come back later to deploy the model, load this workspace and download the model to your local directory."
    },
    {
      "metadata": {
        "trusted": false
      },
      "cell_type": "code",
      "source": "from azureml.core import Workspace\nfrom azureml.core.model import Model\n\nws = Workspace.from_config()\nmodel=Model(ws, 'biketypemodel')\nmodel.download(target_dir='.', exist_ok=True)\nimport os \n# verify the downloaded model file\nos.stat('./biketypemodel.pkl')\n\nprint('Complete')",
      "execution_count": 34,
      "outputs": [
        {
          "data": {
            "text/plain": "os.stat_result(st_mode=33188, st_ino=67, st_dev=49, st_nlink=1, st_uid=1200, st_gid=1200, st_size=3525037, st_atime=0, st_mtime=1557862929, st_ctime=1557862929)"
          },
          "execution_count": 34,
          "metadata": {},
          "output_type": "execute_result"
        }
      ]
    },
    {
      "metadata": {},
      "cell_type": "markdown",
      "source": "## Deploy as web service\n\nOnce you've tested the model and are satisfied with the results, deploy the model as a web service hosted in ACI. \n\nTo build the correct environment for ACI, provide the following:\n* A scoring script to show how to use the model\n* An environment file to show what packages need to be installed\n* A configuration file to build the ACI\n* The model you trained before\n\n### Create scoring script\n\nCreate the scoring script, called score.py, used by the web service call to show how to use the model.\n\nYou must include two required functions into the scoring script:\n* The `init()` function, which typically loads the model into a global object. This function is run only once when the Docker container is started. \n\n* The `run(input_data)` function uses the model to predict a value based on the input data. Inputs and outputs to the run typically use JSON for serialization and de-serialization, but other formats are supported."
    },
    {
      "metadata": {
        "trusted": false
      },
      "cell_type": "code",
      "source": "%%writefile score.py\nimport json\nimport numpy as np\nimport os\nimport pickle\nfrom sklearn.externals import joblib\nfrom sklearn.linear_model import LogisticRegression\n\nfrom azureml.core.model import Model\n\ndef init():\n    global model\n    # retreive the path to the model file using the model name\n    model_path = Model.get_model_path('biketypemodel')\n    model = joblib.load(model_path)\n\ndef run(raw_data):\n    data = np.array(json.loads(raw_data)['data'])\n    # make prediction\n    y_hat = model.predict(data)\n    # you can return any data type as long as it is JSON-serializable\n    return y_hat.tolist()",
      "execution_count": 35,
      "outputs": [
        {
          "name": "stdout",
          "output_type": "stream",
          "text": "Overwriting score.py\n"
        }
      ]
    },
    {
      "metadata": {},
      "cell_type": "markdown",
      "source": "### Create environment file\n\nNext, create an environment file, called myenv.yml, that specifies all of the script's package dependencies. This file is used to ensure that all of those dependencies are installed in the Docker image. This model needs `scikit-learn` and `azureml-sdk`."
    },
    {
      "metadata": {
        "trusted": false
      },
      "cell_type": "code",
      "source": "from azureml.core.conda_dependencies import CondaDependencies \n\nbikemodelenv = CondaDependencies()\nbikemodelenv.add_conda_package(\"scikit-learn\")\n\nwith open(\"bikemodelenv.yml\",\"w\") as f:\n    f.write(bikemodelenv.serialize_to_string())\n    \nprint('Complete')    ",
      "execution_count": 36,
      "outputs": [
        {
          "name": "stdout",
          "output_type": "stream",
          "text": "Complete\n"
        }
      ]
    },
    {
      "metadata": {},
      "cell_type": "markdown",
      "source": "Review the content of the `myenv.yml` file."
    },
    {
      "metadata": {
        "trusted": false
      },
      "cell_type": "code",
      "source": "with open(\"bikemodelenv.yml\",\"r\") as f:\n    print(f.read())\n    \nprint('Complete')    ",
      "execution_count": 37,
      "outputs": [
        {
          "name": "stdout",
          "output_type": "stream",
          "text": "# Conda environment specification. The dependencies defined in this file will\n# be automatically provisioned for runs with userManagedDependencies=False.\n\n# Details about the Conda environment file format:\n# https://conda.io/docs/user-guide/tasks/manage-environments.html#create-env-file-manually\n\nname: project_environment\ndependencies:\n  # The python interpreter version.\n  # Currently Azure ML only supports 3.5.2 and later.\n- python=3.6.2\n\n- pip:\n    # Required packages for AzureML execution, history, and data preparation.\n  - azureml-defaults\n- scikit-learn\n\nComplete\n"
        }
      ]
    },
    {
      "metadata": {},
      "cell_type": "markdown",
      "source": "### Create configuration file\n\nCreate a deployment configuration file and specify the number of CPUs and gigabyte of RAM needed for your ACI container. While it depends on your model, the default of 1 core and 1 gigabyte of RAM is usually sufficient for many models. If you feel you need more later, you would have to recreate the image and redeploy the service."
    },
    {
      "metadata": {
        "trusted": false
      },
      "cell_type": "code",
      "source": "from azureml.core.webservice import AciWebservice\n\naciconfig = AciWebservice.deploy_configuration(cpu_cores=1, \n                                               memory_gb=1, \n                                               tags={\"data\": \"biketype\",  \"method\" : \"sklearn\"}, \n                                               description='Predict biketype with sklearn')\n\nprint('Complete')",
      "execution_count": 38,
      "outputs": [
        {
          "name": "stdout",
          "output_type": "stream",
          "text": "Complete\n"
        }
      ]
    },
    {
      "metadata": {},
      "cell_type": "markdown",
      "source": "### Deploy in ACI\nEstimated time to complete: **about 7-8 minutes**\n\nConfigure the image and deploy. The following code goes through these steps:\n\n1. Build an image using:\n   * The scoring file (`score.py`)\n   * The environment file (`myenv.yml`)\n   * The model file\n1. Register that image under the workspace. \n1. Send the image to the ACI container.\n1. Start up a container in ACI using the image.\n1. Get the web service HTTP endpoint."
    },
    {
      "metadata": {
        "trusted": false
      },
      "cell_type": "code",
      "source": "%%time\nfrom azureml.core.webservice import Webservice\nfrom azureml.core.image import ContainerImage\n\n# configure the image\nimage_config = ContainerImage.image_configuration(execution_script=\"score.py\", \n                                                  runtime=\"python\", \n                                                  conda_file=\"bikemodelenv.yml\")\n\nservice = Webservice.deploy_from_model(workspace=ws,\n                                       name='sklearn-biketype-svc2',\n                                       deployment_config=aciconfig,\n                                       models=[model],\n                                       image_config=image_config)\n\nservice.wait_for_deployment(show_output=True)\n\nprint('Complete')",
      "execution_count": 40,
      "outputs": [
        {
          "name": "stdout",
          "output_type": "stream",
          "text": "Creating image\nImage creation operation finished for image sklearn-biketype-svc2:1, operation \"Succeeded\"\nCreating service\nRunning....................\nSucceededACI service creation operation finished, operation \"Succeeded\"\nComplete\nCPU times: user 2.36 s, sys: 798 ms, total: 3.16 s\nWall time: 6min 31s\n"
        }
      ]
    },
    {
      "metadata": {},
      "cell_type": "markdown",
      "source": "Get the scoring web service's HTTP endpoint, which accepts REST client calls. This endpoint can be shared with anyone who wants to test the web service or integrate it into an application."
    },
    {
      "metadata": {
        "trusted": false
      },
      "cell_type": "code",
      "source": "print(service.scoring_uri)",
      "execution_count": 41,
      "outputs": [
        {
          "name": "stdout",
          "output_type": "stream",
          "text": "http://52.224.142.250:80/score\n"
        }
      ]
    },
    {
      "metadata": {},
      "cell_type": "markdown",
      "source": "## Test deployed service\n\nEarlier you scored all the test data with the local version of the model. Now, you can test the deployed model by just passing the data we used earlier.  In the interest of time, just pass the original training set through, i.e. BikeModelFeatures.csv as it will serve us well just to test the deployed service.  In a real use case, you might want to specially prepare some input data.  \n\nThe following code goes through these steps:\n1. Send the data as a JSON array to the web service hosted in ACI. \n\n1. Use the SDK's `run` API to invoke the service. You can also make raw calls using any HTTP tool such as curl.\n\n1. Print the returned predictions and plot them along with the input images. Red font and inverse image (white on black) is used to highlight the misclassified samples. \n"
    },
    {
      "metadata": {
        "trusted": false
      },
      "cell_type": "code",
      "source": "import pandas as pd\n\ndf_BikeTest = pd.read_csv('BikeModelFeatures.csv')\ny_test = df_BikeTest['BikeTypeCat']\ndf_BikeTest.drop(columns=['BikeTypeCat'], inplace=True)\nX_test = df_BikeTest.values\nX_test.shape",
      "execution_count": 52,
      "outputs": [
        {
          "data": {
            "text/plain": "(15205, 10)"
          },
          "execution_count": 52,
          "metadata": {},
          "output_type": "execute_result"
        }
      ]
    },
    {
      "metadata": {
        "trusted": false
      },
      "cell_type": "code",
      "source": "import json\n\n\ntest_samples = json.dumps({\"data\": X_test.tolist()})\ntest_samples = bytes(test_samples, encoding='utf8')\n\n# predict using the deployed model\nresult = service.run(input_data=test_samples)\n\nprint('Complete')",
      "execution_count": 53,
      "outputs": [
        {
          "name": "stdout",
          "output_type": "stream",
          "text": "Complete\n"
        }
      ]
    },
    {
      "metadata": {},
      "cell_type": "markdown",
      "source": "### Display the first few values to see that the call worked."
    },
    {
      "metadata": {
        "trusted": false
      },
      "cell_type": "code",
      "source": "result[0:5]",
      "execution_count": 54,
      "outputs": [
        {
          "data": {
            "text/plain": "[0, 1, 1, 1, 1]"
          },
          "execution_count": 54,
          "metadata": {},
          "output_type": "execute_result"
        }
      ]
    },
    {
      "metadata": {},
      "cell_type": "markdown",
      "source": "You can also send raw HTTP request to test the web service.  Again, we are using the X_test data for convenience."
    },
    {
      "metadata": {
        "trusted": false
      },
      "cell_type": "code",
      "source": "import requests\nimport json\n\n# send a random row from the test set to score\nrandom_index = np.random.randint(0, len(X_test)-1)\ninput_data = \"{\\\"data\\\": [\" + str(list(X_test[random_index])) + \"]}\"\n\n\nheaders = {'Content-Type':'application/json'}\n\n# for AKS deployment you'd need to the service key in the header as well\n# api_key = service.get_key()\n# headers = {'Content-Type':'application/json',  'Authorization':('Bearer '+ api_key)} \n\nresp = requests.post(service.scoring_uri, input_data, headers=headers)\n\nprint(\"POST to url\", service.scoring_uri)\n#print(\"input data:\", input_data)\nprint(\"label:\", y_test[random_index])\nprint(\"prediction:\", resp.text)\n\nprint('Complete')",
      "execution_count": 55,
      "outputs": [
        {
          "name": "stdout",
          "output_type": "stream",
          "text": "POST to url http://52.224.142.250:80/score\nlabel: 2\nprediction: [1]\nComplete\n"
        }
      ]
    },
    {
      "metadata": {},
      "cell_type": "markdown",
      "source": "## Clean up resources\n\nTo keep the resource group and workspace for other tutorials and exploration, you can delete only the ACI deployment using this API call:"
    },
    {
      "metadata": {
        "trusted": false
      },
      "cell_type": "code",
      "source": "# Uncomment the line below and run the code to clean up the resources.\n\n# service.delete()",
      "execution_count": null,
      "outputs": []
    }
  ],
  "metadata": {
    "authors": [
      {
        "name": "roastala"
      }
    ],
    "kernelspec": {
      "name": "python3",
      "display_name": "Python 3",
      "language": "python"
    },
    "language_info": {
      "mimetype": "text/x-python",
      "nbconvert_exporter": "python",
      "name": "python",
      "pygments_lexer": "ipython3",
      "version": "3.5.4",
      "file_extension": ".py",
      "codemirror_mode": {
        "version": 3,
        "name": "ipython"
      }
    },
    "msauthor": "roastala"
  },
  "nbformat": 4,
  "nbformat_minor": 2
}