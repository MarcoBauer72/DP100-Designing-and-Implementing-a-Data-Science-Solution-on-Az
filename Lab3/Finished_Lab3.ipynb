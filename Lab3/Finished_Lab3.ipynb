{
  "cells": [
    {
      "metadata": {},
      "cell_type": "markdown",
      "source": "Copyright (c) Microsoft Corporation. All rights reserved.\n\nLicensed under the MIT License."
    },
    {
      "metadata": {},
      "cell_type": "markdown",
      "source": "# Lab 3: Automated Machine Learning with AutomML\n_**Classification with Local Compute**_"
    },
    {
      "metadata": {},
      "cell_type": "markdown",
      "source": "## Introduction\nIn this lab, you will use your AdeventureWorks model training feature data you created earlier, to let AutoML find the best performing model.\n\nIn this notebook you will learn how to:\n1. Create an `Experiment` in an existing `Workspace`.\n2. Configure AutoML using `AutoMLConfig`.\n3. Train the model using local compute.\n4. Explore the results.\n5. Test the best fitted model."
    },
    {
      "metadata": {},
      "cell_type": "markdown",
      "source": "## Setup\n\nAs part of the setup you have already created an Azure ML `Workspace` object. For AutoML you will need to create an `Experiment` object, which is a named object in a `Workspace` used to run experiments."
    },
    {
      "metadata": {
        "trusted": true
      },
      "cell_type": "code",
      "source": "import azureml.core\nprint(azureml.core.VERSION)",
      "execution_count": 12,
      "outputs": [
        {
          "output_type": "stream",
          "text": "1.0.72\n",
          "name": "stdout"
        }
      ]
    },
    {
      "metadata": {
        "trusted": true
      },
      "cell_type": "code",
      "source": "from azureml.core import Workspace\n\n# check core SDK version number\nprint(\"Azure ML SDK Version: \", azureml.core.VERSION)",
      "execution_count": 13,
      "outputs": [
        {
          "output_type": "stream",
          "text": "Azure ML SDK Version:  1.0.72\n",
          "name": "stdout"
        }
      ]
    },
    {
      "metadata": {},
      "cell_type": "markdown",
      "source": "## Connect to your Azure Machine Learning service workspace.\n\nThere are two ways to do this:\n\n- Using the workspace config file we created earlier.\n- Calling the workspace get() method "
    },
    {
      "metadata": {
        "trusted": true
      },
      "cell_type": "code",
      "source": "# Method 1: Using the workspace config file...\n\nws = Workspace.from_config()\nprint(ws.name, ws.location, ws.resource_group, ws.location, sep='\\t')",
      "execution_count": 14,
      "outputs": [
        {
          "output_type": "stream",
          "text": "MBAUER\teastus\tRG-DP100\teastus\n",
          "name": "stdout"
        }
      ]
    },
    {
      "metadata": {
        "trusted": true
      },
      "cell_type": "code",
      "source": "# Method 2: Using the get() method...\n\nfrom azureml.core import Workspace, Experiment, Run\nws = Workspace.get(name='MBAUER',\n                   subscription_id='52b56929-ee84-495c-91c3-a84dfacbc9d2',\n                   resource_group='RG-DP100'\n                  )\nprint(ws.name, ws.location, ws.resource_group, ws.location, sep='\\t')",
      "execution_count": 11,
      "outputs": [
        {
          "output_type": "stream",
          "text": "Performing interactive authentication. Please follow the instructions on the terminal.\nTo sign in, use a web browser to open the page https://microsoft.com/devicelogin and enter the code FUKLTN3L9 to authenticate.\nInteractive authentication successfully completed.\n",
          "name": "stdout"
        },
        {
          "output_type": "error",
          "ename": "UserErrorException",
          "evalue": "UserErrorException:\n\tMessage: You are currently logged-in to 60623c36-25e7-4dec-a900-05b500441e54 tenant. You don't have access to <your-subscription_id subscription, please check if it is in this tenant. All the subscriptions that you have access to in this tenant are = \n [SubscriptionInfo(subscription_name='MSDN Platforms', subscription_id='52b56929-ee84-495c-91c3-a84dfacbc9d2')]. \n Please refer to aka.ms/aml-notebook-auth for different authentication mechanisms in azureml-sdk.\n\tInnerException None\n\tErrorResponse \n{\n    \"error\": {\n        \"code\": \"UserError\",\n        \"message\": \"You are currently logged-in to 60623c36-25e7-4dec-a900-05b500441e54 tenant. You don't have access to <your-subscription_id subscription, please check if it is in this tenant. All the subscriptions that you have access to in this tenant are = \\n [SubscriptionInfo(subscription_name='MSDN Platforms', subscription_id='52b56929-ee84-495c-91c3-a84dfacbc9d2')]. \\n Please refer to aka.ms/aml-notebook-auth for different authentication mechanisms in azureml-sdk.\"\n    }\n}",
          "traceback": [
            "\u001b[0;31m---------------------------------------------------------------------------\u001b[0m",
            "\u001b[0;31mUserErrorException\u001b[0m                        Traceback (most recent call last)",
            "\u001b[0;32m~/anaconda3_501/lib/python3.6/site-packages/azureml/core/authentication.py\u001b[0m in \u001b[0;36mwrapper\u001b[0;34m(self, *args, **kwargs)\u001b[0m\n\u001b[1;32m    253\u001b[0m                     \u001b[0mmodule_logger\u001b[0m\u001b[0;34m.\u001b[0m\u001b[0mdebug\u001b[0m\u001b[0;34m(\u001b[0m\u001b[0;34m\"{} acquired lock in {} s.\"\u001b[0m\u001b[0;34m.\u001b[0m\u001b[0mformat\u001b[0m\u001b[0;34m(\u001b[0m\u001b[0mtype\u001b[0m\u001b[0;34m(\u001b[0m\u001b[0mself\u001b[0m\u001b[0;34m)\u001b[0m\u001b[0;34m.\u001b[0m\u001b[0m__name__\u001b[0m\u001b[0;34m,\u001b[0m \u001b[0mduration\u001b[0m\u001b[0;34m)\u001b[0m\u001b[0;34m)\u001b[0m\u001b[0;34m\u001b[0m\u001b[0m\n\u001b[0;32m--> 254\u001b[0;31m                 \u001b[0;32mreturn\u001b[0m \u001b[0mtest_function\u001b[0m\u001b[0;34m(\u001b[0m\u001b[0mself\u001b[0m\u001b[0;34m,\u001b[0m \u001b[0;34m*\u001b[0m\u001b[0margs\u001b[0m\u001b[0;34m,\u001b[0m \u001b[0;34m**\u001b[0m\u001b[0mkwargs\u001b[0m\u001b[0;34m)\u001b[0m\u001b[0;34m\u001b[0m\u001b[0m\n\u001b[0m\u001b[1;32m    255\u001b[0m             \u001b[0;32mexcept\u001b[0m \u001b[0mException\u001b[0m \u001b[0;32mas\u001b[0m \u001b[0me\u001b[0m\u001b[0;34m:\u001b[0m\u001b[0;34m\u001b[0m\u001b[0m\n",
            "\u001b[0;32m~/anaconda3_501/lib/python3.6/site-packages/azureml/core/authentication.py\u001b[0m in \u001b[0;36m_check_if_subscription_exists\u001b[0;34m(self, subscription_id, subscription_id_list, tenant_id)\u001b[0m\n\u001b[1;32m    407\u001b[0m         super(InteractiveLoginAuthentication, self)._check_if_subscription_exists(subscription_id,\n\u001b[0;32m--> 408\u001b[0;31m                                                                                   subscription_id_list, tenant_id)\n\u001b[0m\u001b[1;32m    409\u001b[0m \u001b[0;34m\u001b[0m\u001b[0m\n",
            "\u001b[0;32m~/anaconda3_501/lib/python3.6/site-packages/azureml/core/authentication.py\u001b[0m in \u001b[0;36m_check_if_subscription_exists\u001b[0;34m(self, subscription_id, subscription_id_list, tenant_id)\u001b[0m\n\u001b[1;32m    206\u001b[0m                                                                                         \u001b[0msubscription_id\u001b[0m\u001b[0;34m,\u001b[0m\u001b[0;34m\u001b[0m\u001b[0m\n\u001b[0;32m--> 207\u001b[0;31m                                                                                         subscription_id_list))\n\u001b[0m\u001b[1;32m    208\u001b[0m \u001b[0;34m\u001b[0m\u001b[0m\n",
            "\u001b[0;31mUserErrorException\u001b[0m: UserErrorException:\n\tMessage: You are currently logged-in to 60623c36-25e7-4dec-a900-05b500441e54 tenant. You don't have access to <your-subscription_id subscription, please check if it is in this tenant. All the subscriptions that you have access to in this tenant are = \n [SubscriptionInfo(subscription_name='MSDN Platforms', subscription_id='52b56929-ee84-495c-91c3-a84dfacbc9d2')]. \n Please refer to aka.ms/aml-notebook-auth for different authentication mechanisms in azureml-sdk.\n\tInnerException None\n\tErrorResponse \n{\n    \"error\": {\n        \"code\": \"UserError\",\n        \"message\": \"You are currently logged-in to 60623c36-25e7-4dec-a900-05b500441e54 tenant. You don't have access to <your-subscription_id subscription, please check if it is in this tenant. All the subscriptions that you have access to in this tenant are = \\n [SubscriptionInfo(subscription_name='MSDN Platforms', subscription_id='52b56929-ee84-495c-91c3-a84dfacbc9d2')]. \\n Please refer to aka.ms/aml-notebook-auth for different authentication mechanisms in azureml-sdk.\"\n    }\n}",
            "\nDuring handling of the above exception, another exception occurred:\n",
            "\u001b[0;31mUserErrorException\u001b[0m                        Traceback (most recent call last)",
            "\u001b[0;32m<ipython-input-11-aa88815e57e0>\u001b[0m in \u001b[0;36m<module>\u001b[0;34m\u001b[0m\n\u001b[1;32m      4\u001b[0m ws = Workspace.get(name='dp100labws',\n\u001b[1;32m      5\u001b[0m                    \u001b[0msubscription_id\u001b[0m\u001b[0;34m=\u001b[0m\u001b[0;34m'<your-subscription_id'\u001b[0m\u001b[0;34m,\u001b[0m\u001b[0;34m\u001b[0m\u001b[0m\n\u001b[0;32m----> 6\u001b[0;31m                    \u001b[0mresource_group\u001b[0m\u001b[0;34m=\u001b[0m\u001b[0;34m'dp100labrg'\u001b[0m\u001b[0;34m\u001b[0m\u001b[0m\n\u001b[0m\u001b[1;32m      7\u001b[0m                   )\n\u001b[1;32m      8\u001b[0m \u001b[0mprint\u001b[0m\u001b[0;34m(\u001b[0m\u001b[0mws\u001b[0m\u001b[0;34m.\u001b[0m\u001b[0mname\u001b[0m\u001b[0;34m,\u001b[0m \u001b[0mws\u001b[0m\u001b[0;34m.\u001b[0m\u001b[0mlocation\u001b[0m\u001b[0;34m,\u001b[0m \u001b[0mws\u001b[0m\u001b[0;34m.\u001b[0m\u001b[0mresource_group\u001b[0m\u001b[0;34m,\u001b[0m \u001b[0mws\u001b[0m\u001b[0;34m.\u001b[0m\u001b[0mlocation\u001b[0m\u001b[0;34m,\u001b[0m \u001b[0msep\u001b[0m\u001b[0;34m=\u001b[0m\u001b[0;34m'\\t'\u001b[0m\u001b[0;34m)\u001b[0m\u001b[0;34m\u001b[0m\u001b[0m\n",
            "\u001b[0;32m~/anaconda3_501/lib/python3.6/site-packages/azureml/core/workspace.py\u001b[0m in \u001b[0;36mget\u001b[0;34m(name, auth, subscription_id, resource_group)\u001b[0m\n\u001b[1;32m    444\u001b[0m         \u001b[0;31m# operation.\u001b[0m\u001b[0;34m\u001b[0m\u001b[0;34m\u001b[0m\u001b[0m\n\u001b[1;32m    445\u001b[0m         \u001b[0;32mif\u001b[0m \u001b[0msubscription_id\u001b[0m \u001b[0;32mand\u001b[0m \u001b[0mresource_group\u001b[0m\u001b[0;34m:\u001b[0m\u001b[0;34m\u001b[0m\u001b[0m\n\u001b[0;32m--> 446\u001b[0;31m             \u001b[0;32mreturn\u001b[0m \u001b[0mWorkspace\u001b[0m\u001b[0;34m(\u001b[0m\u001b[0msubscription_id\u001b[0m\u001b[0;34m,\u001b[0m \u001b[0mresource_group\u001b[0m\u001b[0;34m,\u001b[0m \u001b[0mname\u001b[0m\u001b[0;34m,\u001b[0m \u001b[0mauth\u001b[0m\u001b[0;34m=\u001b[0m\u001b[0mauth\u001b[0m\u001b[0;34m)\u001b[0m\u001b[0;34m\u001b[0m\u001b[0m\n\u001b[0m\u001b[1;32m    447\u001b[0m \u001b[0;34m\u001b[0m\u001b[0m\n\u001b[1;32m    448\u001b[0m         \u001b[0;32mif\u001b[0m \u001b[0;32mnot\u001b[0m \u001b[0msubscription_id\u001b[0m\u001b[0;34m:\u001b[0m\u001b[0;34m\u001b[0m\u001b[0m\n",
            "\u001b[0;32m~/anaconda3_501/lib/python3.6/site-packages/azureml/core/workspace.py\u001b[0m in \u001b[0;36m__init__\u001b[0;34m(self, subscription_id, resource_group, workspace_name, auth, _location, _disable_service_check, _workspace_id, sku)\u001b[0m\n\u001b[1;32m    183\u001b[0m \u001b[0;34m\u001b[0m\u001b[0m\n\u001b[1;32m    184\u001b[0m         \u001b[0;32mif\u001b[0m \u001b[0;32mnot\u001b[0m \u001b[0m_disable_service_check\u001b[0m\u001b[0;34m:\u001b[0m\u001b[0;34m\u001b[0m\u001b[0m\n\u001b[0;32m--> 185\u001b[0;31m             \u001b[0mauto_rest_workspace\u001b[0m \u001b[0;34m=\u001b[0m \u001b[0m_commands\u001b[0m\u001b[0;34m.\u001b[0m\u001b[0mget_workspace\u001b[0m\u001b[0;34m(\u001b[0m\u001b[0mauth\u001b[0m\u001b[0;34m,\u001b[0m \u001b[0msubscription_id\u001b[0m\u001b[0;34m,\u001b[0m \u001b[0mresource_group\u001b[0m\u001b[0;34m,\u001b[0m \u001b[0mworkspace_name\u001b[0m\u001b[0;34m)\u001b[0m\u001b[0;34m\u001b[0m\u001b[0m\n\u001b[0m\u001b[1;32m    186\u001b[0m             \u001b[0mself\u001b[0m\u001b[0;34m.\u001b[0m\u001b[0m_workspace_autorest_object\u001b[0m \u001b[0;34m=\u001b[0m \u001b[0mauto_rest_workspace\u001b[0m\u001b[0;34m\u001b[0m\u001b[0m\n\u001b[1;32m    187\u001b[0m \u001b[0;34m\u001b[0m\u001b[0m\n",
            "\u001b[0;32m~/anaconda3_501/lib/python3.6/site-packages/azureml/_project/_commands.py\u001b[0m in \u001b[0;36mget_workspace\u001b[0;34m(auth, subscription_id, resource_group_name, workspace_name)\u001b[0m\n\u001b[1;32m    339\u001b[0m     \"\"\"\n\u001b[1;32m    340\u001b[0m     \u001b[0;32mtry\u001b[0m\u001b[0;34m:\u001b[0m\u001b[0;34m\u001b[0m\u001b[0m\n\u001b[0;32m--> 341\u001b[0;31m         \u001b[0mworkspaces\u001b[0m \u001b[0;34m=\u001b[0m \u001b[0mauth\u001b[0m\u001b[0;34m.\u001b[0m\u001b[0m_get_service_client\u001b[0m\u001b[0;34m(\u001b[0m\u001b[0mAzureMachineLearningWorkspaces\u001b[0m\u001b[0;34m,\u001b[0m \u001b[0msubscription_id\u001b[0m\u001b[0;34m)\u001b[0m\u001b[0;34m.\u001b[0m\u001b[0mworkspaces\u001b[0m\u001b[0;34m\u001b[0m\u001b[0m\n\u001b[0m\u001b[1;32m    342\u001b[0m         return WorkspacesOperations.get(\n\u001b[1;32m    343\u001b[0m             \u001b[0mworkspaces\u001b[0m\u001b[0;34m,\u001b[0m\u001b[0;34m\u001b[0m\u001b[0m\n",
            "\u001b[0;32m~/anaconda3_501/lib/python3.6/site-packages/azureml/core/authentication.py\u001b[0m in \u001b[0;36m_get_service_client\u001b[0;34m(self, client_class, subscription_id, subscription_bound, base_url)\u001b[0m\n\u001b[1;32m    121\u001b[0m         \u001b[0;32mif\u001b[0m \u001b[0msubscription_id\u001b[0m\u001b[0;34m:\u001b[0m\u001b[0;34m\u001b[0m\u001b[0m\n\u001b[1;32m    122\u001b[0m             \u001b[0mall_subscription_list\u001b[0m\u001b[0;34m,\u001b[0m \u001b[0mtenant_id\u001b[0m \u001b[0;34m=\u001b[0m \u001b[0mself\u001b[0m\u001b[0;34m.\u001b[0m\u001b[0m_get_all_subscription_ids\u001b[0m\u001b[0;34m(\u001b[0m\u001b[0;34m)\u001b[0m\u001b[0;34m\u001b[0m\u001b[0m\n\u001b[0;32m--> 123\u001b[0;31m             \u001b[0mself\u001b[0m\u001b[0;34m.\u001b[0m\u001b[0m_check_if_subscription_exists\u001b[0m\u001b[0;34m(\u001b[0m\u001b[0msubscription_id\u001b[0m\u001b[0;34m,\u001b[0m \u001b[0mall_subscription_list\u001b[0m\u001b[0;34m,\u001b[0m \u001b[0mtenant_id\u001b[0m\u001b[0;34m)\u001b[0m\u001b[0;34m\u001b[0m\u001b[0m\n\u001b[0m\u001b[1;32m    124\u001b[0m \u001b[0;34m\u001b[0m\u001b[0m\n\u001b[1;32m    125\u001b[0m         return _get_service_client_using_arm_token(self, client_class, subscription_id,\n",
            "\u001b[0;32m~/anaconda3_501/lib/python3.6/site-packages/azureml/core/authentication.py\u001b[0m in \u001b[0;36mwrapper\u001b[0;34m(self, *args, **kwargs)\u001b[0m\n\u001b[1;32m    258\u001b[0m                     \u001b[0mInteractiveLoginAuthentication\u001b[0m\u001b[0;34m(\u001b[0m\u001b[0mforce\u001b[0m\u001b[0;34m=\u001b[0m\u001b[0;32mTrue\u001b[0m\u001b[0;34m,\u001b[0m \u001b[0mtenant_id\u001b[0m\u001b[0;34m=\u001b[0m\u001b[0mself\u001b[0m\u001b[0;34m.\u001b[0m\u001b[0m_tenant_id\u001b[0m\u001b[0;34m)\u001b[0m\u001b[0;34m\u001b[0m\u001b[0m\n\u001b[1;32m    259\u001b[0m                     \u001b[0;31m# Try one more time\u001b[0m\u001b[0;34m\u001b[0m\u001b[0;34m\u001b[0m\u001b[0m\n\u001b[0;32m--> 260\u001b[0;31m                     \u001b[0;32mreturn\u001b[0m \u001b[0mtest_function\u001b[0m\u001b[0;34m(\u001b[0m\u001b[0mself\u001b[0m\u001b[0;34m,\u001b[0m \u001b[0;34m*\u001b[0m\u001b[0margs\u001b[0m\u001b[0;34m,\u001b[0m \u001b[0;34m**\u001b[0m\u001b[0mkwargs\u001b[0m\u001b[0;34m)\u001b[0m\u001b[0;34m\u001b[0m\u001b[0m\n\u001b[0m\u001b[1;32m    261\u001b[0m                 \u001b[0;32melse\u001b[0m\u001b[0;34m:\u001b[0m\u001b[0;34m\u001b[0m\u001b[0m\n\u001b[1;32m    262\u001b[0m                     \u001b[0;32mraise\u001b[0m \u001b[0me\u001b[0m\u001b[0;34m\u001b[0m\u001b[0m\n",
            "\u001b[0;32m~/anaconda3_501/lib/python3.6/site-packages/azureml/core/authentication.py\u001b[0m in \u001b[0;36m_check_if_subscription_exists\u001b[0;34m(self, subscription_id, subscription_id_list, tenant_id)\u001b[0m\n\u001b[1;32m    406\u001b[0m     \u001b[0;32mdef\u001b[0m \u001b[0m_check_if_subscription_exists\u001b[0m\u001b[0;34m(\u001b[0m\u001b[0mself\u001b[0m\u001b[0;34m,\u001b[0m \u001b[0msubscription_id\u001b[0m\u001b[0;34m,\u001b[0m \u001b[0msubscription_id_list\u001b[0m\u001b[0;34m,\u001b[0m \u001b[0mtenant_id\u001b[0m\u001b[0;34m)\u001b[0m\u001b[0;34m:\u001b[0m\u001b[0;34m\u001b[0m\u001b[0m\n\u001b[1;32m    407\u001b[0m         super(InteractiveLoginAuthentication, self)._check_if_subscription_exists(subscription_id,\n\u001b[0;32m--> 408\u001b[0;31m                                                                                   subscription_id_list, tenant_id)\n\u001b[0m\u001b[1;32m    409\u001b[0m \u001b[0;34m\u001b[0m\u001b[0m\n\u001b[1;32m    410\u001b[0m     \u001b[0;32mdef\u001b[0m \u001b[0m_get_ambient\u001b[0m\u001b[0;34m(\u001b[0m\u001b[0mself\u001b[0m\u001b[0;34m)\u001b[0m\u001b[0;34m:\u001b[0m\u001b[0;34m\u001b[0m\u001b[0m\n",
            "\u001b[0;32m~/anaconda3_501/lib/python3.6/site-packages/azureml/core/authentication.py\u001b[0m in \u001b[0;36m_check_if_subscription_exists\u001b[0;34m(self, subscription_id, subscription_id_list, tenant_id)\u001b[0m\n\u001b[1;32m    205\u001b[0m                                      \"authentication mechanisms in azureml-sdk.\".format(tenant_id,\n\u001b[1;32m    206\u001b[0m                                                                                         \u001b[0msubscription_id\u001b[0m\u001b[0;34m,\u001b[0m\u001b[0;34m\u001b[0m\u001b[0m\n\u001b[0;32m--> 207\u001b[0;31m                                                                                         subscription_id_list))\n\u001b[0m\u001b[1;32m    208\u001b[0m \u001b[0;34m\u001b[0m\u001b[0m\n\u001b[1;32m    209\u001b[0m \u001b[0;34m\u001b[0m\u001b[0m\n",
            "\u001b[0;31mUserErrorException\u001b[0m: UserErrorException:\n\tMessage: You are currently logged-in to 60623c36-25e7-4dec-a900-05b500441e54 tenant. You don't have access to <your-subscription_id subscription, please check if it is in this tenant. All the subscriptions that you have access to in this tenant are = \n [SubscriptionInfo(subscription_name='MSDN Platforms', subscription_id='52b56929-ee84-495c-91c3-a84dfacbc9d2')]. \n Please refer to aka.ms/aml-notebook-auth for different authentication mechanisms in azureml-sdk.\n\tInnerException None\n\tErrorResponse \n{\n    \"error\": {\n        \"code\": \"UserError\",\n        \"message\": \"You are currently logged-in to 60623c36-25e7-4dec-a900-05b500441e54 tenant. You don't have access to <your-subscription_id subscription, please check if it is in this tenant. All the subscriptions that you have access to in this tenant are = \\n [SubscriptionInfo(subscription_name='MSDN Platforms', subscription_id='52b56929-ee84-495c-91c3-a84dfacbc9d2')]. \\n Please refer to aka.ms/aml-notebook-auth for different authentication mechanisms in azureml-sdk.\"\n    }\n}"
          ]
        }
      ]
    },
    {
      "metadata": {
        "trusted": false
      },
      "cell_type": "code",
      "source": "import logging\n\nfrom matplotlib import pyplot as plt\nimport numpy as np\nimport pandas as pd\n\nimport azureml.core\nfrom azureml.core.experiment import Experiment\nfrom azureml.core.workspace import Workspace\nfrom azureml.train.automl import AutoMLConfig\nprint('Modules loaded...')",
      "execution_count": 48,
      "outputs": []
    },
    {
      "metadata": {
        "trusted": false
      },
      "cell_type": "code",
      "source": "#ws = Workspace.from_config()\n\n# Choose a name for the experiment and specify the project folder.\nexperiment_name = 'dp100lab-automl'\nproject_folder = './dp100lab'\n\nexperiment = Experiment(ws, experiment_name)\n\noutput = {}\noutput['SDK version'] = azureml.core.VERSION\noutput['Subscription ID'] = ws.subscription_id\noutput['Workspace Name'] = ws.name\noutput['Resource Group'] = ws.resource_group\noutput['Location'] = ws.location\noutput['Project Directory'] = project_folder\noutput['Experiment Name'] = experiment.name\npd.set_option('display.max_colwidth', -1)\noutputDf = pd.DataFrame(data = output, index = [''])\noutputDf.T",
      "execution_count": 52,
      "outputs": [
        {
          "data": {
            "text/html": "<div>\n<style scoped>\n    .dataframe tbody tr th:only-of-type {\n        vertical-align: middle;\n    }\n\n    .dataframe tbody tr th {\n        vertical-align: top;\n    }\n\n    .dataframe thead th {\n        text-align: right;\n    }\n</style>\n<table border=\"1\" class=\"dataframe\">\n  <thead>\n    <tr style=\"text-align: right;\">\n      <th></th>\n      <th></th>\n    </tr>\n  </thead>\n  <tbody>\n    <tr>\n      <th>Experiment Name</th>\n      <td>automl-local-classification</td>\n    </tr>\n    <tr>\n      <th>Location</th>\n      <td>eastus2</td>\n    </tr>\n    <tr>\n      <th>Project Directory</th>\n      <td>./sample_projects/automl-local-classification</td>\n    </tr>\n    <tr>\n      <th>Resource Group</th>\n      <td>rg_amlsstudentworkspace1</td>\n    </tr>\n    <tr>\n      <th>SDK version</th>\n      <td>1.0.17</td>\n    </tr>\n    <tr>\n      <th>Subscription ID</th>\n      <td>050aedf0-1ce2-495f-a726-be8756f5ab18</td>\n    </tr>\n    <tr>\n      <th>Workspace Name</th>\n      <td>amlsstudentworkspace1</td>\n    </tr>\n  </tbody>\n</table>\n</div>",
            "text/plain": "                                                                \nExperiment Name    automl-local-classification                  \nLocation           eastus2                                      \nProject Directory  ./sample_projects/automl-local-classification\nResource Group     rg_amlsstudentworkspace1                     \nSDK version        1.0.17                                       \nSubscription ID    050aedf0-1ce2-495f-a726-be8756f5ab18         \nWorkspace Name     amlsstudentworkspace1                        "
          },
          "execution_count": 52,
          "metadata": {},
          "output_type": "execute_result"
        }
      ]
    },
    {
      "metadata": {},
      "cell_type": "markdown",
      "source": "## Connect to existing workspace."
    },
    {
      "metadata": {},
      "cell_type": "markdown",
      "source": "# Explore data\n### You already explored the data in the last lab. You need to copy the data into the cloud so it can be accessed by your cloud training environment. We saved the model training data to a csv file so all we have to do is load it."
    },
    {
      "metadata": {
        "trusted": false
      },
      "cell_type": "code",
      "source": "iimport pandas as pd\n\ndf_features = pd.read_csv(r'./BikeModelFeatures.csv')\ndf_features.head()",
      "execution_count": 3,
      "outputs": []
    },
    {
      "metadata": {
        "trusted": false
      },
      "cell_type": "code",
      "source": "from sklearn.model_selection import train_test_split\n\nx_train , x_test = train_test_split(df_features.values,test_size=0.2)       #test_size=0.5(whole_data)",
      "execution_count": 22,
      "outputs": []
    },
    {
      "metadata": {
        "trusted": false
      },
      "cell_type": "code",
      "source": "y_train = x_train[:,3]\ny_train",
      "execution_count": 31,
      "outputs": [
        {
          "data": {
            "text/plain": "array(['Touring-2000', 'Touring-1000', 'Road-550-W', ..., 'Road-650',\n       'Road-750', 'Mountain-100'], dtype=object)"
          },
          "execution_count": 31,
          "metadata": {},
          "output_type": "execute_result"
        }
      ]
    },
    {
      "metadata": {
        "trusted": false
      },
      "cell_type": "code",
      "source": "y_test = x_test[:,3]\ny_test",
      "execution_count": 32,
      "outputs": [
        {
          "data": {
            "text/plain": "array(['Touring-2000', 'Road-750', 'Mountain-200', ..., 'Mountain-200',\n       'Mountain-400-W', 'Touring-2000'], dtype=object)"
          },
          "execution_count": 32,
          "metadata": {},
          "output_type": "execute_result"
        }
      ]
    },
    {
      "metadata": {
        "trusted": false
      },
      "cell_type": "code",
      "source": "x_train = x_train[:,0:3]\nx_train",
      "execution_count": 39,
      "outputs": [
        {
          "data": {
            "text/plain": "array([['S', 'M', 'GB'],\n       ['S', 'M', 'AU'],\n       ['M', 'F', 'DE'],\n       ...,\n       ['M', 'F', 'US'],\n       ['M', 'F', 'US'],\n       ['M', 'M', 'AU']], dtype=object)"
          },
          "execution_count": 39,
          "metadata": {},
          "output_type": "execute_result"
        }
      ]
    },
    {
      "metadata": {
        "trusted": false
      },
      "cell_type": "code",
      "source": "x_test = x_test[:,0:3]\nx_test",
      "execution_count": 40,
      "outputs": [
        {
          "data": {
            "text/plain": "array([['S', 'M', 'AU'],\n       ['M', 'M', 'US'],\n       ['M', 'M', 'GB'],\n       ...,\n       ['M', 'M', 'GB'],\n       ['S', 'F', 'FR'],\n       ['M', 'F', 'AU']], dtype=object)"
          },
          "execution_count": 40,
          "metadata": {},
          "output_type": "execute_result"
        }
      ]
    },
    {
      "metadata": {
        "trusted": false
      },
      "cell_type": "code",
      "source": "print(len(x_train))\nlen(x_test)",
      "execution_count": 20,
      "outputs": [
        {
          "name": "stdout",
          "output_type": "stream",
          "text": "12164\n"
        },
        {
          "data": {
            "text/plain": "3041"
          },
          "execution_count": 20,
          "metadata": {},
          "output_type": "execute_result"
        }
      ]
    },
    {
      "metadata": {},
      "cell_type": "markdown",
      "source": "## Train\n\nInstantiate an `AutoMLConfig` object to specify the settings and data used to run the experiment.\n\n|Property|Description|\n|-|-|\n|**task**|classification or regression|\n|**primary_metric**|This is the metric that you want to optimize. Regression supports the following primary metrics: <br><i>spearman_correlation</i><br><i>normalized_root_mean_squared_error</i><br><i>r2_score</i><br><i>normalized_mean_absolute_error</i>|\n|**iteration_timeout_minutes**|Time limit in minutes for each iteration.|\n|**iterations**|Number of iterations. In each iteration AutoML trains a specific pipeline with the data.|\n|**n_cross_validations**|Number of cross validation splits.|\n|**X**|(sparse) array-like, shape = [n_samples, n_features]|\n|**y**|(sparse) array-like, shape = [n_samples, ], targets values.|\n|**path**|Relative path to the project folder. AutoML stores configuration files for the experiment under this folder. You can specify a new empty folder.|"
    },
    {
      "metadata": {
        "trusted": false
      },
      "cell_type": "code",
      "source": "automl_config = AutoMLConfig(task = 'classification',\n                             iteration_timeout_minutes = 10,\n                             iterations = 10,\n                             primary_metric = 'precision_score_weighted',\n                             n_cross_validations = 5,\n                             debug_log = 'automl.log',\n                             verbosity = logging.INFO,\n                             X = x_train, \n                             y = y_train,\n                             preprocess=True,\n                             path = project_folder)",
      "execution_count": 60,
      "outputs": []
    },
    {
      "metadata": {
        "trusted": false
      },
      "cell_type": "code",
      "source": "print('Done')",
      "execution_count": 57,
      "outputs": [
        {
          "name": "stdout",
          "output_type": "stream",
          "text": "Done\n"
        }
      ]
    },
    {
      "metadata": {},
      "cell_type": "markdown",
      "source": "Call the `submit` method on the experiment object and pass the run configuration. Execution of local runs is synchronous. Depending on the data and the number of iterations this can run for a while.\nIn this example, we specify `show_output = True` to print currently running iterations to the console."
    },
    {
      "metadata": {
        "trusted": false
      },
      "cell_type": "code",
      "source": "local_run = experiment.submit(automl_config, show_output = True)",
      "execution_count": 62,
      "outputs": [
        {
          "name": "stdout",
          "output_type": "stream",
          "text": "Running on local machine\nParent Run ID: AutoML_2e1a8864-811d-45cf-adf6-4a161a165ef6\n********************************************************************************************************************\nITERATION: The iteration being evaluated.\nPIPELINE: A summary description of the pipeline being evaluated.\nSAMPLING %: Percent of the training data to sample.\nDURATION: Time taken for the current iteration.\nMETRIC: The result of computing score on the fitted pipeline.\nBEST: The best observed score thus far.\n********************************************************************************************************************\n\n ITERATION   PIPELINE                                       SAMPLING %  DURATION      METRIC      BEST\n         0   MaxAbsScaler SGD                               100.0000    0:00:34       0.0976    0.0976\n         1   MaxAbsScaler ExtremeRandomTrees                100.0000    0:00:26       0.0110    0.0976\n         2   MaxAbsScaler SGD                               100.0000    0:00:20       0.0733    0.0976\n         3   MaxAbsScaler SGD                               100.0000    0:00:23       0.0543    0.0976\n         4   MaxAbsScaler RandomForest                      100.0000    0:00:25       0.0086    0.0976\n         5   MaxAbsScaler RandomForest                      100.0000    0:00:29       0.0117    0.0976\n         6   MaxAbsScaler SGD                               100.0000    0:00:21       0.0543    0.0976\n         7   MaxAbsScaler BernoulliNaiveBayes               100.0000    0:00:20       0.0235    0.0976\n         8   StandardScalerWrapper BernoulliNaiveBayes      100.0000    0:00:19       0.0241    0.0976\n         9   Ensemble                                       100.0000    0:00:35       0.1089    0.1089\n"
        }
      ]
    },
    {
      "metadata": {
        "trusted": false
      },
      "cell_type": "code",
      "source": "local_run",
      "execution_count": 63,
      "outputs": [
        {
          "data": {
            "text/html": "<table style=\"width:100%\"><tr><th>Experiment</th><th>Id</th><th>Type</th><th>Status</th><th>Details Page</th><th>Docs Page</th></tr><tr><td>automl-local-classification</td><td>AutoML_2e1a8864-811d-45cf-adf6-4a161a165ef6</td><td>automl</td><td>Completed</td><td><a href=\"https://mlworkspace.azure.ai/portal/subscriptions/050aedf0-1ce2-495f-a726-be8756f5ab18/resourceGroups/rg_amlsstudentworkspace1/providers/Microsoft.MachineLearningServices/workspaces/amlsstudentworkspace1/experiments/automl-local-classification/runs/AutoML_2e1a8864-811d-45cf-adf6-4a161a165ef6\" target=\"_blank\" rel=\"noopener\">Link to Azure Portal</a></td><td><a href=\"https://docs.microsoft.com/en-us/python/api/overview/azure/ml/intro?view=azure-ml-py\" target=\"_blank\" rel=\"noopener\">Link to Documentation</a></td></tr></table>",
            "text/plain": "Run(Experiment: automl-local-classification,\nId: AutoML_2e1a8864-811d-45cf-adf6-4a161a165ef6,\nType: automl,\nStatus: Completed)"
          },
          "execution_count": 63,
          "metadata": {},
          "output_type": "execute_result"
        }
      ]
    },
    {
      "metadata": {},
      "cell_type": "markdown",
      "source": "## Results"
    },
    {
      "metadata": {},
      "cell_type": "markdown",
      "source": "#### Widget for Monitoring Runs\n\nThe widget will first report a \"loading\" status while running the first iteration. After completing the first iteration, an auto-updating graph and table will be shown. The widget will refresh once per minute, so you should see the graph update as child runs complete.\n\n**Note:** The widget displays a link at the bottom. Use this link to open a web interface to explore the individual run details."
    },
    {
      "metadata": {
        "trusted": false
      },
      "cell_type": "code",
      "source": "from azureml.widgets import RunDetails\nRunDetails(local_run).show() ",
      "execution_count": 15,
      "outputs": [
        {
          "data": {
            "application/vnd.jupyter.widget-view+json": {
              "model_id": "3e07c331893d424c8f1fa971a7861db0",
              "version_major": 2,
              "version_minor": 0
            },
            "text/plain": "_AutoMLWidget(widget_settings={'childWidgetDisplay': 'popup', 'send_telemetry': False, 'log_level': 'INFO', 's…"
          },
          "metadata": {},
          "output_type": "display_data"
        }
      ]
    },
    {
      "metadata": {},
      "cell_type": "markdown",
      "source": "\n#### Retrieve All Child Runs\nYou can also use SDK methods to fetch all the child runs and see individual metrics that we log."
    },
    {
      "metadata": {
        "trusted": false
      },
      "cell_type": "code",
      "source": "children = list(local_run.get_children())\nmetricslist = {}\nfor run in children:\n    properties = run.get_properties()\n    metrics = {k: v for k, v in run.get_metrics().items() if isinstance(v, float)}\n    metricslist[int(properties['iteration'])] = metrics\n\nrundata = pd.DataFrame(metricslist).sort_index(1)\nrundata",
      "execution_count": 16,
      "outputs": [
        {
          "data": {
            "text/html": "<div>\n<style scoped>\n    .dataframe tbody tr th:only-of-type {\n        vertical-align: middle;\n    }\n\n    .dataframe tbody tr th {\n        vertical-align: top;\n    }\n\n    .dataframe thead th {\n        text-align: right;\n    }\n</style>\n<table border=\"1\" class=\"dataframe\">\n  <thead>\n    <tr style=\"text-align: right;\">\n      <th></th>\n      <th>0</th>\n      <th>1</th>\n      <th>2</th>\n      <th>3</th>\n      <th>4</th>\n      <th>5</th>\n      <th>6</th>\n      <th>7</th>\n      <th>8</th>\n      <th>9</th>\n    </tr>\n  </thead>\n  <tbody>\n    <tr>\n      <th>explained_variance</th>\n      <td>0.50</td>\n      <td>0.48</td>\n      <td>0.48</td>\n      <td>0.49</td>\n      <td>-0.03</td>\n      <td>0.54</td>\n      <td>0.45</td>\n      <td>0.52</td>\n      <td>0.54</td>\n      <td>0.53</td>\n    </tr>\n    <tr>\n      <th>mean_absolute_error</th>\n      <td>45.89</td>\n      <td>46.43</td>\n      <td>47.35</td>\n      <td>46.27</td>\n      <td>62.63</td>\n      <td>43.64</td>\n      <td>46.07</td>\n      <td>45.17</td>\n      <td>43.64</td>\n      <td>44.33</td>\n    </tr>\n    <tr>\n      <th>median_absolute_error</th>\n      <td>41.60</td>\n      <td>39.25</td>\n      <td>43.73</td>\n      <td>40.70</td>\n      <td>51.00</td>\n      <td>37.72</td>\n      <td>39.72</td>\n      <td>41.39</td>\n      <td>37.67</td>\n      <td>39.80</td>\n    </tr>\n    <tr>\n      <th>normalized_mean_absolute_error</th>\n      <td>0.14</td>\n      <td>0.14</td>\n      <td>0.15</td>\n      <td>0.14</td>\n      <td>0.20</td>\n      <td>0.14</td>\n      <td>0.14</td>\n      <td>0.14</td>\n      <td>0.14</td>\n      <td>0.14</td>\n    </tr>\n    <tr>\n      <th>normalized_median_absolute_error</th>\n      <td>0.13</td>\n      <td>0.12</td>\n      <td>0.14</td>\n      <td>0.13</td>\n      <td>0.16</td>\n      <td>0.12</td>\n      <td>0.12</td>\n      <td>0.13</td>\n      <td>0.12</td>\n      <td>0.12</td>\n    </tr>\n    <tr>\n      <th>normalized_root_mean_squared_error</th>\n      <td>0.17</td>\n      <td>0.18</td>\n      <td>0.18</td>\n      <td>0.18</td>\n      <td>0.25</td>\n      <td>0.17</td>\n      <td>0.18</td>\n      <td>0.17</td>\n      <td>0.17</td>\n      <td>0.17</td>\n    </tr>\n    <tr>\n      <th>normalized_root_mean_squared_log_error</th>\n      <td>0.17</td>\n      <td>0.17</td>\n      <td>0.17</td>\n      <td>0.17</td>\n      <td>0.23</td>\n      <td>0.16</td>\n      <td>0.17</td>\n      <td>0.16</td>\n      <td>0.16</td>\n      <td>0.16</td>\n    </tr>\n    <tr>\n      <th>r2_score</th>\n      <td>0.48</td>\n      <td>0.46</td>\n      <td>0.45</td>\n      <td>0.47</td>\n      <td>-0.06</td>\n      <td>0.52</td>\n      <td>0.43</td>\n      <td>0.50</td>\n      <td>0.52</td>\n      <td>0.51</td>\n    </tr>\n    <tr>\n      <th>root_mean_squared_error</th>\n      <td>55.44</td>\n      <td>56.84</td>\n      <td>57.18</td>\n      <td>56.22</td>\n      <td>79.60</td>\n      <td>53.31</td>\n      <td>58.35</td>\n      <td>54.54</td>\n      <td>53.30</td>\n      <td>54.06</td>\n    </tr>\n    <tr>\n      <th>root_mean_squared_log_error</th>\n      <td>0.43</td>\n      <td>0.43</td>\n      <td>0.44</td>\n      <td>0.44</td>\n      <td>0.59</td>\n      <td>0.42</td>\n      <td>0.44</td>\n      <td>0.43</td>\n      <td>0.42</td>\n      <td>0.42</td>\n    </tr>\n    <tr>\n      <th>spearman_correlation</th>\n      <td>0.70</td>\n      <td>0.68</td>\n      <td>0.67</td>\n      <td>0.68</td>\n      <td>0.46</td>\n      <td>0.72</td>\n      <td>0.68</td>\n      <td>0.70</td>\n      <td>0.72</td>\n      <td>0.71</td>\n    </tr>\n  </tbody>\n</table>\n</div>",
            "text/plain": "                                           0     1     2     3     4     5  \\\nexplained_variance                     0.50  0.48  0.48  0.49  -0.03 0.54    \nmean_absolute_error                    45.89 46.43 47.35 46.27 62.63 43.64   \nmedian_absolute_error                  41.60 39.25 43.73 40.70 51.00 37.72   \nnormalized_mean_absolute_error         0.14  0.14  0.15  0.14  0.20  0.14    \nnormalized_median_absolute_error       0.13  0.12  0.14  0.13  0.16  0.12    \nnormalized_root_mean_squared_error     0.17  0.18  0.18  0.18  0.25  0.17    \nnormalized_root_mean_squared_log_error 0.17  0.17  0.17  0.17  0.23  0.16    \nr2_score                               0.48  0.46  0.45  0.47  -0.06 0.52    \nroot_mean_squared_error                55.44 56.84 57.18 56.22 79.60 53.31   \nroot_mean_squared_log_error            0.43  0.43  0.44  0.44  0.59  0.42    \nspearman_correlation                   0.70  0.68  0.67  0.68  0.46  0.72    \n\n                                           6     7     8     9  \nexplained_variance                     0.45  0.52  0.54  0.53   \nmean_absolute_error                    46.07 45.17 43.64 44.33  \nmedian_absolute_error                  39.72 41.39 37.67 39.80  \nnormalized_mean_absolute_error         0.14  0.14  0.14  0.14   \nnormalized_median_absolute_error       0.12  0.13  0.12  0.12   \nnormalized_root_mean_squared_error     0.18  0.17  0.17  0.17   \nnormalized_root_mean_squared_log_error 0.17  0.16  0.16  0.16   \nr2_score                               0.43  0.50  0.52  0.51   \nroot_mean_squared_error                58.35 54.54 53.30 54.06  \nroot_mean_squared_log_error            0.44  0.43  0.42  0.42   \nspearman_correlation                   0.68  0.70  0.72  0.71   "
          },
          "execution_count": 16,
          "metadata": {},
          "output_type": "execute_result"
        }
      ]
    },
    {
      "metadata": {},
      "cell_type": "markdown",
      "source": "### Retrieve the Best Model\n\nBelow we select the best pipeline from our iterations. The `get_output` method returns the best run and the fitted model. The Model includes the pipeline and any pre-processing.  Overloads on `get_output` allow you to retrieve the best run and fitted model for *any* logged metric or for a particular *iteration*."
    },
    {
      "metadata": {
        "trusted": false
      },
      "cell_type": "code",
      "source": "best_run, fitted_model = local_run.get_output()\nprint(best_run)\nprint(fitted_model)",
      "execution_count": 17,
      "outputs": [
        {
          "name": "stdout",
          "output_type": "stream",
          "text": "Run(Experiment: automl-local-regression,\nId: AutoML_64ef6e81-abdf-47b5-a4a6-acb0cd127f66_8,\nType: None,\nStatus: Completed)\nPipeline(memory=None,\n     steps=[('StandardScalerWrapper', <automl.client.core.common.model_wrappers.StandardScalerWrapper object at 0x7fbd8ff38780>), ('LassoLars', LassoLars(alpha=0.001, copy_X=True, eps=2.220446049250313e-16,\n     fit_intercept=True, fit_path=True, max_iter=500, normalize=False,\n     positive=False, precompute='auto', verbose=False))])\n"
        }
      ]
    },
    {
      "metadata": {},
      "cell_type": "markdown",
      "source": "#### Best Model Based on Any Other Metric\nShow the run and the model that has the smallest `root_mean_squared_error` value (which turned out to be the same as the one with largest `spearman_correlation` value):"
    },
    {
      "metadata": {
        "trusted": false
      },
      "cell_type": "code",
      "source": "lookup_metric = \"root_mean_squared_error\"\nbest_run, fitted_model = local_run.get_output(metric = lookup_metric)\nprint(best_run)\nprint(fitted_model)",
      "execution_count": 18,
      "outputs": [
        {
          "name": "stdout",
          "output_type": "stream",
          "text": "Run(Experiment: automl-local-regression,\nId: AutoML_64ef6e81-abdf-47b5-a4a6-acb0cd127f66_8,\nType: None,\nStatus: Completed)\nPipeline(memory=None,\n     steps=[('StandardScalerWrapper', <automl.client.core.common.model_wrappers.StandardScalerWrapper object at 0x7fbd8fef6160>), ('LassoLars', LassoLars(alpha=0.001, copy_X=True, eps=2.220446049250313e-16,\n     fit_intercept=True, fit_path=True, max_iter=500, normalize=False,\n     positive=False, precompute='auto', verbose=False))])\n"
        }
      ]
    },
    {
      "metadata": {},
      "cell_type": "markdown",
      "source": "#### Model from a Specific Iteration\nShow the run and the model from the third iteration:"
    },
    {
      "metadata": {
        "trusted": false
      },
      "cell_type": "code",
      "source": "iteration = 3\nthird_run, third_model = local_run.get_output(iteration = iteration)\nprint(third_run)\nprint(third_model)",
      "execution_count": 19,
      "outputs": [
        {
          "name": "stdout",
          "output_type": "stream",
          "text": "Run(Experiment: automl-local-regression,\nId: AutoML_64ef6e81-abdf-47b5-a4a6-acb0cd127f66_3,\nType: None,\nStatus: Completed)\nPipeline(memory=None,\n     steps=[('StandardScalerWrapper', <automl.client.core.common.model_wrappers.StandardScalerWrapper object at 0x7fbd8fe8e0b8>), ('LightGBMRegressor', <automl.client.core.common.model_wrappers.LightGBMRegressor object at 0x7fbd8fecd160>)])\n"
        }
      ]
    },
    {
      "metadata": {},
      "cell_type": "markdown",
      "source": "## Test"
    },
    {
      "metadata": {},
      "cell_type": "markdown",
      "source": "Predict on training and test set, and calculate model accuracy."
    },
    {
      "metadata": {
        "trusted": true
      },
      "cell_type": "code",
      "source": "y_predtest = fitted_model.predict(x_test)",
      "execution_count": null,
      "outputs": []
    },
    {
      "metadata": {
        "trusted": false
      },
      "cell_type": "code",
      "source": "# calculate accuracy on the prediction\nacc = np.average(y_predtest == y_test)\nprint('Accuracy is', acc)",
      "execution_count": null,
      "outputs": []
    }
  ],
  "metadata": {
    "authors": [
      {
        "name": "savitam"
      }
    ],
    "kernelspec": {
      "name": "python36",
      "display_name": "Python 3.6",
      "language": "python"
    },
    "language_info": {
      "mimetype": "text/x-python",
      "nbconvert_exporter": "python",
      "name": "python",
      "pygments_lexer": "ipython3",
      "version": "3.6.6",
      "file_extension": ".py",
      "codemirror_mode": {
        "version": 3,
        "name": "ipython"
      }
    }
  },
  "nbformat": 4,
  "nbformat_minor": 2
}